{
  "nbformat": 4,
  "nbformat_minor": 0,
  "metadata": {
    "colab": {
      "name": "Untitled0.ipynb",
      "provenance": [],
      "authorship_tag": "ABX9TyOPn7wBDK4Oq6keHLogqD2W",
      "include_colab_link": true
    },
    "kernelspec": {
      "name": "python3",
      "display_name": "Python 3"
    },
    "language_info": {
      "name": "python"
    }
  },
  "cells": [
    {
      "cell_type": "markdown",
      "metadata": {
        "id": "view-in-github",
        "colab_type": "text"
      },
      "source": [
        "<a href=\"https://colab.research.google.com/github/AmandinChyba/Project1-Fields-2022/blob/main/BIEM_attempt.ipynb\" target=\"_parent\"><img src=\"https://colab.research.google.com/assets/colab-badge.svg\" alt=\"Open In Colab\"/></a>"
      ]
    },
    {
      "cell_type": "code",
      "execution_count": 2,
      "metadata": {
        "id": "DO2XKVJKNZUv"
      },
      "outputs": [],
      "source": [
        "import jax.numpy as jnp\n",
        "import jax.random as jrandom\n",
        "import numpy as np\n",
        "import jax\n",
        "\n",
        "import matplotlib.pyplot as plt"
      ]
    },
    {
      "cell_type": "code",
      "source": [
        "# parametrized boundary\n",
        "def boundary(t):\n",
        "  x = (1 + np.sin(10*np.pi*t)/4) * np.cos(2*np.pi*t)\n",
        "  y = (1 + np.sin(10*np.pi*t)/4) * np.sin(2*np.pi*t)\n",
        "  return x,y\n",
        "  #return np.array([x,y])\n",
        "\n",
        "# boundary condition\n",
        "def boundaryCond(x,y):\n",
        "  #points = boundary(t)\n",
        "  #x = points[0]\n",
        "  #y = points[1]\n",
        "  return np.power(x,2) - np.power(y,2)\n",
        "\n",
        "# normal vector\n",
        "def differentiate(x,y):\n",
        "  dx = np.gradient(x)\n",
        "  dy = np.gradient(y)\n",
        "  normal = np.divide(-1, np.array([dx,dy]))\n",
        "  d2 = np.gradient(np.array([dx,dy]))\n",
        "  return normal, d2[1]"
      ],
      "metadata": {
        "id": "IQFHygrOm_B7"
      },
      "execution_count": 12,
      "outputs": []
    },
    {
      "cell_type": "code",
      "source": [
        "# number of points\n",
        "K = 3\n",
        "\n",
        "# list of points\n",
        "t = np.arange(K)/K\n",
        "x,y = boundary(t)\n",
        "\n",
        "# spacing of t\n",
        "h = (t[-1] - t[0])/(K-1)\n",
        "\n",
        "# get the normal and second derivative of the points on the boundary\n",
        "normal, curvature = differentiate(x,y)\n",
        "xNormal = normal[0]\n",
        "yNormal = normal[1]\n",
        "xCurv = curvature[0]\n",
        "yCurv = curvature[1]\n",
        "#print('boundary',boundary(t))\n",
        "#print(normal)\n",
        "#print(curvature)\n",
        "\n",
        "# create the \"jump\" identity matrix\n",
        "I = np.diag([-0.5]*K)\n",
        "\n",
        "# calculate the integration kernel\n",
        "i = np.arange(K).reshape((1,K))\n",
        "j = i.transpose()\n",
        "\n",
        "#print('i',i)\n",
        "#print('j',j)\n",
        "#print('normal',normal[:,y])\n",
        "#print('test',1/(boundary(t[x])-boundary(t[y])))\n",
        "#K = (normal[0,i]*(boundary(t[j])[0]-boundary(t[i])[0])*h + normal[1,i]*(boundary(t[j])[1]-boundary(t[i])[1])*h)/(2 * np.pi * (np.power(boundary(t[j])[0]-boundary(t[i])[0], 2) + np.power(boundary(t[j])[1]-boundary(t[i])[1], 2)))\n",
        "K = (xNormal[i] * h * (x[j]-x[i]) + yNormal[i] * h * (y[j]-y[i])) / (2 * np.pi * (np.power(x[j]-x[i], 2) + np.power(y[j]-y[i], 2)))\n",
        "K = np.nan_to_num(K, 0)\n",
        "\n",
        "a = I+K\n",
        "b = boundaryCond(x,y)\n",
        "soln = np.linalg.solve(a, b)\n",
        "print(soln)"
      ],
      "metadata": {
        "colab": {
          "base_uri": "https://localhost:8080/"
        },
        "id": "ZCoUdkr-O-od",
        "outputId": "5217993b-0630-4026-b358-9f03b31bd68d"
      },
      "execution_count": 15,
      "outputs": [
        {
          "output_type": "stream",
          "name": "stdout",
          "text": [
            "[-1.67070131  0.85610508  1.3547897 ]\n"
          ]
        },
        {
          "output_type": "stream",
          "name": "stderr",
          "text": [
            "/usr/local/lib/python3.7/dist-packages/ipykernel_launcher.py:33: RuntimeWarning: invalid value encountered in true_divide\n"
          ]
        }
      ]
    },
    {
      "cell_type": "code",
      "source": [
        ""
      ],
      "metadata": {
        "id": "mz7tYwLJJ_XT"
      },
      "execution_count": null,
      "outputs": []
    }
  ]
}