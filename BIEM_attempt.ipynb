{
  "nbformat": 4,
  "nbformat_minor": 0,
  "metadata": {
    "colab": {
      "name": "Untitled0.ipynb",
      "provenance": [],
      "authorship_tag": "ABX9TyN0vrTaXMrajU1cB8L6Tlb/",
      "include_colab_link": true
    },
    "kernelspec": {
      "name": "python3",
      "display_name": "Python 3"
    },
    "language_info": {
      "name": "python"
    }
  },
  "cells": [
    {
      "cell_type": "markdown",
      "metadata": {
        "id": "view-in-github",
        "colab_type": "text"
      },
      "source": [
        "<a href=\"https://colab.research.google.com/github/AmandinChyba/Project1-Fields-2022/blob/main/BIEM_attempt.ipynb\" target=\"_parent\"><img src=\"https://colab.research.google.com/assets/colab-badge.svg\" alt=\"Open In Colab\"/></a>"
      ]
    },
    {
      "cell_type": "code",
      "execution_count": 16,
      "metadata": {
        "id": "DO2XKVJKNZUv"
      },
      "outputs": [],
      "source": [
        "import jax.numpy as jnp\n",
        "import jax.random as jrandom\n",
        "import numpy as np\n",
        "import jax\n",
        "\n",
        "import matplotlib.pyplot as plt"
      ]
    },
    {
      "cell_type": "code",
      "source": [
        "# parametrized boundary\n",
        "def boundary(t):\n",
        "  x = (1 + np.sin(10*np.pi*t)/4) * np.cos(2*np.pi*t)\n",
        "  y = (1 + np.sin(10*np.pi*t)/4) * np.sin(2*np.pi*t)\n",
        "  return x,y\n",
        "\n",
        "# boundary condition\n",
        "def boundaryCond(x,y):\n",
        "  return np.power(x,2) - np.power(y,2)\n",
        "\n",
        "# normal vector\n",
        "def differentiate(x,y):\n",
        "  dx = np.gradient(x)\n",
        "  dy = np.gradient(y)\n",
        "  #normal = np.divide(-1, np.array([dx,dy]))\n",
        "  normal = np.array([-dy, dx])\n",
        "  d2 = np.gradient(np.array([dx,dy]))\n",
        "  return normal, d2[1]"
      ],
      "metadata": {
        "id": "IQFHygrOm_B7"
      },
      "execution_count": 17,
      "outputs": []
    },
    {
      "cell_type": "code",
      "source": [
        "# number of points\n",
        "K = 10\n",
        "\n",
        "# list of points\n",
        "t = np.arange(K)/(K-1)\n",
        "x,y = boundary(t)\n",
        "\n",
        "# spacing of t\n",
        "h = (t[-1] - t[0])/(K-1)\n",
        "\n",
        "# get the normal and second derivative of the points on the boundary\n",
        "normal, d2 = differentiate(x,y)\n",
        "xNormal = normal[0]\n",
        "yNormal = normal[1]\n",
        "\n",
        "# create the \"jump\" identity matrix\n",
        "I = np.diag([-0.5]*K)\n",
        "\n",
        "# calculate the integration kernel\n",
        "i = np.arange(K).reshape((1,K))\n",
        "j = i.transpose()\n",
        "K = h * (xNormal[i] * (x[j]-x[i]) + yNormal[i] * (y[j]-y[i])) / (2 * np.pi * (np.power(x[j]-x[i], 2) + np.power(y[j]-y[i], 2)))\n",
        "K = np.nan_to_num(K, 0)\n",
        "\n",
        "# solve for the charge density\n",
        "a = I+K\n",
        "b = boundaryCond(x,y)\n",
        "soln = np.linalg.solve(a, b)\n",
        "print('solution',soln)"
      ],
      "metadata": {
        "colab": {
          "base_uri": "https://localhost:8080/"
        },
        "id": "ZCoUdkr-O-od",
        "outputId": "13b59e92-e51a-4440-9f9b-e900ab12a42d"
      },
      "execution_count": 21,
      "outputs": [
        {
          "output_type": "stream",
          "name": "stdout",
          "text": [
            "solution [ 3.54682380e-14 -2.44307231e-01  2.52187333e+00  6.29941428e-01\n",
            " -2.33957713e+00 -8.29475038e-01  1.49070935e+00  1.34237069e+00\n",
            " -3.97908823e-01 -4.99409971e-14]\n"
          ]
        },
        {
          "output_type": "stream",
          "name": "stderr",
          "text": [
            "/usr/local/lib/python3.7/dist-packages/ipykernel_launcher.py:32: RuntimeWarning: invalid value encountered in true_divide\n"
          ]
        }
      ]
    },
    {
      "cell_type": "code",
      "source": [
        ""
      ],
      "metadata": {
        "id": "mz7tYwLJJ_XT"
      },
      "execution_count": null,
      "outputs": []
    }
  ]
}