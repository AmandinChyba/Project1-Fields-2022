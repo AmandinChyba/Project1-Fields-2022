{
  "nbformat": 4,
  "nbformat_minor": 0,
  "metadata": {
    "colab": {
      "name": "Untitled0.ipynb",
      "provenance": [],
      "authorship_tag": "ABX9TyOL35MsHPhi8NqIWs/NpxlW",
      "include_colab_link": true
    },
    "kernelspec": {
      "name": "python3",
      "display_name": "Python 3"
    },
    "language_info": {
      "name": "python"
    }
  },
  "cells": [
    {
      "cell_type": "markdown",
      "metadata": {
        "id": "view-in-github",
        "colab_type": "text"
      },
      "source": [
        "<a href=\"https://colab.research.google.com/github/AmandinChyba/Project1-Fields-2022/blob/main/BIEM_attempt.ipynb\" target=\"_parent\"><img src=\"https://colab.research.google.com/assets/colab-badge.svg\" alt=\"Open In Colab\"/></a>"
      ]
    },
    {
      "cell_type": "code",
      "execution_count": 2,
      "metadata": {
        "id": "DO2XKVJKNZUv"
      },
      "outputs": [],
      "source": [
        "import jax.numpy as jnp\n",
        "import jax.random as jrandom\n",
        "import numpy as np\n",
        "import jax\n",
        "\n",
        "import matplotlib.pyplot as plt"
      ]
    },
    {
      "cell_type": "code",
      "source": [
        "# parametrized boundary\n",
        "def boundary(t):\n",
        "  x = (1 + np.sin(10*np.pi*t)/4) * np.cos(2*np.pi*t)\n",
        "  y = (1 + np.sin(10*np.pi*t)/4) * np.sin(2*np.pi*t)\n",
        "  return x,y\n",
        "\n",
        "# boundary condition\n",
        "def boundaryCond(x,y):\n",
        "  return np.power(x,2) - np.power(y,2)\n",
        "\n",
        "# compute the normal and curvature by differentiation\n",
        "def differentiate(x,y,h):\n",
        "  dx = np.gradient(x)\n",
        "  dy = np.gradient(y)\n",
        "  dxdx = np.gradient(dx)\n",
        "  dydy = np.gradient(dy)\n",
        "\n",
        "  normal = np.array([dy, -dx])\n",
        "  r3 = np.power(np.power(dx,2) + np.power(dy,2), 1.5)\n",
        "  crossP = dx*dydy - dy*dxdx\n",
        "  curvature = crossP / r3\n",
        "\n",
        "  return normal, curvature\n",
        "\n",
        "def thing(x,y):\n",
        "  dx = np.gradient(x)\n",
        "  dy = np.gradient(y)\n",
        "  result = np.sqrt(np.sum(np.power(dx,2) + np.power(dy,2)))\n",
        "  return result"
      ],
      "metadata": {
        "id": "IQFHygrOm_B7"
      },
      "execution_count": 37,
      "outputs": []
    },
    {
      "cell_type": "code",
      "source": [
        "# number of points\n",
        "K = 100\n",
        "\n",
        "# list of points\n",
        "t = np.arange(K)/(K)\n",
        "x,y = boundary(t)\n",
        "\n",
        "# spacing of t\n",
        "h = 1/(K-1)\n",
        "dl = thing(x,y) * h #this is totaly wrong\n",
        "\n",
        "# get the normal and second derivative of the points on the boundary\n",
        "normal, curvature = differentiate(x,y,h)\n",
        "xNormal = normal[0]\n",
        "yNormal = normal[1]\n",
        "\n",
        "# create the \"jump\" identity matrix\n",
        "I = np.diag([-0.5]*K)\n",
        "\n",
        "# calculate the integration kernel\n",
        "i = np.arange(K).reshape((1,K)).transpose()\n",
        "K = (xNormal * (x[i]-x) + yNormal * (y[i]-y)) / (2 * np.pi * (np.power(x[i]-x, 2) + np.power(y[i]-y, 2)))\n",
        "\n",
        "#print(x)\n",
        "#print(y)\n",
        "#plt.scatter(x,y)\n",
        "\n",
        "K = np.nan_to_num(K, 0)\n",
        "K = np.add(K, np.diag(- curvature * h / (4 * np.pi)))\n",
        "\n",
        "# solve for the charge density\n",
        "a = I+K\n",
        "b = boundaryCond(x,y)\n",
        "chargeD = np.linalg.solve(a, b)\n",
        "#print(chargeD)\n",
        "\n",
        "# compute the solution\n",
        "xPoint = np.array([0.1])\n",
        "yPoint = np.array([0.6])\n",
        "integral = (xNormal * (xPoint-x) + yNormal * (yPoint-y)) * chargeD / (2 * np.pi * (np.power(xPoint-x, 2) + np.power(yPoint-y, 2)))\n",
        "soln = np.sum(integral)\n",
        "print(soln)\n",
        "print(boundaryCond(xPoint,yPoint))"
      ],
      "metadata": {
        "colab": {
          "base_uri": "https://localhost:8080/"
        },
        "id": "ZCoUdkr-O-od",
        "outputId": "1a4544e4-228d-4408-fef9-7664423a99b0"
      },
      "execution_count": 39,
      "outputs": [
        {
          "output_type": "stream",
          "name": "stdout",
          "text": [
            "-0.34952994704947304\n",
            "[-0.35]\n"
          ]
        },
        {
          "output_type": "stream",
          "name": "stderr",
          "text": [
            "/usr/local/lib/python3.7/dist-packages/ipykernel_launcher.py:22: RuntimeWarning: invalid value encountered in true_divide\n"
          ]
        }
      ]
    },
    {
      "cell_type": "code",
      "source": [
        ""
      ],
      "metadata": {
        "id": "mz7tYwLJJ_XT"
      },
      "execution_count": 36,
      "outputs": []
    }
  ]
}