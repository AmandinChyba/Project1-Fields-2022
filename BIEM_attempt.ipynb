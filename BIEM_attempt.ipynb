{
  "nbformat": 4,
  "nbformat_minor": 0,
  "metadata": {
    "colab": {
      "name": "Untitled0.ipynb",
      "provenance": [],
      "authorship_tag": "ABX9TyNKw1uOj2r+5Z7mU3SoG5Ju",
      "include_colab_link": true
    },
    "kernelspec": {
      "name": "python3",
      "display_name": "Python 3"
    },
    "language_info": {
      "name": "python"
    }
  },
  "cells": [
    {
      "cell_type": "markdown",
      "metadata": {
        "id": "view-in-github",
        "colab_type": "text"
      },
      "source": [
        "<a href=\"https://colab.research.google.com/github/AmandinChyba/Project1-Fields-2022/blob/main/BIEM_attempt.ipynb\" target=\"_parent\"><img src=\"https://colab.research.google.com/assets/colab-badge.svg\" alt=\"Open In Colab\"/></a>"
      ]
    },
    {
      "cell_type": "code",
      "execution_count": 2,
      "metadata": {
        "id": "DO2XKVJKNZUv"
      },
      "outputs": [],
      "source": [
        "import jax.numpy as jnp\n",
        "import jax.random as jrandom\n",
        "import numpy as np\n",
        "import jax\n",
        "\n",
        "import matplotlib.pyplot as plt"
      ]
    },
    {
      "cell_type": "code",
      "source": [
        "# parametrized boundary\n",
        "def boundary(t):\n",
        "  x = (1 + np.sin(10*np.pi*t)/4) * np.cos(2*np.pi*t)\n",
        "  y = (1 + np.sin(10*np.pi*t)/4) * np.sin(2*np.pi*t)\n",
        "  return np.array([x,y])\n",
        "\n",
        "# boundary condition\n",
        "def boundaryCond(t):\n",
        "  points = boundary(t)\n",
        "  x = points[0]\n",
        "  y = points[1]\n",
        "  return np.power(x,2) - np.power(y,2)\n",
        "\n",
        "# normal vector\n",
        "def differentiate(t):\n",
        "  points = boundary(t)\n",
        "  x = points[0]\n",
        "  y = points[1]\n",
        "  d1 = np.gradient(points)\n",
        "  normal = np.divide(-1, d1[1])\n",
        "  d2 = np.gradient(np.array([d1[1][0],d1[1][1]]))\n",
        "  return normal, d2[1]"
      ],
      "metadata": {
        "id": "IQFHygrOm_B7"
      },
      "execution_count": 17,
      "outputs": []
    },
    {
      "cell_type": "code",
      "source": [
        "# number of points\n",
        "K = 3\n",
        "\n",
        "# list of points, t -> x,y\n",
        "t = np.arange(K)/K\n",
        "\n",
        "# spacing of t\n",
        "h = (t[-1] - t[0])/(K-1)\n",
        "\n",
        "# get the normal and second derivative of the points on the boundary\n",
        "normal, curvature = differentiate(t)\n",
        "#print('boundary',boundary(t))\n",
        "#print(normal)\n",
        "#print(curvature)\n",
        "\n",
        "# create the \"jump\" identity matrix\n",
        "I = np.diag([-0.5]*K)\n",
        "\n",
        "# calculate the integration kernel\n",
        "y = np.arange(K).reshape((1,K))\n",
        "x = y.transpose()\n",
        "#K = normal[y]*(t[x]-t[y])*h/(2 * np.pi * np.power(t[x]-t[y], 2))\n",
        "\n",
        "#print('y',y)\n",
        "#print('x',x)\n",
        "#print('normal',normal[:,y])\n",
        "#print('test',1/(boundary(t[x])-boundary(t[y])))\n",
        "K = (normal[0,y]*(boundary(t[x])[0]-boundary(t[y])[0])*h + normal[0,y]*(boundary(t[x])[1]-boundary(t[y])[1])*h)/(2 * np.pi * (np.power(boundary(t[x])[0]-boundary(t[y])[0], 2) + np.power(boundary(t[x])[1]-boundary(t[y])[1], 2)))\n",
        "K = np.nan_to_num(K, 0)\n",
        "\n",
        "'''\n",
        "K = []\n",
        "for i in range(len(t)):\n",
        "  k = []\n",
        "  for j in range(len(t)):\n",
        "    # need to deal for when i == j\n",
        "    lol = n(t[j])*(t[i]-t[j])/(2 * np.pi * np.dot(t[i]-t[j], t[i]-t[j]))\n",
        "    k.append(lol)\n",
        "  K.append(k)\n",
        "K = np.array(K)\n",
        "print()\n",
        "print(K)\n",
        "'''\n",
        "\n",
        "a = I+K\n",
        "b = boundaryCond(t)\n",
        "soln = np.linalg.solve(a, b)\n",
        "print(soln)"
      ],
      "metadata": {
        "colab": {
          "base_uri": "https://localhost:8080/"
        },
        "id": "ZCoUdkr-O-od",
        "outputId": "55f83bfb-2d67-45b7-9d5b-a7fd73091116"
      },
      "execution_count": 34,
      "outputs": [
        {
          "output_type": "stream",
          "name": "stdout",
          "text": [
            "boundary [[ 1.         -0.39174682 -0.60825318]\n",
            " [ 0.          0.6785254  -1.0535254 ]]\n",
            "y [[0 1 2]]\n",
            "x [[0]\n",
            " [1]\n",
            " [2]]\n",
            "[-1.43938233  1.10584405  1.46559181]\n"
          ]
        },
        {
          "output_type": "stream",
          "name": "stderr",
          "text": [
            "/usr/local/lib/python3.7/dist-packages/ipykernel_launcher.py:27: RuntimeWarning: invalid value encountered in true_divide\n"
          ]
        }
      ]
    },
    {
      "cell_type": "code",
      "source": [
        ""
      ],
      "metadata": {
        "id": "mz7tYwLJJ_XT"
      },
      "execution_count": null,
      "outputs": []
    }
  ]
}