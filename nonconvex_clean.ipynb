{
  "nbformat": 4,
  "nbformat_minor": 0,
  "metadata": {
    "colab": {
      "provenance": [],
      "collapsed_sections": [
        "baG64vpHlfkn",
        "dm_SOyDik7I9",
        "SJLXGsjYmUwm",
        "z3ngEAP2N10m",
        "qtRYpIMmvjS0"
      ],
      "authorship_tag": "ABX9TyNqKhkz3zzqAqfGKSYDDohs",
      "include_colab_link": true
    },
    "kernelspec": {
      "name": "python3",
      "display_name": "Python 3"
    },
    "language_info": {
      "name": "python"
    },
    "gpuClass": "standard"
  },
  "cells": [
    {
      "cell_type": "markdown",
      "metadata": {
        "id": "view-in-github",
        "colab_type": "text"
      },
      "source": [
        "<a href=\"https://colab.research.google.com/github/AmandinChyba/Project1-Fields-2022/blob/main/nonconvex_clean.ipynb\" target=\"_parent\"><img src=\"https://colab.research.google.com/assets/colab-badge.svg\" alt=\"Open In Colab\"/></a>"
      ]
    },
    {
      "cell_type": "code",
      "execution_count": 339,
      "metadata": {
        "id": "XlewCCTWHVuF"
      },
      "outputs": [],
      "source": [
        "import jax\n",
        "from jax import lax\n",
        "import jax.random as jrandom\n",
        "import jax.numpy as jnp\n",
        "import numpy as np\n",
        "import time\n",
        "import matplotlib.pyplot as plt\n",
        "from functools import partial"
      ]
    },
    {
      "cell_type": "markdown",
      "source": [
        "# Utility Functions"
      ],
      "metadata": {
        "id": "dkkFdQqak07c"
      }
    },
    {
      "cell_type": "code",
      "source": [
        "'''\n",
        "signed distance function of the domain\n",
        "'''\n",
        "#@jax.jit\n",
        "def signDistance(p): # [cuts, samples, dimensions]\n",
        "  '''\n",
        "  # torus\n",
        "  R = 2\n",
        "  r = 1\n",
        "  temp = jnp.sum(jnp.power(p,2), axis=2) + jnp.power(R,2) - jnp.power(r,2)\n",
        "  final = jnp.power(temp,2) - 4 * jnp.power(R,2) * (jnp.power(p[:,:,0], 2) + jnp.power(p[:,:,1], 2))\n",
        "  '''\n",
        "  # unit sphere\n",
        "  final = jnp.linalg.norm(p,ord=2,axis=2,keepdims=False) - 1\n",
        "  return final"
      ],
      "metadata": {
        "id": "xONH8tkCkmqi"
      },
      "execution_count": 340,
      "outputs": []
    },
    {
      "cell_type": "code",
      "source": [
        "'''\n",
        "Dirchlet boundary condition\n",
        "'''\n",
        "#@jax.jit\n",
        "def boundaryCond(p, k):\n",
        "  pointCharge = jnp.array([-1,-2,1.5])\n",
        "  pointCharge = jnp.tile(pointCharge, (jnp.size(p,0), 1)) # [samples, dimensions]\n",
        "  pDiff = jnp.linalg.norm(p - pointCharge, ord=2, axis=1, keepdims=False)\n",
        "  final = jnp.exp(-k * pDiff) / (4 * jnp.pi * pDiff)\n",
        "  return final"
      ],
      "metadata": {
        "id": "suaLSJRjk4Ms"
      },
      "execution_count": 341,
      "outputs": []
    },
    {
      "cell_type": "markdown",
      "source": [
        "# Multi Root Finding"
      ],
      "metadata": {
        "id": "baG64vpHlfkn"
      }
    },
    {
      "cell_type": "code",
      "source": [
        "#@jax.jit\n",
        "def bisection(p0, p1, rootSteps, dir):\n",
        "  current = jnp.zeros((1, jnp.size(p0, 1)))\n",
        "\n",
        "  def bisectionStep(i, current):\n",
        "    next = current + jnp.power(0.5, i+1)\n",
        "    dist1 = signDistance(p0 + dir * next[:,:,jnp.newaxis] * (p1 - p0))\n",
        "    dist2 = signDistance(p0 + dir * current[:,:,jnp.newaxis] * (p1 - p0))\n",
        "    return jnp.where(dist1 * dist2 > 0, next, current)\n",
        "\n",
        "  current = lax.fori_loop(0, rootSteps, bisectionStep, current)\n",
        "\n",
        "  return p0 + dir * current[:,:,jnp.newaxis] * (p1 - p0)"
      ],
      "metadata": {
        "id": "er4tg84QlPVU"
      },
      "execution_count": 342,
      "outputs": []
    },
    {
      "cell_type": "code",
      "source": [
        "#@partial(jax.jit, static_argnames=['uni_cuts'])\n",
        "def createGrid(p0, p1, uni_cuts):\n",
        "  lb = jnp.zeros(len(p0))\n",
        "  ub = jnp.ones(len(p1))\n",
        "  t = jnp.linspace(lb, ub, uni_cuts, axis=0)\n",
        "  return t  "
      ],
      "metadata": {
        "id": "4gOfaDY-lSKC"
      },
      "execution_count": 343,
      "outputs": []
    },
    {
      "cell_type": "code",
      "source": [
        "#@partial(jax.jit, static_argnames=['ray'])\n",
        "def rootIsolate(key, p0, p1, grid, ray=False):\n",
        "  # find the roots\n",
        "  v = signDistance(p0 + grid[:,:,jnp.newaxis] * (p1 - p0))\n",
        "  v = jnp.where(v > 0, 1, -1)\n",
        "\n",
        "  # get rid of the first half of the line\n",
        "  if (ray):\n",
        "    v = jnp.where(grid < 0.5, 10, v)\n",
        "\n",
        "  # find the roots\n",
        "  roots = v[:-1] + v[1:]\n",
        "\n",
        "  # get rid of the root closest to 0.5\n",
        "  if (not ray):\n",
        "    # BUG: HAS TO DELETE SOMETHING EVEN IF THERES NOTHING TO DELETE. fixed?\n",
        "    n_zeros = jnp.count_nonzero(roots == 0, axis=0)\n",
        "    thing_tile = jnp.abs(grid[:-1] - 0.5) + 1\n",
        "    n_zeros_tile = jnp.tile(n_zeros, (jnp.size(roots, 0), 1))\n",
        "    closetomid = jnp.min((jnp.abs(roots) + 1) * thing_tile, axis=0)\n",
        "    roots = jnp.where(jnp.logical_and((jnp.abs(roots) + 1) * thing_tile == closetomid, n_zeros_tile != 0), 100, roots)\n",
        "\n",
        "  # check how many roots\n",
        "  n_zeros = jnp.count_nonzero(roots == 0, axis=0)\n",
        "\n",
        "  need_n_zeros = n_zeros\n",
        "\n",
        "  # BUG: if there are still no roots, pick the middle of the line\n",
        "  # THIS REQUIRES THE GRID TO CONTAIN 0.5 \n",
        "  n_zeros_tile = jnp.tile(n_zeros, (jnp.size(roots, 0), 1))\n",
        "  roots = jnp.where(jnp.logical_and(n_zeros_tile == 0, grid[:-1] == 0.5), 0, roots)\n",
        "  n_zeros = jnp.count_nonzero(roots == 0, axis=0)\n",
        "\n",
        "  # randomly pick a root\n",
        "  minvals = jnp.zeros(jnp.size(grid, 1))\n",
        "  random_indices = jrandom.randint(key, (1,jnp.size(grid, 1)), minval=minvals, maxval=n_zeros)\n",
        "\n",
        "  # can speed this up by using a single for loop instead of: argsort + take_along_axis + custom_put_along_axis ?\n",
        "  roots = jnp.where(roots == 0, 0, 1)\n",
        "  all_root_indices = jnp.argsort(roots, axis=0)\n",
        "  root_indices = jnp.take_along_axis(all_root_indices, random_indices, axis=0)\n",
        "\n",
        "  lb = jnp.take_along_axis(grid, root_indices, axis=0)\n",
        "  ub = jnp.take_along_axis(grid, root_indices+1, axis=0)\n",
        "  \n",
        "  # return the roots interval\n",
        "  return lb, ub, n_zeros, need_n_zeros"
      ],
      "metadata": {
        "id": "kG2js5cLlYpg"
      },
      "execution_count": 344,
      "outputs": []
    },
    {
      "cell_type": "code",
      "source": [
        "#@partial(jax.jit, static_argnames=['uni_cuts', 'quad_cuts', 'ray'])\n",
        "def multiRootSearch(key, p0, p1, uni_cuts, rootSteps=10, ray=False):\n",
        "  p1 = p0 + p1\n",
        "  p0 = 2*p0 - p1\n",
        "  \n",
        "  # adjust for errors with random?\n",
        "  keys = jrandom.split(key, 2)\n",
        "\n",
        "  grid = createGrid(p0, p1, uni_cuts)\n",
        "  t1, t2, n_roots, need_n_zeros = rootIsolate(keys[0], p0, p1, grid, ray=ray)\n",
        "\n",
        "  root = bisection(p0 + t1[:,:,jnp.newaxis] * (p1 - p0),\n",
        "                   p0 + t2[:,:,jnp.newaxis] * (p1 - p0),\n",
        "                   rootSteps, dir=1)\n",
        "  \n",
        "  bound_sign = jnp.sign(signDistance(p0 + t1[:,:,jnp.newaxis] * (p1 - p0)))\n",
        "\n",
        "  if (not ray):\n",
        "    # fix sign for reccurent roots\n",
        "    poop = jnp.where(need_n_zeros == 0, 0, 1)\n",
        "    temp_poop = jrandom.choice(keys[1], jnp.array([-1, 1]), poop.shape)\n",
        "    bound_sign = bound_sign * poop + (1 - poop) * temp_poop\n",
        "\n",
        "  dir_sign = jnp.where(t1 < 0.5, 1, -1)\n",
        "  actual_sign = bound_sign * dir_sign\n",
        "\n",
        "  return root[0], actual_sign, n_roots"
      ],
      "metadata": {
        "id": "CgP8JX6Dli48"
      },
      "execution_count": 345,
      "outputs": []
    },
    {
      "cell_type": "markdown",
      "source": [
        "# Walk on Boundary Functions"
      ],
      "metadata": {
        "id": "dm_SOyDik7I9"
      }
    },
    {
      "cell_type": "code",
      "source": [
        "'''\n",
        "run the wob and calculate the estimator\n",
        "'''\n",
        "#@jax.jit\n",
        "def wob(keys, p0, p1, t, rootSteps, k):\n",
        "  running_est = jnp.zeros((len(p0))) # [samples]\n",
        "  \n",
        "  p_next, sign, n_roots = multiRootSearch(keys[0], p0, p1[0], uni_cuts=21, rootSteps=rootSteps, ray=True)\n",
        "  p_diff = jnp.linalg.norm(p0 - p_next, ord=2, axis=1)\n",
        "  q_next = 2 * n_roots * sign[0] * jnp.exp(-k * p_diff) * (1 + k * p_diff)\n",
        "  p_before = p_next\n",
        "\n",
        "  #plt.scatter(p_next[:,0], p_next[:,1])\n",
        "\n",
        "  for i in range(1, len(p1)):\n",
        "    running_est += boundaryCond(p_next, k) * q_next\n",
        "    \n",
        "    p_next, sign, n_roots = multiRootSearch(keys[i], p_next, p1[i], uni_cuts=21, rootSteps=rootSteps)\n",
        "    \n",
        "    p_diff = jnp.linalg.norm(p_before - p_next, ord=2, axis=1)\n",
        "    q_next = - n_roots * sign[0] * q_next * jnp.exp(-k * p_diff) * (1 + k * p_diff)\n",
        "    p_before = p_next\n",
        "\n",
        "  #plt.scatter(p_next[:,0], p_next[:,1])\n",
        "\n",
        "  running_est += 0.5 * boundaryCond(p_next, k) * q_next\n",
        "  return running_est"
      ],
      "metadata": {
        "id": "YhyGbctclyB-"
      },
      "execution_count": 346,
      "outputs": []
    },
    {
      "cell_type": "code",
      "source": [
        "'''\n",
        "setup the wob\n",
        "'''\n",
        "def computeSoln(key, p, t=5, rootSteps=10, samples=1000, diameter=1, k=0):\n",
        "  p0 = jnp.tile(p, (samples,1)) # [samples, dimensions]\n",
        "\n",
        "  keys = jrandom.split(key, t+1)\n",
        "  # generate random directions in n-dimensions\n",
        "  p1 = jrandom.normal(keys[0], shape=(t, samples, jnp.size(p0, 1)))\n",
        "  normalize = jnp.linalg.norm(p1, ord=2, axis=2, keepdims=True)\n",
        "  p1 = diameter * jnp.divide(p1, normalize) # [jumps, dimensions, samples]\n",
        "  \n",
        "  ans = wob(keys[1:], p0, p1, t, rootSteps, k)\n",
        "\n",
        "  return jnp.mean(ans, axis=0, keepdims=True), jnp.std(ans, axis=0, keepdims=True)"
      ],
      "metadata": {
        "id": "QCKcDBY_l2gx"
      },
      "execution_count": 347,
      "outputs": []
    },
    {
      "cell_type": "markdown",
      "source": [
        "# Testing"
      ],
      "metadata": {
        "id": "SJLXGsjYmUwm"
      }
    },
    {
      "cell_type": "code",
      "source": [
        "%%time\n",
        "'''\n",
        "testing code\n",
        "'''\n",
        "key = jrandom.PRNGKey(int(time.time()))\n",
        "x = jnp.array([0.5, 0.5, 0])\n",
        "\n",
        "y, sd = computeSoln(key, x, t=2, rootSteps=20, samples=2, diameter=3, k=0)\n",
        "print('solution:', y)\n",
        "print('exact:', boundaryCond(jnp.array([x]), k=0))"
      ],
      "metadata": {
        "colab": {
          "base_uri": "https://localhost:8080/"
        },
        "id": "Yr-eaXq3mVzu",
        "outputId": "b7cc6be4-7795-416a-cecb-d659c621c8b2"
      },
      "execution_count": 370,
      "outputs": [
        {
          "output_type": "stream",
          "name": "stdout",
          "text": [
            "solution: [0.02264306]\n",
            "exact: [0.0242709]\n",
            "CPU times: user 221 ms, sys: 1.93 ms, total: 223 ms\n",
            "Wall time: 221 ms\n"
          ]
        }
      ]
    },
    {
      "cell_type": "code",
      "source": [
        "'''\n",
        "key = jrandom.PRNGKey(int(time.time()))\n",
        "keys = jrandom.split(key, 20)\n",
        "y_points = []\n",
        "for i in range(20):\n",
        "  y, sd = computeSoln(keys[i], x, t=5, rootSteps=20, samples=10_000, diameter=3, k=0)\n",
        "  y_points.append(y - boundaryCond(jnp.array([x]), k=0))\n",
        "\n",
        "plt.plot(y_points)\n",
        "'''"
      ],
      "metadata": {
        "colab": {
          "base_uri": "https://localhost:8080/",
          "height": 640
        },
        "id": "_e6K9sGywbt1",
        "outputId": "ed12699c-b88a-40d1-f512-1dc7216d7eef"
      },
      "execution_count": 366,
      "outputs": [
        {
          "output_type": "stream",
          "name": "stdout",
          "text": [
            "[0.02600668]\n",
            "[0.02575205]\n",
            "[0.0255838]\n",
            "[0.02490015]\n",
            "[0.02502825]\n",
            "[0.02509579]\n",
            "[0.02411777]\n",
            "[0.02540216]\n",
            "[0.02556402]\n",
            "[0.02529901]\n",
            "[0.02544104]\n",
            "[0.02549307]\n",
            "[0.02505563]\n",
            "[0.02599171]\n",
            "[0.02566902]\n",
            "[0.02496699]\n",
            "[0.02522829]\n",
            "[0.02530536]\n",
            "[0.02526591]\n",
            "[0.02507378]\n",
            "[0.02608046]\n"
          ]
        },
        {
          "output_type": "display_data",
          "data": {
            "text/plain": [
              "<Figure size 432x288 with 1 Axes>"
            ],
            "image/png": "[encoded data removed]"
          },
          "metadata": {
            "needs_background": "light"
          }
        }
      ]
    }
  ]
}