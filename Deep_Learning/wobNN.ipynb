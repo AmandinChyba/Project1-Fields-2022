{
  "nbformat": 4,
  "nbformat_minor": 0,
  "metadata": {
    "colab": {
      "name": "wobNN.ipynb",
      "provenance": [],
      "collapsed_sections": [],
      "authorship_tag": "ABX9TyO+kBqYSpEaYifeGg6pQTgW",
      "include_colab_link": true
    },
    "kernelspec": {
      "name": "python3",
      "display_name": "Python 3"
    },
    "language_info": {
      "name": "python"
    }
  },
  "cells": [
    {
      "cell_type": "markdown",
      "metadata": {
        "id": "view-in-github",
        "colab_type": "text"
      },
      "source": [
        "<a href=\"https://colab.research.google.com/github/AmandinChyba/Project1-Fields-2022/blob/main/Deep_Learning/wobNN.ipynb\" target=\"_parent\"><img src=\"https://colab.research.google.com/assets/colab-badge.svg\" alt=\"Open In Colab\"/></a>"
      ]
    },
    {
      "cell_type": "code",
      "execution_count": 12,
      "metadata": {
        "id": "OZ8PEdY8NiEh"
      },
      "outputs": [],
      "source": [
        "import haiku as hk\n",
        "import jax.numpy as jnp\n",
        "import numpy as np\n",
        "import jax\n",
        "import optax\n",
        "\n",
        "import pandas as pd"
      ]
    },
    {
      "cell_type": "code",
      "source": [
        "def getData():\n",
        "  data = np.load('sample_data/wob_piecwise_data.npz')\n",
        "  return data['x'], data['y']"
      ],
      "metadata": {
        "id": "GNwWfgGTOCY8"
      },
      "execution_count": 47,
      "outputs": []
    },
    {
      "cell_type": "code",
      "source": [
        "def trueSoln(p):\n",
        "  return 0.5 + np.arctan(2*p[1]/(1-np.power(p[0],2)-np.power(p[1],2)))/np.pi"
      ],
      "metadata": {
        "id": "w-5Wf5pfVzMH"
      },
      "execution_count": 16,
      "outputs": []
    },
    {
      "cell_type": "code",
      "source": [
        "def net_fn(x):\n",
        "  mlp = hk.Sequential([\n",
        "      hk.Flatten(),\n",
        "      hk.Linear(200), jax.nn.relu,\n",
        "      hk.Linear(50), jax.nn.relu,\n",
        "      hk.Linear(1),\n",
        "  ])\n",
        "  return mlp(x)"
      ],
      "metadata": {
        "id": "s9g-0LPWWskU"
      },
      "execution_count": 21,
      "outputs": []
    },
    {
      "cell_type": "code",
      "source": [
        "x,y = getData()\n",
        "x = jnp.array(x)\n",
        "y = jnp.array(y)\n",
        "samples, dimensions = x.shape"
      ],
      "metadata": {
        "id": "DQiC88GAo6hb"
      },
      "execution_count": 52,
      "outputs": []
    },
    {
      "cell_type": "code",
      "source": [
        "lr = 1e-3\n",
        "batch_size = 10\n",
        "key = jax.random.PRNGKey(0)\n",
        "\n",
        "network = hk.without_apply_rng(hk.transform(net_fn))\n",
        "optimiser = optax.adam(lr)"
      ],
      "metadata": {
        "id": "qbKO4-7XXMo4"
      },
      "execution_count": 65,
      "outputs": []
    },
    {
      "cell_type": "code",
      "source": [
        "params = network.init(key, x[0])"
      ],
      "metadata": {
        "id": "db-jVy1JpOvF"
      },
      "execution_count": 53,
      "outputs": []
    },
    {
      "cell_type": "code",
      "source": [
        "def loss(params, input_data, actual):\n",
        "    preds = network.apply(params, input_data)\n",
        "    return jnp.power(actual - preds, 2).mean()"
      ],
      "metadata": {
        "id": "rqvhzf0NFYa4"
      },
      "execution_count": 71,
      "outputs": []
    },
    {
      "cell_type": "code",
      "source": [
        "def update(params, grads):\n",
        "  return params - lr * grads"
      ],
      "metadata": {
        "id": "E60-vMSQHFZa"
      },
      "execution_count": 70,
      "outputs": []
    }
  ]
}