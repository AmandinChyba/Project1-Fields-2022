{
  "nbformat": 4,
  "nbformat_minor": 0,
  "metadata": {
    "colab": {
      "name": "stupid_interpolation.ipynb",
      "provenance": [],
      "collapsed_sections": [],
      "mount_file_id": "11IIN8f6ByN1XUsdvl5Pl_cHvlET_ataj",
      "authorship_tag": "ABX9TyOgoizgKo/M17pT9vgdPyiw",
      "include_colab_link": true
    },
    "kernelspec": {
      "name": "python3",
      "display_name": "Python 3"
    },
    "language_info": {
      "name": "python"
    }
  },
  "cells": [
    {
      "cell_type": "markdown",
      "metadata": {
        "id": "view-in-github",
        "colab_type": "text"
      },
      "source": [
        "<a href=\"https://colab.research.google.com/github/AmandinChyba/Project1-Fields-2022/blob/main/Deep_Learning/stupid_interpolation.ipynb\" target=\"_parent\"><img src=\"https://colab.research.google.com/assets/colab-badge.svg\" alt=\"Open In Colab\"/></a>"
      ]
    },
    {
      "cell_type": "code",
      "source": [
        "import jax.numpy as jnp\n",
        "import numpy as np\n",
        "import jax\n",
        "import jax.lax as lax"
      ],
      "metadata": {
        "id": "xPAl_ADC1vSb"
      },
      "execution_count": 453,
      "outputs": []
    },
    {
      "cell_type": "code",
      "execution_count": 454,
      "metadata": {
        "id": "H858sZgI1nTN"
      },
      "outputs": [],
      "source": [
        "def getData():\n",
        "  data = np.load('drive/MyDrive/wob_piecwise_data.npz')\n",
        "  return data['x'], data['y']"
      ]
    },
    {
      "cell_type": "code",
      "source": [
        "def test_train_split(x, y, train_percentage=0.9):\n",
        "  x = jnp.array(x)\n",
        "  y = jnp.array(y)\n",
        "\n",
        "  sample_size, dimensions = x.shape\n",
        "\n",
        "  split_index = int(jnp.ceil(sample_size * train_percentage))\n",
        "\n",
        "  x_train = x[:split_index]\n",
        "  y_train = y[:split_index]\n",
        "  x_test = x[split_index:]\n",
        "  y_test = y[split_index:]\n",
        "\n",
        "  return x_train, y_train, x_test, y_test"
      ],
      "metadata": {
        "id": "HUL_cwg7po34"
      },
      "execution_count": 455,
      "outputs": []
    },
    {
      "cell_type": "code",
      "source": [
        "@jax.jit\n",
        "def T0(x):\n",
        "  return jnp.ones(len(x))\n",
        "\n",
        "@jax.jit\n",
        "def T1(x):\n",
        "  return x\n",
        "\n",
        "@jax.jit\n",
        "def T2(x):\n",
        "  return 2 * jnp.power(x, 2) - 1\n",
        "\n",
        "@jax.jit\n",
        "def T3(x):\n",
        "  return 4 * jnp.power(x, 3) - 3 * x"
      ],
      "metadata": {
        "id": "V86hQuUdAvql"
      },
      "execution_count": 456,
      "outputs": []
    },
    {
      "cell_type": "code",
      "source": [
        "@jax.jit\n",
        "def basis(x):\n",
        "  # this array creation is required because its an array of different functions at each element\n",
        "  # so don't @ me\n",
        "  Tx0 = jnp.array([[T0(x[0]), T1(x[0]), T2(x[0]), T3(x[0])]])\n",
        "  Tx1 = jnp.array([[T0(x[1]), T1(x[1]), T2(x[1]), T3(x[1])]])\n",
        "  \n",
        "  big = Tx0 * Tx1.transpose(1, 0, 2)\n",
        "  flat = jnp.reshape(big, (-1, big.shape[2]))\n",
        "  return flat"
      ],
      "metadata": {
        "id": "2PFYLEkDECDU"
      },
      "execution_count": 457,
      "outputs": []
    },
    {
      "cell_type": "code",
      "source": [
        "def gradientDescentStep(i, c):\n",
        "  f = basis(x_train.T)\n",
        "  u = np.sum(c * f, axis=0, keepdims=True)\n",
        "  \n",
        "  c = c - lr * (u - y_train.T) * f\n",
        "  c = jnp.mean(c, 1, keepdims=True)\n",
        "  return c"
      ],
      "metadata": {
        "id": "88BqYHXPtR_O"
      },
      "execution_count": 458,
      "outputs": []
    },
    {
      "cell_type": "code",
      "source": [
        "%%time\n",
        "c = jnp.zeros((jnp.power(4,2), 1))\n",
        "lr = 0.1\n",
        "epochs = 400\n",
        "\n",
        "x, y = getData()\n",
        "x_train, y_train, x_test, y_test = test_train_split(x,y)\n",
        "\n",
        "c = lax.fori_loop(0, epochs, gradientDescentStep, c)"
      ],
      "metadata": {
        "colab": {
          "base_uri": "https://localhost:8080/"
        },
        "id": "cai3KAzK2K-p",
        "outputId": "7ee75605-6b8e-4fde-f00b-3c00651b8ffb"
      },
      "execution_count": 459,
      "outputs": [
        {
          "output_type": "stream",
          "name": "stdout",
          "text": [
            "CPU times: user 377 ms, sys: 5.86 ms, total: 383 ms\n",
            "Wall time: 390 ms\n"
          ]
        }
      ]
    },
    {
      "cell_type": "code",
      "source": [
        "sample_index = 246\n",
        "\n",
        "preds = jnp.sum(c * basis(x_test.T), axis=0)\n",
        "\n",
        "print(y_test[sample_index])\n",
        "print(preds[sample_index])"
      ],
      "metadata": {
        "colab": {
          "base_uri": "https://localhost:8080/"
        },
        "id": "-FU-YRAKIKr8",
        "outputId": "f71dbaa8-f155-4f9e-d32a-b52bd664f3bc"
      },
      "execution_count": 460,
      "outputs": [
        {
          "output_type": "stream",
          "name": "stdout",
          "text": [
            "[0.97784996]\n",
            "1.0458006\n"
          ]
        }
      ]
    }
  ]
}