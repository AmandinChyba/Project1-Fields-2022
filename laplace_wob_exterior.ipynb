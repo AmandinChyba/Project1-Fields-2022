{
  "nbformat": 4,
  "nbformat_minor": 0,
  "metadata": {
    "colab": {
      "provenance": [],
      "collapsed_sections": [],
      "include_colab_link": true
    },
    "kernelspec": {
      "name": "python3",
      "display_name": "Python 3"
    },
    "language_info": {
      "name": "python"
    },
    "gpuClass": "standard"
  },
  "cells": [
    {
      "cell_type": "markdown",
      "metadata": {
        "id": "view-in-github",
        "colab_type": "text"
      },
      "source": [
        "<a href=\"https://colab.research.google.com/github/AmandinChyba/Project1-Fields-2022/blob/main/laplace_wob_exterior.ipynb\" target=\"_parent\"><img src=\"https://colab.research.google.com/assets/colab-badge.svg\" alt=\"Open In Colab\"/></a>"
      ]
    },
    {
      "cell_type": "code",
      "execution_count": 37,
      "metadata": {
        "id": "5zoCL7guIfDb"
      },
      "outputs": [],
      "source": [
        "import jax\n",
        "from jax import lax\n",
        "from jax import random as jrandom\n",
        "\n",
        "import jax.numpy as jnp\n",
        "import numpy as np\n",
        "\n",
        "import time\n",
        "\n",
        "import matplotlib.pyplot as plt\n",
        "import pandas as pd"
      ]
    },
    {
      "cell_type": "markdown",
      "source": [
        "# Boundary Functions"
      ],
      "metadata": {
        "id": "YogEJm2EIu8N"
      }
    },
    {
      "cell_type": "code",
      "source": [
        "'''\n",
        "signed distance function of the domain\n",
        "'''\n",
        "#@jax.jit\n",
        "def signDistance(p, axis=1):\n",
        "  return jnp.linalg.norm(p,ord=2,axis=axis,keepdims=True) - 1 # unit sphere"
      ],
      "metadata": {
        "id": "ZLd9MKm0LrEO"
      },
      "execution_count": 38,
      "outputs": []
    },
    {
      "cell_type": "code",
      "source": [
        "'''\n",
        "Dirchlet boundary condition\n",
        "'''\n",
        "#@jax.jit\n",
        "def boundaryCond(p, k, axis=1):\n",
        "  # exterior\n",
        "  return trueSoln(p, k, axis)\n",
        "\n",
        "  # interior\n",
        "  #pointCharge = jnp.array([0,0,2])\n",
        "  #pointCharge = jnp.tile(pointCharge, (jnp.size(p,0), 1)) # [samples, dimensions]\n",
        "  #pDiff = jnp.linalg.norm(p - pointCharge, ord=2, axis=1, keepdims=False)\n",
        "  #final = jnp.exp(-k * pDiff) / (4 * jnp.pi * pDiff)\n",
        "  #return final"
      ],
      "metadata": {
        "id": "S4YxwTin-A8I"
      },
      "execution_count": 39,
      "outputs": []
    },
    {
      "cell_type": "code",
      "source": [
        "'''\n",
        "the true solution\n",
        "'''\n",
        "#@jax.jit\n",
        "def trueSoln(p, k, axis=1):\n",
        "  # exterior\n",
        "  p_norm = jnp.linalg.norm(p, ord=2, axis=axis, keepdims=False)\n",
        "  return jnp.exp(-k * p_norm) / (4 * jnp.pi * p_norm)"
      ],
      "metadata": {
        "id": "rKAu7NITmy2I"
      },
      "execution_count": 40,
      "outputs": []
    },
    {
      "cell_type": "markdown",
      "source": [
        "# WOB algorithm"
      ],
      "metadata": {
        "id": "ysVQfHaDIovo"
      }
    },
    {
      "cell_type": "code",
      "source": [
        "'''\n",
        "binary search to find boundary intersection\n",
        "'''\n",
        "#@jax.jit\n",
        "def bisection(p0, p1, root_steps, dir=1):\n",
        "  current = jnp.zeros((jnp.size(p0, 0), 1)) # [dimensions, samples]\n",
        "\n",
        "  def bisectionStep(i, current):\n",
        "    next = current + jnp.power(0.5,i+1)\n",
        "    dist1 = signDistance(p0 + dir * next * (p1 - p0))\n",
        "    dist2 = signDistance(p0 + dir * current * (p1 - p0))\n",
        "    return jnp.where(dist1 * dist2 > 0, next, current)\n",
        "\n",
        "  current = lax.fori_loop(0, root_steps, bisectionStep, current)\n",
        "  return p0 + dir * current * (p1 - p0), current # return [roots, t-values]"
      ],
      "metadata": {
        "id": "H2PJpmiyQ9q8"
      },
      "execution_count": 41,
      "outputs": []
    },
    {
      "cell_type": "code",
      "source": [
        "'''\n",
        "run the wob and calculate the estimator\n",
        "'''\n",
        "#@jax.jit\n",
        "def wob(p0, p1, t, root_steps, k):\n",
        "  markov_chain = np.zeros((p1.shape)) # [jumps-1, samples, dimensions]\n",
        "  pNext = p0\n",
        "\n",
        "  for i in range(len(p1)):\n",
        "    p_angle = p1[i] - pNext # re-center p1 at pNext\n",
        "    \n",
        "    pBack, tBack = bisection(pNext, p_angle, root_steps, -1)\n",
        "    pFor, tFor = bisection(pNext, p_angle, root_steps, 1)\n",
        "    pNext = jnp.where(tBack - tFor > 0, pBack, pFor)\n",
        "    markov_chain[i] = pNext\n",
        "\n",
        "  return markov_chain"
      ],
      "metadata": {
        "id": "7bZqC1SpI3CL"
      },
      "execution_count": 42,
      "outputs": []
    },
    {
      "cell_type": "code",
      "source": [
        "#@partial(jax.jit, static_argnames=['ray'])\n",
        "def rootIsolate(p0, p1, root_steps):\n",
        "  # create grid\n",
        "  lb = jnp.zeros((len(p0), 1))\n",
        "  ub = jnp.ones((len(p0), 1))\n",
        "  grid = jnp.linspace(lb, ub, 100, axis=0)\n",
        "\n",
        "  # find the roots\n",
        "  v = signDistance(p0 + grid * (p1 - p0), axis=2)\n",
        "  v = jnp.where(v > 0, 1, -1)\n",
        "\n",
        "  # find the roots\n",
        "  roots = v[:-1] + v[1:]\n",
        "\n",
        "  # check how many roots\n",
        "  n_zeros = jnp.count_nonzero(roots == 0, axis=0)\n",
        "\n",
        "  # if n_zeros < 2 then act like the line didn't hit the boundary\n",
        "  n_zeros = jnp.where(n_zeros < 2, 0, 2)\n",
        "  roots = jnp.where(n_zeros == 0, 99, roots)\n",
        "  \n",
        "  # calculate how many samples have roots so we can calculate d for Q0\n",
        "  d = jnp.count_nonzero(n_zeros != 0)\n",
        "  print(d, '/', len(n_zeros))\n",
        "\n",
        "  # find the bounds for the 2 roots on each sample\n",
        "  roots = jnp.where(roots != 0, 1, 0)\n",
        "  all_root_indices = jnp.argsort(roots, axis=0)\n",
        "\n",
        "  p_pos_indices = all_root_indices[0].T\n",
        "  p_neg_indices = all_root_indices[1].T\n",
        "  grid = grid.squeeze(axis=2)\n",
        "  t1 = jnp.take_along_axis(grid, p_pos_indices, axis=0).T\n",
        "  t2 = jnp.take_along_axis(grid, p_pos_indices+1, axis=0).T\n",
        "  t3 = jnp.take_along_axis(grid, p_neg_indices, axis=0).T\n",
        "  t4 = jnp.take_along_axis(grid, p_neg_indices+1, axis=0).T\n",
        "\n",
        "  # use bisection method to find the roots\n",
        "  p_pos, _ = bisection(p0 + t1 * (p1 - p0),\n",
        "                   p0 + t2 * (p1 - p0),\n",
        "                   root_steps)\n",
        "  \n",
        "  p_neg, _ = bisection(p0 + t3 * (p1 - p0),\n",
        "                   p0 + t4 * (p1 - p0),\n",
        "                   root_steps)\n",
        "  \n",
        "  return p_pos, p_neg, d, n_zeros\n",
        "\n",
        "def exterior_jump(p0, p1, root_steps, k):\n",
        "  p1 = p1 - p0 # re-center the angles\n",
        "  # make it long based on how far away we are from boundary (use signDistance and diameter?)\n",
        "\n",
        "  # find both roots\n",
        "  p_pos, p_neg, d, n_zeros = rootIsolate(p0, p1, root_steps)\n",
        "  \n",
        "  # calculate weights\n",
        "  Q0 = 2 * d / len(p1)\n",
        "\n",
        "  return p_pos, p_neg, Q0, n_zeros"
      ],
      "metadata": {
        "id": "DvWpxecWKSwD"
      },
      "execution_count": 43,
      "outputs": []
    },
    {
      "cell_type": "code",
      "source": [
        "'''\n",
        "setup the wob\n",
        "'''\n",
        "def computeSoln(key, p, t=5, rootSteps=10, samples=1_000, diameter=1, k=1):\n",
        "  p0 = jnp.tile(p, (samples,1)) # [samples, dimensions]\n",
        "\n",
        "  # generate random directions in n-dimensions\n",
        "  p1 = jrandom.normal(key, shape=(t, samples, jnp.size(p0, 1)))\n",
        "  normalize = jnp.linalg.norm(p1, ord=2, axis=2, keepdims=True)\n",
        "  p1 = diameter * jnp.divide(p1, normalize) # [jumps, dimensions, samples]\n",
        "\n",
        "  # do the first exterior jump\n",
        "  p_pos, p_neg, Q0, n_zeros = exterior_jump(p0, p1[0], rootSteps, k)\n",
        "\n",
        "  # create markov chain at p0\n",
        "  mc_pos = wob(p_pos, p1[1:], t, rootSteps, k)\n",
        "  markov_chain_pos = np.concatenate((p_pos[np.newaxis,:], mc_pos), axis=0)\n",
        "\n",
        "  # create markov chain at second p0 (is it okay to use the same angles?)\n",
        "  mc_neg = wob(p_neg, p1[1:], t, rootSteps, k)\n",
        "  markov_chain_neg = np.concatenate((p_neg[np.newaxis,:], mc_neg), axis=0)\n",
        "\n",
        "  # remove from markov chain using n_zeros (should delete earlier?)\n",
        "  markov_chain_pos = np.delete(markov_chain_pos, n_zeros, axis=1)\n",
        "  markov_chain_neg = np.delete(markov_chain_neg, n_zeros, axis=1)\n",
        "\n",
        "  # calculate alpha\n",
        "  alpha = np.mean(boundaryCond(markov_chain_pos, k, axis=2), axis=0) / np.mean(np.linalg.norm(markov_chain_pos,ord=2,axis=2), axis=0)\n",
        "  \n",
        "  # apply estimator\n",
        "  est1 = alpha * np.sum(1 / np.linalg.norm(markov_chain_pos,ord=2,axis=2) - 1 / np.linalg.norm(markov_chain_neg,ord=2,axis=2), axis=0)\n",
        "  est2 = np.sum(boundaryCond(markov_chain_pos, k, axis=2) - boundaryCond(markov_chain_neg, k, axis=2), axis=0)\n",
        "  ans = Q0 * (est1 - est2)\n",
        "\n",
        "  print(Q0)\n",
        "  \n",
        "  return jnp.mean(ans), jnp.std(ans)"
      ],
      "metadata": {
        "id": "QwSKx7xFL9AG"
      },
      "execution_count": 44,
      "outputs": []
    },
    {
      "cell_type": "markdown",
      "source": [
        "# Testing"
      ],
      "metadata": {
        "id": "bEEFG8QbIsSH"
      }
    },
    {
      "cell_type": "code",
      "source": [
        "%%time\n",
        "'''\n",
        "testing code\n",
        "'''\n",
        "key = jrandom.PRNGKey(1)\n",
        "x = jnp.array([0.0,1.1,0.0])\n",
        "\n",
        "y, sd = computeSoln(key, x, t=10, rootSteps=10, samples=5000, diameter=3, k=0)\n",
        "print('solution:', y)\n",
        "print('exterior exact:', trueSoln(jnp.array([x]), k=0))"
      ],
      "metadata": {
        "id": "x_Uq7vQu6nn4",
        "colab": {
          "base_uri": "https://localhost:8080/"
        },
        "outputId": "3dbf2514-6b3d-42bd-883a-db07738548ec"
      },
      "execution_count": 45,
      "outputs": [
        {
          "output_type": "stream",
          "name": "stdout",
          "text": [
            "3199 / 5000\n",
            "1.2796\n",
            "solution: 0.46481478\n",
            "exterior exact: [0.07234315]\n",
            "CPU times: user 4.52 s, sys: 102 ms, total: 4.62 s\n",
            "Wall time: 4.94 s\n"
          ]
        }
      ]
    }
  ]
}