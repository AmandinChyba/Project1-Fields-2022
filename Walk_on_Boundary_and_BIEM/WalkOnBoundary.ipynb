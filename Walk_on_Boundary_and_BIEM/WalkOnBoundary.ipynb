{
  "nbformat": 4,
  "nbformat_minor": 0,
  "metadata": {
    "colab": {
      "name": "WalkOnBoundary.ipynb",
      "provenance": [],
      "include_colab_link": true
    },
    "kernelspec": {
      "name": "python3",
      "display_name": "Python 3"
    },
    "language_info": {
      "name": "python"
    },
    "gpuClass": "standard"
  },
  "cells": [
    {
      "cell_type": "markdown",
      "metadata": {
        "id": "view-in-github",
        "colab_type": "text"
      },
      "source": [
        "<a href=\"https://colab.research.google.com/github/AmandinChyba/Project1-Fields-2022/blob/main/Walk_on_Boundary_and_BIEM/WalkOnBoundary.ipynb\" target=\"_parent\"><img src=\"https://colab.research.google.com/assets/colab-badge.svg\" alt=\"Open In Colab\"/></a>"
      ]
    },
    {
      "cell_type": "code",
      "execution_count": 12,
      "metadata": {
        "id": "5zoCL7guIfDb"
      },
      "outputs": [],
      "source": [
        "import jax\n",
        "from jax import lax\n",
        "from jax import random\n",
        "\n",
        "import jax.numpy as jnp\n",
        "import numpy as np\n",
        "\n",
        "import time\n",
        "\n",
        "import matplotlib.pyplot as plt\n",
        "\n",
        "from functools import partial"
      ]
    },
    {
      "cell_type": "code",
      "source": [
        "@jax.jit\n",
        "def unit_circle_distance(p): # signed distance function for 2d unit circle\n",
        "  return jnp.linalg.norm(p,ord=2,axis=0) - 1"
      ],
      "metadata": {
        "id": "ZLd9MKm0LrEO"
      },
      "execution_count": 13,
      "outputs": []
    },
    {
      "cell_type": "code",
      "source": [
        "@jax.jit\n",
        "def boundaryCond(p):\n",
        "  return p[1]"
      ],
      "metadata": {
        "id": "S4YxwTin-A8I"
      },
      "execution_count": 14,
      "outputs": []
    },
    {
      "cell_type": "code",
      "source": [
        "@jax.jit\n",
        "def binaryRootSearch(p0, p1, epochs, dir):\n",
        "  p1 = p0 + p1 # need to center p1 at p0\n",
        "\n",
        "  current = jnp.zeros((jnp.size(p0, 1), jnp.size(p0, 2)))\n",
        "\n",
        "  def binaryStep(i, current):\n",
        "    next = current + jnp.power(0.5,i+1)\n",
        "    dist = unit_circle_distance(p0 + dir * next * (p1 - p0))\n",
        "    return jnp.where(dist > 0, current, next)\n",
        "\n",
        "  current = lax.fori_loop(0, epochs, binaryStep, current)\n",
        "  \n",
        "  return p0 + dir * current * (p1 - p0), current # return the roots, t-values"
      ],
      "metadata": {
        "id": "H2PJpmiyQ9q8"
      },
      "execution_count": 15,
      "outputs": []
    },
    {
      "cell_type": "code",
      "source": [
        "@jax.jit\n",
        "def wob(p0, p1, t, epochs):\n",
        "  \n",
        "  pFirst, tFirst = binaryRootSearch(p0, p1[0], epochs, 1)\n",
        "  def wobStep(i, next):\n",
        "    est = next[1] + 2 * jnp.power(-1,i+1) * boundaryCond(next[0])\n",
        "\n",
        "    pBack, tBack = binaryRootSearch(next[0], p1[i], epochs, -1)\n",
        "    pFor, tFor = binaryRootSearch(next[0], p1[i], epochs, 1)\n",
        "    pNext = jnp.where(tBack > tFor, pBack, pFor)\n",
        "    return (pNext, est)\n",
        "\n",
        "  est = jnp.zeros((jnp.size(p1,2),jnp.size(p1, 3)))\n",
        "  pLast, est = lax.fori_loop(1, t, wobStep, (pFirst, est))\n",
        "  return est + jnp.power(-1, t+1) * boundaryCond(pLast)\n",
        "  '''\n",
        "  runningEst = jnp.zeros((jnp.size(p0,1),jnp.size(p0,2)))\n",
        "  runningSign = 1\n",
        "\n",
        "  pNext, tFirst = binaryRootSearch(p0, p1[0], epochs, 1)\n",
        "\n",
        "  for p in p1[1:]:\n",
        "    runningEst += runningSign * boundaryCond(pNext)\n",
        "    runningSign *= -1\n",
        "    pBack, tBack = binaryRootSearch(pNext, p, epochs, -1)\n",
        "    pFor, tFor = binaryRootSearch(pNext, p, epochs, 1)\n",
        "    pNext = jnp.where(tBack - tFor > 0, pBack, pFor)\n",
        "\n",
        "  runningEst *= 2\n",
        "  runningEst += runningSign * boundaryCond(pNext)\n",
        "  return runningEst\n",
        "  '''"
      ],
      "metadata": {
        "id": "7bZqC1SpI3CL"
      },
      "execution_count": 1017,
      "outputs": []
    },
    {
      "cell_type": "code",
      "source": [
        "def computeSoln(t, epochs, batches, p, key):\n",
        "  p = jnp.reshape(p, (jnp.size(p,0), jnp.size(p,1), 1))\n",
        "  p0 = jnp.tile(p, (1,1,batches))\n",
        "\n",
        "  # generate random directions in n-dimensions\n",
        "  diameter = 2\n",
        "  p1 = random.normal(key, shape=(t, jnp.size(p, 0), jnp.size(p, 1), batches))\n",
        "  normalize = jnp.linalg.norm(p1, ord=2, axis=1, keepdims=True)\n",
        "  p1 = diameter * jnp.divide(p1, normalize)\n",
        "\n",
        "  ans = wob(p0, p1, t, epochs)\n",
        "  return jnp.mean(ans, 1)"
      ],
      "metadata": {
        "id": "QwSKx7xFL9AG"
      },
      "execution_count": 17,
      "outputs": []
    },
    {
      "cell_type": "code",
      "source": [
        "%%time\n",
        "key = random.PRNGKey(int(time.time()))\n",
        "x = jnp.array([[0.5,0,0.2],[0,0.15,0.7]]).transpose()\n",
        "#x = jnp.array([[0.5,0.3]]).transpose()\n",
        "\n",
        "print(computeSoln(10, 15, 100000, x, key))"
      ],
      "metadata": {
        "id": "x_Uq7vQu6nn4",
        "colab": {
          "base_uri": "https://localhost:8080/"
        },
        "outputId": "fff7cbfa-bae8-4428-ea50-bf948240f892"
      },
      "execution_count": 1016,
      "outputs": [
        {
          "output_type": "stream",
          "name": "stdout",
          "text": [
            "(10, 3, 2, 100000)\n",
            "[0.01606826 0.15230358]\n",
            "CPU times: user 1.08 s, sys: 37.2 ms, total: 1.12 s\n",
            "Wall time: 953 ms\n"
          ]
        }
      ]
    },
    {
      "cell_type": "code",
      "source": [
        "%%time\n",
        "t = 10 # number of jumps on the boundary\n",
        "epochs = 25 # binary search time steps\n",
        "batches = jnp.power(10,np.arange(1,7))\n",
        "y = jnp.array([[0.5,0.3]]).transpose()\n",
        "\n",
        "key = random.PRNGKey(int(time.time()))\n",
        "keys = random.split(key, len(batches))\n",
        "\n",
        "values = np.zeros(len(batches))\n",
        "for i in range(len(batches)):\n",
        "  values[i] = computeSoln(t, epochs, batches[i], y, keys[i])[0]\n",
        "\n",
        "print(values)\n",
        "error = np.abs(values - 0.3)\n",
        "plt.plot(batches, error)\n",
        "plt.xscale('log')\n",
        "plt.yscale('log')"
      ],
      "metadata": {
        "colab": {
          "base_uri": "https://localhost:8080/",
          "height": 322
        },
        "id": "GIg5O1-Z7ysD",
        "outputId": "59d1b659-4cbe-4bcf-eb73-1cba213f4bb5"
      },
      "execution_count": 22,
      "outputs": [
        {
          "output_type": "stream",
          "name": "stdout",
          "text": [
            "[2.32837415 0.81893706 0.15712863 0.27247298 0.3114751  0.30168515]\n",
            "CPU times: user 247 ms, sys: 11.9 ms, total: 259 ms\n",
            "Wall time: 238 ms\n"
          ]
        },
        {
          "output_type": "display_data",
          "data": {
            "text/plain": [
              "<Figure size 432x288 with 1 Axes>"
            ],
            "image/png": "[encoded data removed]"
          },
          "metadata": {
            "needs_background": "light"
          }
        }
      ]
    }
  ]
}