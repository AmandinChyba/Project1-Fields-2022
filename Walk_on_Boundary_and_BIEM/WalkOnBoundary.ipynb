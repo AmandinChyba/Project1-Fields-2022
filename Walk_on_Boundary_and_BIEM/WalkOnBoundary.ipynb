{
  "nbformat": 4,
  "nbformat_minor": 0,
  "metadata": {
    "colab": {
      "name": "WalkOnBoundary.ipynb",
      "provenance": [],
      "authorship_tag": "ABX9TyMfE9FbzIB531zGbIulwDQs",
      "include_colab_link": true
    },
    "kernelspec": {
      "name": "python3",
      "display_name": "Python 3"
    },
    "language_info": {
      "name": "python"
    }
  },
  "cells": [
    {
      "cell_type": "markdown",
      "metadata": {
        "id": "view-in-github",
        "colab_type": "text"
      },
      "source": [
        "<a href=\"https://colab.research.google.com/github/AmandinChyba/Project1-Fields-2022/blob/main/Walk_on_Boundary_and_BIEM/WalkOnBoundary.ipynb\" target=\"_parent\"><img src=\"https://colab.research.google.com/assets/colab-badge.svg\" alt=\"Open In Colab\"/></a>"
      ]
    },
    {
      "cell_type": "code",
      "execution_count": 127,
      "metadata": {
        "id": "5zoCL7guIfDb"
      },
      "outputs": [],
      "source": [
        "import jax\n",
        "from jax import lax\n",
        "from jax import random\n",
        "\n",
        "import jax.numpy as jnp\n",
        "import numpy as np\n",
        "\n",
        "import time\n",
        "\n",
        "import matplotlib.pyplot as plt\n",
        "from mpl_toolkits.mplot3d import axes3d\n",
        "\n",
        "from functools import partial"
      ]
    },
    {
      "cell_type": "code",
      "source": [
        "def unit_circle_boundary(x, y):\n",
        "  return jnp.sqrt(jnp.power(x, 2) + jnp.power(y, 2)) - 1"
      ],
      "metadata": {
        "id": "ZLd9MKm0LrEO"
      },
      "execution_count": 128,
      "outputs": []
    },
    {
      "cell_type": "code",
      "source": [
        "def initial_point(x_0, y_0, angle, boundary, tolerance):\n",
        "  x = x_0\n",
        "  y = y_0\n",
        "  error = boundary(x, y)\n",
        "  while jnp.abs(error) > tolerance:\n",
        "    x += error * jnp.cos(angle)\n",
        "    y += error * jnp.sin(angle)\n",
        "    error = boundary(x, y)\n",
        "  return x[0], y[0]"
      ],
      "metadata": {
        "id": "fwoTCQflXdzf"
      },
      "execution_count": 129,
      "outputs": []
    },
    {
      "cell_type": "code",
      "source": [
        "def get_point(x_0, y_0, angle, boundary, tolerance):\n",
        "  x = x_0\n",
        "  y = y_0\n",
        "  error = tolerance * -2\n",
        "  theta = angle\n",
        "  if boundary(x + error * jnp.cos(theta), y + error * jnp.sin(theta)) > 0:\n",
        "    theta -= jnp.pi\n",
        "  while jnp.abs(error) > tolerance:\n",
        "    x += error * jnp.cos(theta)\n",
        "    y += error * jnp.sin(theta)\n",
        "    error = boundary(x, y)\n",
        "  return x[0], y[0]"
      ],
      "metadata": {
        "id": "DF8aZCoH73hJ"
      },
      "execution_count": 130,
      "outputs": []
    },
    {
      "cell_type": "code",
      "source": [
        "def wob(g, boundary, x, y, batches, t, tolerance, key):\n",
        "  # generate keys\n",
        "  keys = random.split(key, 2)\n",
        "\n",
        "  # compute angles\n",
        "  angles = random.uniform(keys[0], shape=(t, batches)) * 2 * jnp.pi\n",
        "\n",
        "  # get initial point on boundary\n",
        "  cur_x, cur_y = initial_point(x, y, angles[0], boundary, tolerance)\n",
        "\n",
        "  points = jnp.array([[cur_x, cur_y]])\n",
        "  # run markov chain\n",
        "  for angle in angles[1:]:\n",
        "    next_x, next_y = get_point(cur_x, cur_y, angle, boundary, tolerance)\n",
        "    points = jnp.append(points, jnp.array([[next_x, next_y]]), axis=0)\n",
        "    cur_x = next_x\n",
        "    cur_y = next_y\n",
        "\n",
        "  return points, angles"
      ],
      "metadata": {
        "id": "7bZqC1SpI3CL"
      },
      "execution_count": 131,
      "outputs": []
    },
    {
      "cell_type": "code",
      "source": [
        "g = lambda x, y : y\n",
        "boundary = unit_circle_boundary\n",
        "x = 0\n",
        "y = 0.5\n",
        "batches = 1\n",
        "t = 100\n",
        "tolerance = 0.001\n",
        "key = random.PRNGKey(1)\n",
        "\n",
        "points, angles = wob(g, boundary, x, y, batches, t, tolerance, key)\n",
        "points"
      ],
      "metadata": {
        "colab": {
          "base_uri": "https://localhost:8080/"
        },
        "id": "QwSKx7xFL9AG",
        "outputId": "49b4160f-3afd-4052-bacd-011d676e135f"
      },
      "execution_count": 135,
      "outputs": [
        {
          "output_type": "execute_result",
          "data": {
            "text/plain": [
              "DeviceArray([[ 0.99956834, -0.02280234],\n",
              "             [ 0.39300376, -0.9190035 ],\n",
              "             [-0.26050088,  0.96545607],\n",
              "             [-0.25851825,  0.9651931 ],\n",
              "             [-0.99711436,  0.06331345],\n",
              "             [ 0.729059  , -0.6834972 ],\n",
              "             [-0.83860207, -0.54431856],\n",
              "             [-0.19697239,  0.9799177 ],\n",
              "             [-0.37238237, -0.9276621 ],\n",
              "             [ 0.93510115, -0.35196978],\n",
              "             [ 0.93436795, -0.35383055],\n",
              "             [-0.7827891 ,  0.6219497 ],\n",
              "             [-0.7812288 ,  0.6232008 ],\n",
              "             [ 0.47903126, -0.8777743 ],\n",
              "             [ 0.88311046,  0.46786618],\n",
              "             [-0.976038  ,  0.21725668],\n",
              "             [-0.97555524,  0.21919754],\n",
              "             [ 0.3600103 , -0.9325249 ],\n",
              "             [-0.7753906 ,  0.6311333 ],\n",
              "             [ 0.98587155,  0.1629362 ],\n",
              "             [-0.7560247 ,  0.65387434],\n",
              "             [-0.7651382 , -0.6429936 ],\n",
              "             [ 0.82002956, -0.5706142 ],\n",
              "             [ 0.5909743 ,  0.8058046 ],\n",
              "             [ 0.94955504, -0.31084526],\n",
              "             [ 0.36211318,  0.931773  ],\n",
              "             [-0.92379856, -0.38182116],\n",
              "             [ 0.22537206, -0.97363484],\n",
              "             [-0.4859472 , -0.8731525 ],\n",
              "             [-0.4840901 , -0.8738949 ],\n",
              "             [ 0.64608127, -0.76266044],\n",
              "             [-0.64975965,  0.7601305 ],\n",
              "             [-0.6505897 ,  0.7583109 ],\n",
              "             [-0.99461335, -0.09364795],\n",
              "             [ 0.8635019 ,  0.50268036],\n",
              "             [-0.4755049 , -0.87956357],\n",
              "             [ 0.85409445,  0.5192143 ],\n",
              "             [ 0.85512245,  0.5174987 ],\n",
              "             [ 0.94964975, -0.3107988 ],\n",
              "             [-0.5761214 ,  0.81682485],\n",
              "             [ 0.87943435, -0.47583416],\n",
              "             [-0.54961956,  0.8350104 ],\n",
              "             [ 0.7656201 ,  0.64267874],\n",
              "             [ 0.33998024, -0.93990064],\n",
              "             [ 0.35656902,  0.93416506],\n",
              "             [-0.590507  , -0.80587304],\n",
              "             [-0.27031833, -0.9617719 ],\n",
              "             [-0.26857957, -0.9627602 ],\n",
              "             [ 0.9009205 ,  0.43281966],\n",
              "             [-0.96682173, -0.25523013],\n",
              "             [ 0.96892   ,  0.24667318],\n",
              "             [-0.6187778 ,  0.78513527],\n",
              "             [-0.69865394, -0.7150636 ],\n",
              "             [-0.6997373 , -0.7133824 ],\n",
              "             [ 0.6052962 , -0.7947567 ],\n",
              "             [ 0.06094219, -0.997199  ],\n",
              "             [ 0.06279193, -0.99795955],\n",
              "             [-0.93541366, -0.35173905],\n",
              "             [-0.93472075, -0.3536152 ],\n",
              "             [ 0.53417856, -0.84493375],\n",
              "             [ 0.53231245, -0.84565324],\n",
              "             [ 0.19287767,  0.98111135],\n",
              "             [-0.9733375 , -0.22783762],\n",
              "             [ 0.06105989, -0.99743736],\n",
              "             [-0.89898753,  0.4371225 ],\n",
              "             [ 0.9023442 , -0.43096402],\n",
              "             [-0.18234704, -0.98277074],\n",
              "             [-0.92516565,  0.37838855],\n",
              "             [ 0.30054256,  0.9530111 ],\n",
              "             [ 0.6338441 , -0.7732338 ],\n",
              "             [ 0.6962307 ,  0.7172234 ],\n",
              "             [ 0.06723645, -0.9972575 ],\n",
              "             [-0.9759385 ,  0.21388412],\n",
              "             [-0.9768062 ,  0.21208215],\n",
              "             [-0.90487206, -0.4238402 ],\n",
              "             [-0.6786623 , -0.73311615],\n",
              "             [-0.79960877,  0.59967554],\n",
              "             [-0.9919719 , -0.11892031],\n",
              "             [ 0.56043184, -0.8276973 ],\n",
              "             [ 0.13458467,  0.9907587 ],\n",
              "             [ 0.5484253 , -0.83595747],\n",
              "             [-0.69869614, -0.7146809 ],\n",
              "             [ 0.82981133,  0.5579118 ],\n",
              "             [ 0.5820866 , -0.81229097],\n",
              "             [ 0.526984  ,  0.8496218 ],\n",
              "             [-0.7721112 ,  0.63460404],\n",
              "             [-0.7710705 ,  0.63631195],\n",
              "             [-0.991384  , -0.12605092],\n",
              "             [ 0.9951399 ,  0.09631597],\n",
              "             [ 0.3213112 ,  0.94595045],\n",
              "             [ 0.3194405 ,  0.94665796],\n",
              "             [-0.15415414, -0.9880311 ],\n",
              "             [ 0.9693763 , -0.24364828],\n",
              "             [-0.9793777 , -0.2016932 ],\n",
              "             [-0.9798119 , -0.1997409 ],\n",
              "             [ 0.6950545 ,  0.7188749 ],\n",
              "             [ 0.6933524 ,  0.7199251 ],\n",
              "             [ 0.94885254, -0.31287265],\n",
              "             [-0.01117386, -0.99928164],\n",
              "             [-0.9908249 , -0.13237785]], dtype=float32)"
            ]
          },
          "metadata": {},
          "execution_count": 135
        }
      ]
    }
  ]
}