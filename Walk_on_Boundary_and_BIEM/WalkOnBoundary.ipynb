{
  "nbformat": 4,
  "nbformat_minor": 0,
  "metadata": {
    "colab": {
      "name": "WalkOnBoundary.ipynb",
      "provenance": [],
      "include_colab_link": true
    },
    "kernelspec": {
      "name": "python3",
      "display_name": "Python 3"
    },
    "language_info": {
      "name": "python"
    }
  },
  "cells": [
    {
      "cell_type": "markdown",
      "metadata": {
        "id": "view-in-github",
        "colab_type": "text"
      },
      "source": [
        "<a href=\"https://colab.research.google.com/github/AmandinChyba/Project1-Fields-2022/blob/main/Walk_on_Boundary_and_BIEM/WalkOnBoundary.ipynb\" target=\"_parent\"><img src=\"https://colab.research.google.com/assets/colab-badge.svg\" alt=\"Open In Colab\"/></a>"
      ]
    },
    {
      "cell_type": "code",
      "execution_count": 1,
      "metadata": {
        "id": "5zoCL7guIfDb"
      },
      "outputs": [],
      "source": [
        "import jax\n",
        "from jax import lax\n",
        "from jax import random\n",
        "\n",
        "import jax.numpy as jnp\n",
        "import numpy as np\n",
        "\n",
        "import time\n",
        "\n",
        "import matplotlib.pyplot as plt\n",
        "\n",
        "from functools import partial"
      ]
    },
    {
      "cell_type": "code",
      "source": [
        "def unit_circle_boundary(x, y):\n",
        "  return jnp.sqrt(jnp.power(x, 2) + jnp.power(y, 2)) - 1"
      ],
      "metadata": {
        "id": "ZLd9MKm0LrEO"
      },
      "execution_count": 2,
      "outputs": []
    },
    {
      "cell_type": "code",
      "source": [
        "def getMiddle(p0, p1):\n",
        "  return jnp.array([(p1[0]-p0[0])/2 + p0[0], (p1[1]-p0[1])/2 + p0[1]])"
      ],
      "metadata": {
        "id": "C6GNT70fFmCP"
      },
      "execution_count": 3,
      "outputs": []
    },
    {
      "cell_type": "code",
      "source": [
        "def binaryStep(epoch, bounds, distanceF):\n",
        "  mid = getMiddle(bounds[0],bounds[1])\n",
        "  dist = jnp.where(distanceF(mid[0],mid[1]) > 0, 1, 0)\n",
        "  return jnp.array([mid*(1-dist) + bounds[0]*dist, mid*dist + bounds[1]*(1-dist)])"
      ],
      "metadata": {
        "id": "KpVbT6LfZrbm"
      },
      "execution_count": 21,
      "outputs": []
    },
    {
      "cell_type": "code",
      "source": [
        "def binaryRootSearch(point, angle, binaryFunc, epochs, dir):\n",
        "  epsilon = 0.01\n",
        "  diameter = 2 + epsilon\n",
        "\n",
        "  lower = point\n",
        "  upper = jnp.array([point[0] + dir * diameter * jnp.cos(angle), \n",
        "                     point[1] + dir * diameter * jnp.sin(angle)])\n",
        "  \n",
        "  bounds = jnp.array([lower,upper])\n",
        "  bounds = lax.fori_loop(0, epochs, binaryFunc, bounds)\n",
        "\n",
        "  root = getMiddle(bounds[0],bounds[1])\n",
        "  return root"
      ],
      "metadata": {
        "id": "H2PJpmiyQ9q8"
      },
      "execution_count": 22,
      "outputs": []
    },
    {
      "cell_type": "code",
      "source": [
        "def getDistance(p0, p1):\n",
        "  return jnp.array([jnp.power(p1[0]-p0[0],2) + jnp.power(p1[1]-p0[1],2)]) # distance squared"
      ],
      "metadata": {
        "id": "mqijCjSBF-yG"
      },
      "execution_count": 7,
      "outputs": []
    },
    {
      "cell_type": "code",
      "source": [
        "def wob(g, distanceF, x0, y0, t, epochs, angles):\n",
        "  binaryFunc = partial(binaryStep, distanceF=distanceF)\n",
        "\n",
        "  runningEst = 0\n",
        "  runningSign = 1\n",
        "\n",
        "  pInit = jnp.array([x0,y0])\n",
        "  pNext = binaryRootSearch(pInit, angles[0], binaryFunc, epochs, 1) \n",
        "\n",
        "  for angle in angles[1:]:\n",
        "    runningEst += runningSign * g(pNext)\n",
        "    runningSign *= -1\n",
        "\n",
        "    p0 = binaryRootSearch(pNext, angle, binaryFunc, epochs, -1)\n",
        "    p1 = binaryRootSearch(pNext, angle, binaryFunc, epochs, 1)\n",
        "    pNext = jnp.where(getDistance(pNext,p0) - getDistance(pNext,p1) > 0, p0, p1)\n",
        "\n",
        "  runningEst *= 2\n",
        "  runningEst += runningSign * g(pNext)\n",
        "\n",
        "  return runningEst"
      ],
      "metadata": {
        "id": "7bZqC1SpI3CL"
      },
      "execution_count": 13,
      "outputs": []
    },
    {
      "cell_type": "code",
      "source": [
        "%%time\n",
        "t = 15 # number of jumps on the boundary\n",
        "epochs = 25 # binary search time steps\n",
        "batches = 100000\n",
        "\n",
        "g = lambda p : p[1] # p is a point s.t. p[0]=x and p[1]=y\n",
        "distanceF = unit_circle_boundary\n",
        "\n",
        "x0 = np.array([0.8]*batches)\n",
        "y0 = np.array([0.5]*batches)\n",
        "\n",
        "key = random.PRNGKey(0)\n",
        "angles = random.uniform(key, shape=(t, batches)) * 2 * jnp.pi\n",
        "\n",
        "ans = wob(g, distanceF, x0, y0, t, epochs, angles)\n",
        "\n",
        "mean = jnp.mean(ans)\n",
        "print(mean)"
      ],
      "metadata": {
        "colab": {
          "base_uri": "https://localhost:8080/"
        },
        "id": "QwSKx7xFL9AG",
        "outputId": "706f64fb-c62c-42fa-b852-a9df319a57bb"
      },
      "execution_count": 23,
      "outputs": [
        {
          "output_type": "stream",
          "name": "stdout",
          "text": [
            "0.50634384\n",
            "CPU times: user 1.73 s, sys: 52.2 ms, total: 1.78 s\n",
            "Wall time: 1.45 s\n"
          ]
        }
      ]
    }
  ]
}