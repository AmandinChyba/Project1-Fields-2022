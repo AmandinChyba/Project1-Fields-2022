{
  "nbformat": 4,
  "nbformat_minor": 0,
  "metadata": {
    "colab": {
      "name": "WalkOnBoundary.ipynb",
      "provenance": [],
      "include_colab_link": true
    },
    "kernelspec": {
      "name": "python3",
      "display_name": "Python 3"
    },
    "language_info": {
      "name": "python"
    }
  },
  "cells": [
    {
      "cell_type": "markdown",
      "metadata": {
        "id": "view-in-github",
        "colab_type": "text"
      },
      "source": [
        "<a href=\"https://colab.research.google.com/github/AmandinChyba/Project1-Fields-2022/blob/main/Walk_on_Boundary_and_BIEM/WalkOnBoundary.ipynb\" target=\"_parent\"><img src=\"https://colab.research.google.com/assets/colab-badge.svg\" alt=\"Open In Colab\"/></a>"
      ]
    },
    {
      "cell_type": "code",
      "execution_count": 1,
      "metadata": {
        "id": "5zoCL7guIfDb"
      },
      "outputs": [],
      "source": [
        "import jax\n",
        "from jax import lax\n",
        "from jax import random\n",
        "\n",
        "import jax.numpy as jnp\n",
        "import numpy as np\n",
        "\n",
        "import time\n",
        "\n",
        "import matplotlib.pyplot as plt\n",
        "\n",
        "from functools import partial"
      ]
    },
    {
      "cell_type": "code",
      "source": [
        "def unit_circle_boundary(x, y):\n",
        "  return jnp.sqrt(jnp.power(x, 2) + jnp.power(y, 2)) - 1"
      ],
      "metadata": {
        "id": "ZLd9MKm0LrEO"
      },
      "execution_count": 2,
      "outputs": []
    },
    {
      "cell_type": "code",
      "source": [
        "def getMiddle(p0, p1):\n",
        "  return jnp.array([(p1[0]-p0[0])/2 + p0[0], (p1[1]-p0[1])/2 + p0[1]])"
      ],
      "metadata": {
        "id": "C6GNT70fFmCP"
      },
      "execution_count": 11,
      "outputs": []
    },
    {
      "cell_type": "code",
      "source": [
        "def binaryStep(epoch, bounds):\n",
        "  mid = getMiddle(bounds[0],bounds[1])\n",
        "  dist = jnp.where(distanceF(mid[0],mid[1]) > 0, 1, 0)\n",
        "  return jnp.array([mid*(1-dist) + bounds[0]*dist, mid*dist + bounds[1]*(1-dist)])\n",
        "  # can't use this code because of the if-statement\n",
        "  '''\n",
        "  mid = getMiddle(bounds[0],bounds[1])\n",
        "  if distanceF(mid[0],mid[1]) > 0:\n",
        "    nextBounds = jnp.array([bounds[0],mid])\n",
        "  else:\n",
        "    nextBounds = jnp.array([mid,bounds[1]])\n",
        "  return nextBounds\n",
        "  '''"
      ],
      "metadata": {
        "id": "KpVbT6LfZrbm"
      },
      "execution_count": 41,
      "outputs": []
    },
    {
      "cell_type": "code",
      "source": [
        "def binaryRootSearch(point, angle, distanceF, epochs, forward):\n",
        "  epsilon = 0.01\n",
        "  diameter = 2 + epsilon\n",
        "\n",
        "  lower = point\n",
        "  # optimize this\n",
        "  if forward:\n",
        "    upper = jnp.array([point[0] + diameter * jnp.cos(angle), point[1] + diameter * jnp.sin(angle)])\n",
        "  else:\n",
        "    upper = jnp.array([point[0] - diameter * jnp.cos(angle), point[1] - diameter * jnp.sin(angle)])\n",
        "  \n",
        "  bounds = jnp.array([lower,upper])\n",
        "  bounds = lax.fori_loop(0, epochs, binaryStep, bounds)\n",
        "\n",
        "  root = getMiddle(bounds[0],bounds[1])\n",
        "  return root"
      ],
      "metadata": {
        "id": "H2PJpmiyQ9q8"
      },
      "execution_count": 20,
      "outputs": []
    },
    {
      "cell_type": "code",
      "source": [
        "def getDistance(p0, p1):\n",
        "  return jnp.array([jnp.power(p1[0]-p0[0],2) + jnp.power(p1[1]-p0[1],2)]) # distance squared"
      ],
      "metadata": {
        "id": "mqijCjSBF-yG"
      },
      "execution_count": 12,
      "outputs": []
    },
    {
      "cell_type": "code",
      "source": [
        "def wob(g, distanceF, x0, y0, t, epochs, angles):\n",
        "  runningEst = 0\n",
        "  runningSign = 1\n",
        "\n",
        "  pInit = jnp.array([x0,y0])\n",
        "  pNext = binaryRootSearch(pInit, angles[0], distanceF, epochs, True) \n",
        "\n",
        "  for angle in angles[1:]:\n",
        "    runningEst += runningSign * g(pNext)\n",
        "    runningSign *= -1\n",
        "\n",
        "    p0 = binaryRootSearch(pNext, angle, distanceF, epochs, False)\n",
        "    p1 = binaryRootSearch(pNext, angle, distanceF, epochs, True)\n",
        "    pNext = jnp.where(getDistance(pNext,p0) - getDistance(pNext,p1) > 0, p0, p1)\n",
        "\n",
        "  runningEst *= 2\n",
        "  runningEst += runningSign * g(pNext)\n",
        "\n",
        "  return runningEst"
      ],
      "metadata": {
        "id": "7bZqC1SpI3CL"
      },
      "execution_count": 7,
      "outputs": []
    },
    {
      "cell_type": "code",
      "source": [
        "%%time\n",
        "t = 10 # number of jumps on the boundary\n",
        "epochs = 25 # binary search time steps\n",
        "batches = 1000000\n",
        "\n",
        "g = lambda p : p[1] # p is a point s.t. p[0]=x and p[1]=y\n",
        "distanceF = unit_circle_boundary\n",
        "\n",
        "x0 = np.array([0]*batches)\n",
        "y0 = np.array([-0.3]*batches)\n",
        "\n",
        "key = random.PRNGKey(0)\n",
        "angles = random.uniform(key, shape=(t, batches)) * 2 * jnp.pi\n",
        "\n",
        "ans = wob(g, distanceF, x0, y0, t, epochs, angles)\n",
        "\n",
        "mean = jnp.mean(ans)\n",
        "print(mean)"
      ],
      "metadata": {
        "colab": {
          "base_uri": "https://localhost:8080/"
        },
        "id": "QwSKx7xFL9AG",
        "outputId": "6ef3240e-be4a-4eff-b22a-59b42446ecba"
      },
      "execution_count": 40,
      "outputs": [
        {
          "output_type": "stream",
          "name": "stdout",
          "text": [
            "-0.30611658\n",
            "CPU times: user 8.51 s, sys: 371 ms, total: 8.88 s\n",
            "Wall time: 5.78 s\n"
          ]
        }
      ]
    }
  ]
}