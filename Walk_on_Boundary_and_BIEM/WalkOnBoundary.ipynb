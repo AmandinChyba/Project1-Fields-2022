{
  "nbformat": 4,
  "nbformat_minor": 0,
  "metadata": {
    "colab": {
      "name": "WalkOnBoundary.ipynb",
      "provenance": [],
      "authorship_tag": "ABX9TyNrgqkAH8w4/QO5fZVJMqq8",
      "include_colab_link": true
    },
    "kernelspec": {
      "name": "python3",
      "display_name": "Python 3"
    },
    "language_info": {
      "name": "python"
    }
  },
  "cells": [
    {
      "cell_type": "markdown",
      "metadata": {
        "id": "view-in-github",
        "colab_type": "text"
      },
      "source": [
        "<a href=\"https://colab.research.google.com/github/AmandinChyba/Project1-Fields-2022/blob/main/Walk_on_Boundary_and_BIEM/WalkOnBoundary.ipynb\" target=\"_parent\"><img src=\"https://colab.research.google.com/assets/colab-badge.svg\" alt=\"Open In Colab\"/></a>"
      ]
    },
    {
      "cell_type": "code",
      "execution_count": 1,
      "metadata": {
        "id": "5zoCL7guIfDb"
      },
      "outputs": [],
      "source": [
        "import jax\n",
        "from jax import lax\n",
        "from jax import random\n",
        "\n",
        "import jax.numpy as jnp\n",
        "import numpy as np\n",
        "\n",
        "import time\n",
        "\n",
        "import matplotlib.pyplot as plt\n",
        "from mpl_toolkits.mplot3d import axes3d\n",
        "\n",
        "from functools import partial"
      ]
    },
    {
      "cell_type": "code",
      "source": [
        "def unit_circle_boundary(x, y):\n",
        "  return jnp.sqrt(jnp.power(x, 2) + jnp.power(y, 2)) - 1"
      ],
      "metadata": {
        "id": "ZLd9MKm0LrEO"
      },
      "execution_count": 2,
      "outputs": []
    },
    {
      "cell_type": "code",
      "source": [
        "def initial_point(x_0, y_0, angle, boundary, tolerance):\n",
        "  x = x_0\n",
        "  y = y_0\n",
        "  error = boundary(x, y)\n",
        "  while jnp.abs(error) > tolerance:\n",
        "    x += error * jnp.cos(angle)\n",
        "    y += error * jnp.sin(angle)\n",
        "    error = boundary(x, y)\n",
        "  return x[0], y[0]"
      ],
      "metadata": {
        "id": "fwoTCQflXdzf"
      },
      "execution_count": 3,
      "outputs": []
    },
    {
      "cell_type": "code",
      "source": [
        "def get_point(x_0, y_0, angle, boundary, tolerance):\n",
        "  x = x_0\n",
        "  y = y_0\n",
        "  error = tolerance * -2\n",
        "  theta = angle\n",
        "  if boundary(x + error * jnp.cos(theta), y + error * jnp.sin(theta)) > 0:\n",
        "    theta -= jnp.pi\n",
        "  while jnp.abs(error) > tolerance:\n",
        "    x += error * jnp.cos(theta)\n",
        "    y += error * jnp.sin(theta)\n",
        "    error = boundary(x, y)\n",
        "  return x[0], y[0]"
      ],
      "metadata": {
        "id": "DF8aZCoH73hJ"
      },
      "execution_count": 4,
      "outputs": []
    },
    {
      "cell_type": "code",
      "source": [
        "def wob(g, boundary, x, y, batches, t, tolerance, key):\n",
        "  # generate keys\n",
        "  keys = random.split(key, 2)\n",
        "\n",
        "  # compute angles\n",
        "  angles = random.uniform(keys[0], shape=(t, 1)) * 2 * jnp.pi\n",
        "\n",
        "  # get initial point on boundary\n",
        "  cur_x, cur_y = initial_point(x, y, angles[0], boundary, tolerance)\n",
        "\n",
        "  points = jnp.array([[cur_x, cur_y]])\n",
        "  # run markov chain\n",
        "  for angle in angles[1:]:\n",
        "    next_x, next_y = get_point(cur_x, cur_y, angle, boundary, tolerance)\n",
        "    points = jnp.append(points, jnp.array([[next_x, next_y]]), axis=0)\n",
        "    cur_x = next_x\n",
        "    cur_y = next_y\n",
        "\n",
        "  x_values = points[:,0]\n",
        "  y_values = points[:,1]\n",
        "  g_values = g(x_values, y_values)\n",
        "\n",
        "  pos_g = jnp.sum(g_values[0:t-1:2]) * 2\n",
        "  neg_g = jnp.sum(g_values[1:t-1:2]) * -2\n",
        "  last = g_values[-1]\n",
        "\n",
        "  return pos_g + neg_g + last"
      ],
      "metadata": {
        "id": "7bZqC1SpI3CL"
      },
      "execution_count": 5,
      "outputs": []
    },
    {
      "cell_type": "code",
      "source": [
        "%%time\n",
        "g = lambda x, y : y\n",
        "boundary = unit_circle_boundary\n",
        "x = 0\n",
        "y = 0.5\n",
        "batches = 1000\n",
        "t = 10\n",
        "tolerance = 0.0001\n",
        "key = random.PRNGKey(int(time.time()))\n",
        "keys = random.split(key, batches)\n",
        "\n",
        "ans = jnp.array([])\n",
        "\n",
        "for i in range(batches):\n",
        "  value = wob(g, boundary, x, y, batches, t, tolerance, keys[i])\n",
        "  ans = jnp.append(ans, jnp.array([value]))\n",
        "\n",
        "mean = jnp.mean(ans)\n",
        "print(mean)"
      ],
      "metadata": {
        "colab": {
          "base_uri": "https://localhost:8080/"
        },
        "id": "QwSKx7xFL9AG",
        "outputId": "5fe14e10-6bcd-4c1c-e6a6-900d0442a14d"
      },
      "execution_count": 6,
      "outputs": [
        {
          "output_type": "stream",
          "name": "stderr",
          "text": [
            "WARNING:absl:No GPU/TPU found, falling back to CPU. (Set TF_CPP_MIN_LOG_LEVEL=0 and rerun for more info.)\n"
          ]
        },
        {
          "output_type": "stream",
          "name": "stdout",
          "text": [
            "0.49623543\n",
            "CPU times: user 2min 45s, sys: 727 ms, total: 2min 46s\n",
            "Wall time: 2min 47s\n"
          ]
        }
      ]
    }
  ]
}