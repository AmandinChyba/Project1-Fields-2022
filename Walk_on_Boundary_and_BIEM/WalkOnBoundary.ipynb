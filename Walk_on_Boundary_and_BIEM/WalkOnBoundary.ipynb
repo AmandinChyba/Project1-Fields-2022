{
  "nbformat": 4,
  "nbformat_minor": 0,
  "metadata": {
    "colab": {
      "name": "WalkOnBoundary.ipynb",
      "provenance": [],
      "include_colab_link": true
    },
    "kernelspec": {
      "name": "python3",
      "display_name": "Python 3"
    },
    "language_info": {
      "name": "python"
    },
    "gpuClass": "standard",
    "accelerator": "GPU"
  },
  "cells": [
    {
      "cell_type": "markdown",
      "metadata": {
        "id": "view-in-github",
        "colab_type": "text"
      },
      "source": [
        "<a href=\"https://colab.research.google.com/github/AmandinChyba/Project1-Fields-2022/blob/main/Walk_on_Boundary_and_BIEM/WalkOnBoundary.ipynb\" target=\"_parent\"><img src=\"https://colab.research.google.com/assets/colab-badge.svg\" alt=\"Open In Colab\"/></a>"
      ]
    },
    {
      "cell_type": "code",
      "execution_count": 239,
      "metadata": {
        "id": "5zoCL7guIfDb"
      },
      "outputs": [],
      "source": [
        "import jax\n",
        "from jax import lax\n",
        "from jax import random\n",
        "\n",
        "import jax.numpy as jnp\n",
        "import numpy as np\n",
        "\n",
        "import time\n",
        "\n",
        "import matplotlib.pyplot as plt\n",
        "\n",
        "from functools import partial"
      ]
    },
    {
      "cell_type": "code",
      "source": [
        "@jax.jit\n",
        "def unit_circle_distance(p): # signed distance function for 2d unit circle\n",
        "  return jnp.linalg.norm(p,ord=2,axis=0) - 1"
      ],
      "metadata": {
        "id": "ZLd9MKm0LrEO"
      },
      "execution_count": 241,
      "outputs": []
    },
    {
      "cell_type": "code",
      "source": [
        "@jax.jit\n",
        "def boundaryCond(p):\n",
        "  return p[1]"
      ],
      "metadata": {
        "id": "S4YxwTin-A8I"
      },
      "execution_count": 242,
      "outputs": []
    },
    {
      "cell_type": "code",
      "source": [
        "@jax.jit\n",
        "def binaryRootSearch(p0, p1, epochs, dir):\n",
        "  p1 = p0 + p1 # need to center p1 at p0\n",
        "\n",
        "  current = jnp.zeros((1, jnp.size(p0, axis=1)))\n",
        "\n",
        "  def binaryStep(i, current):\n",
        "    next = current + jnp.power(0.5,i+1)\n",
        "    dist = unit_circle_distance(p0 + dir * next * (p1 - p0)) # need to specify signed distance function\n",
        "                                                             # cause its not a JAX-type\n",
        "    return jnp.where(dist > 0, current, next)\n",
        "  \n",
        "  current = lax.fori_loop(0, epochs, binaryStep, current)\n",
        "  \n",
        "  return p0 + dir * current * (p1 - p0), current # return the roots, t-values"
      ],
      "metadata": {
        "id": "H2PJpmiyQ9q8"
      },
      "execution_count": 243,
      "outputs": []
    },
    {
      "cell_type": "code",
      "source": [
        "@jax.jit\n",
        "def wob(p0, p1, t, epochs):\n",
        "  runningEst = 0\n",
        "  runningSign = 1\n",
        "\n",
        "  pNext, tFirst = binaryRootSearch(p0, p1[0], epochs, 1)\n",
        "\n",
        "  for p in p1[1:]:\n",
        "    runningEst += runningSign * boundaryCond(pNext)\n",
        "    runningSign *= -1 \n",
        "    pBack, tBack = binaryRootSearch(pNext, p, epochs, -1)\n",
        "    pFor, tFor = binaryRootSearch(pNext, p, epochs, 1)\n",
        "    pNext = jnp.where(tBack - tFor > 0, pBack, pFor)\n",
        "\n",
        "  runningEst *= 2\n",
        "  runningEst += runningSign * boundaryCond(pNext)\n",
        "  return runningEst"
      ],
      "metadata": {
        "id": "7bZqC1SpI3CL"
      },
      "execution_count": 244,
      "outputs": []
    },
    {
      "cell_type": "code",
      "source": [
        "def computeSoln(t, epochs, batches, p, key):\n",
        "  p0 = jnp.full((len(p), batches),p)\n",
        "\n",
        "  # generate random directions in n-dimensions\n",
        "  diameter = 2\n",
        "  p1 = random.normal(key, shape=(t, len(p), batches))\n",
        "  normalize = jnp.linalg.norm(p1, ord=2, axis=1).reshape((t, 1, batches))\n",
        "  p1 = diameter * jnp.divide(p1, normalize)\n",
        "\n",
        "  ans = wob(p0, p1, t, epochs)\n",
        "  return jnp.mean(ans)"
      ],
      "metadata": {
        "id": "QwSKx7xFL9AG"
      },
      "execution_count": 245,
      "outputs": []
    },
    {
      "cell_type": "code",
      "source": [
        "%%time\n",
        "key = random.PRNGKey(int(time.time()))\n",
        "x = jnp.array([[0.3,0.8]]).transpose()\n",
        "print(computeSoln(2, 15, 100000, x, key))"
      ],
      "metadata": {
        "colab": {
          "base_uri": "https://localhost:8080/"
        },
        "id": "x_Uq7vQu6nn4",
        "outputId": "7686297c-e7c1-4d17-e3eb-3ce176c824b1"
      },
      "execution_count": 268,
      "outputs": [
        {
          "output_type": "stream",
          "name": "stdout",
          "text": [
            "0.7979811\n",
            "CPU times: user 35 ms, sys: 1.85 ms, total: 36.8 ms\n",
            "Wall time: 37.5 ms\n"
          ]
        }
      ]
    },
    {
      "cell_type": "code",
      "source": [
        "%%time\n",
        "t = 2 # number of jumps on the boundary\n",
        "epochs = 10 # binary search time steps\n",
        "batches = np.power(10,np.arange(1,7))\n",
        "x = jnp.array([[0.5,0.3]]).transpose()\n",
        "\n",
        "key = random.PRNGKey(int(time.time()))\n",
        "keys = random.split(key, len(batches))\n",
        "\n",
        "values = np.zeros(len(batches))\n",
        "for i in range(len(batches)):\n",
        "  values[i] = computeSoln(t, epochs, batches[i], x, keys[i])\n",
        "\n",
        "error = np.abs(values - 0.3)\n",
        "plt.plot(batches, error)\n",
        "plt.xscale('log')\n",
        "plt.yscale('log')\n",
        "plt.xlabel('number of batches')\n",
        "plt.ylabel('absolute error')\n",
        "plt.title('Error over batches for (0.5, 0.3)')"
      ],
      "metadata": {
        "colab": {
          "base_uri": "https://localhost:8080/",
          "height": 335
        },
        "id": "peu3GbzsaZOM",
        "outputId": "e6cb397c-8912-4a7b-b6ca-ba0e753008dc"
      },
      "execution_count": 272,
      "outputs": [
        {
          "output_type": "stream",
          "name": "stdout",
          "text": [
            "CPU times: user 334 ms, sys: 22.1 ms, total: 356 ms\n",
            "Wall time: 275 ms\n"
          ]
        },
        {
          "output_type": "display_data",
          "data": {
            "text/plain": [
              "<Figure size 432x288 with 1 Axes>"
            ],
            "image/png": "[encoded data removed]"
          },
          "metadata": {
            "needs_background": "light"
          }
        }
      ]
    }
  ]
}