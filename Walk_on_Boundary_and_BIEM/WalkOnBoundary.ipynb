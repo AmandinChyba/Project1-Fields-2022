{
  "nbformat": 4,
  "nbformat_minor": 0,
  "metadata": {
    "colab": {
      "name": "WalkOnBoundary.ipynb",
      "provenance": [],
      "include_colab_link": true
    },
    "kernelspec": {
      "name": "python3",
      "display_name": "Python 3"
    },
    "language_info": {
      "name": "python"
    },
    "gpuClass": "standard"
  },
  "cells": [
    {
      "cell_type": "markdown",
      "metadata": {
        "id": "view-in-github",
        "colab_type": "text"
      },
      "source": [
        "<a href=\"https://colab.research.google.com/github/AmandinChyba/Project1-Fields-2022/blob/main/Walk_on_Boundary_and_BIEM/WalkOnBoundary.ipynb\" target=\"_parent\"><img src=\"https://colab.research.google.com/assets/colab-badge.svg\" alt=\"Open In Colab\"/></a>"
      ]
    },
    {
      "cell_type": "code",
      "execution_count": 114,
      "metadata": {
        "id": "5zoCL7guIfDb"
      },
      "outputs": [],
      "source": [
        "import jax\n",
        "from jax import lax\n",
        "from jax import random\n",
        "\n",
        "import jax.numpy as jnp\n",
        "import numpy as np\n",
        "\n",
        "import time\n",
        "\n",
        "import matplotlib.pyplot as plt\n",
        "import pandas as pd"
      ]
    },
    {
      "cell_type": "code",
      "source": [
        "'''\n",
        "signed distance function of the domain\n",
        "'''\n",
        "@jax.jit\n",
        "def signDistance(p):\n",
        "  return jnp.linalg.norm(p,ord=2,axis=0) - 1 # unit sphere"
      ],
      "metadata": {
        "id": "ZLd9MKm0LrEO"
      },
      "execution_count": 115,
      "outputs": []
    },
    {
      "cell_type": "code",
      "source": [
        "'''\n",
        "bounding box diameter\n",
        "'''\n",
        "@jax.jit\n",
        "def box():\n",
        "  return 2"
      ],
      "metadata": {
        "id": "umBoHcUAS0r2"
      },
      "execution_count": 116,
      "outputs": []
    },
    {
      "cell_type": "code",
      "source": [
        "'''\n",
        "Dirchlet boundary condition\n",
        "'''\n",
        "@jax.jit\n",
        "def boundaryCond(p):\n",
        "  return 1.0*(p[1] > 0.0)"
      ],
      "metadata": {
        "id": "S4YxwTin-A8I"
      },
      "execution_count": 117,
      "outputs": []
    },
    {
      "cell_type": "code",
      "source": [
        "def trueSoln(p):\n",
        "  return 0.5 + np.arctan(2*p[1]/(1-np.power(p[0],2)-np.power(p[1],2)))/np.pi"
      ],
      "metadata": {
        "id": "rKAu7NITmy2I"
      },
      "execution_count": 118,
      "outputs": []
    },
    {
      "cell_type": "code",
      "source": [
        "'''\n",
        "binary search to find boundary intersection\n",
        "'''\n",
        "@jax.jit\n",
        "def binaryRootSearch(p0, p1, rootSteps, dir):\n",
        "  p1 = p0 + p1 # need to center p1 at p0\n",
        "\n",
        "  current = jnp.zeros((jnp.size(p0, 1), jnp.size(p0, 2)))\n",
        "\n",
        "  def binaryStep(i, current):\n",
        "    next = current + jnp.power(0.5,i+1)\n",
        "    dist = signDistance(p0 + dir * next * (p1 - p0))\n",
        "    return jnp.where(dist > 0, current, next)\n",
        "\n",
        "  current = lax.fori_loop(0, rootSteps, binaryStep, current)\n",
        "  \n",
        "  return p0 + dir * current * (p1 - p0), current # return the roots, t-values"
      ],
      "metadata": {
        "id": "H2PJpmiyQ9q8"
      },
      "execution_count": 119,
      "outputs": []
    },
    {
      "cell_type": "code",
      "source": [
        "'''\n",
        "run the wob and calculate the estimator\n",
        "'''\n",
        "@jax.jit\n",
        "def wob(p0, p1, t, rootSteps):\n",
        "  '''\n",
        "  pFirst, tFirst = binaryRootSearch(p0, p1[0], rootSteps, 1)\n",
        "  def wobStep(i, next):\n",
        "    est = next[1] + 2 * jnp.power(-1,i+1) * boundaryCond(next[0])\n",
        "\n",
        "    pBack, tBack = binaryRootSearch(next[0], p1[i], rootSteps, -1)\n",
        "    pFor, tFor = binaryRootSearch(next[0], p1[i], rootSteps, 1)\n",
        "    pNext = jnp.where(tBack > tFor, pBack, pFor)\n",
        "    return (pNext, est)\n",
        "\n",
        "  est = jnp.zeros((jnp.size(p1,2),jnp.size(p1, 3)))\n",
        "  pLast, est = lax.fori_loop(1, t, wobStep, (pFirst, est))\n",
        "  return est + jnp.power(-1, t+1) * boundaryCond(pLast)\n",
        "  '''\n",
        "  runningEst = jnp.zeros((jnp.size(p0,1),jnp.size(p0,2)))\n",
        "  runningSign = 1\n",
        "\n",
        "  pNext, tFirst = binaryRootSearch(p0, p1[0], rootSteps, 1)\n",
        "\n",
        "  for p in p1[1:]:\n",
        "    runningEst += runningSign * boundaryCond(pNext)\n",
        "    runningSign *= -1\n",
        "    pBack, tBack = binaryRootSearch(pNext, p, rootSteps, -1)\n",
        "    pFor, tFor = binaryRootSearch(pNext, p, rootSteps, 1)\n",
        "    pNext = jnp.where(tBack - tFor > 0, pBack, pFor)\n",
        "\n",
        "  runningEst *= 2\n",
        "  runningEst += runningSign * boundaryCond(pNext)\n",
        "  return runningEst"
      ],
      "metadata": {
        "id": "7bZqC1SpI3CL"
      },
      "execution_count": 120,
      "outputs": []
    },
    {
      "cell_type": "code",
      "source": [
        "'''\n",
        "setup the wob\n",
        "'''\n",
        "def computeSoln(t, rootSteps, batches, p, key):\n",
        "  p = p.transpose()\n",
        "  p = jnp.reshape(p, (jnp.size(p,0), jnp.size(p,1), 1))\n",
        "  p0 = jnp.tile(p, (1,1,batches))\n",
        "\n",
        "  # generate random directions in n-dimensions\n",
        "  p1 = random.normal(key, shape=(t, jnp.size(p, 0), jnp.size(p, 1), batches))\n",
        "  normalize = jnp.linalg.norm(p1, ord=2, axis=1, keepdims=True)\n",
        "  p1 = box() * jnp.divide(p1, normalize)\n",
        "\n",
        "  ans = wob(p0, p1, t, rootSteps)\n",
        "  return jnp.mean(ans, 1, keepdims=True), jnp.std(ans, 1, keepdims=True)"
      ],
      "metadata": {
        "id": "QwSKx7xFL9AG"
      },
      "execution_count": 121,
      "outputs": []
    },
    {
      "cell_type": "code",
      "source": [
        "%%time\n",
        "'''\n",
        "testing code\n",
        "'''\n",
        "key = random.PRNGKey(int(time.time()))\n",
        "#x = jnp.array([[0.5,0,0.2],[0,0.15,0.7]])\n",
        "x = jnp.array([[0.5,0.3]])\n",
        "\n",
        "y, sd = computeSoln(10, 25, 100000, x, key)\n",
        "print('solution:', y)\n",
        "print('exact:',trueSoln([0.5,0.3]))"
      ],
      "metadata": {
        "id": "x_Uq7vQu6nn4",
        "colab": {
          "base_uri": "https://localhost:8080/"
        },
        "outputId": "1492250f-518a-4759-a9f2-4150e6908ae2"
      },
      "execution_count": 122,
      "outputs": [
        {
          "output_type": "stream",
          "name": "stdout",
          "text": [
            "solution: [[0.73313]]\n",
            "exact: 0.7348538278116319\n",
            "CPU times: user 2.27 s, sys: 58.6 ms, total: 2.33 s\n",
            "Wall time: 2.33 s\n"
          ]
        }
      ]
    },
    {
      "cell_type": "code",
      "source": [
        "'''\n",
        "generate dataset with throw-out algorithm\n",
        "WARNING: this algorithm gets worse in higher dimensions\n",
        "'''\n",
        "key = random.PRNGKey(1)\n",
        "dimensions = 3\n",
        "samples = 100\n",
        "x = random.uniform(key, minval=-box()/2, maxval=box()-box()/2, shape=(samples,dimensions))\n",
        "indices = jnp.where(signDistance(x.transpose()) < 0)\n",
        "print('kept', len(x[indices]), 'out of', len(x))\n",
        "x = x[indices]\n",
        "\n",
        "#print(x)\n",
        "#print('solution:', y)"
      ],
      "metadata": {
        "id": "VBO3R5H7zdm3",
        "outputId": "e84f6676-1999-4090-ed40-cec9801ab8af",
        "colab": {
          "base_uri": "https://localhost:8080/"
        }
      },
      "execution_count": 123,
      "outputs": [
        {
          "output_type": "stream",
          "name": "stdout",
          "text": [
            "kept 50 out of 100\n"
          ]
        }
      ]
    },
    {
      "cell_type": "code",
      "source": [
        "%%time\n",
        "y = computeSoln(4, 15, 100000, x, key)"
      ],
      "metadata": {
        "id": "u08FahY-cQI0",
        "outputId": "fc73d1e5-c976-489b-93ff-a131a994456f",
        "colab": {
          "base_uri": "https://localhost:8080/"
        }
      },
      "execution_count": 124,
      "outputs": [
        {
          "output_type": "stream",
          "name": "stdout",
          "text": [
            "CPU times: user 8.46 s, sys: 77.1 ms, total: 8.54 s\n",
            "Wall time: 5.63 s\n"
          ]
        }
      ]
    },
    {
      "cell_type": "code",
      "source": [
        "'''\n",
        "save the dataset\n",
        "'''\n",
        "data = jnp.concatenate((y,x), axis=1)\n",
        "df = pd.DataFrame(data)\n",
        "print(df)\n",
        "df.to_pickle('wobDataset.pkl')"
      ],
      "metadata": {
        "id": "bDze7C0Opf-m",
        "outputId": "03743a9f-4cc2-4a41-ac27-94c8b0aa6681",
        "colab": {
          "base_uri": "https://localhost:8080/",
          "height": 387
        }
      },
      "execution_count": 125,
      "outputs": [
        {
          "output_type": "error",
          "ename": "TypeError",
          "evalue": "ignored",
          "traceback": [
            "\u001b[0;31m---------------------------------------------------------------------------\u001b[0m",
            "\u001b[0;31mTypeError\u001b[0m                                 Traceback (most recent call last)",
            "\u001b[0;32m<ipython-input-125-ccfa3f3ca905>\u001b[0m in \u001b[0;36m<module>\u001b[0;34m()\u001b[0m\n\u001b[1;32m      2\u001b[0m \u001b[0msave\u001b[0m \u001b[0mthe\u001b[0m \u001b[0mdataset\u001b[0m\u001b[0;34m\u001b[0m\u001b[0;34m\u001b[0m\u001b[0m\n\u001b[1;32m      3\u001b[0m '''\n\u001b[0;32m----> 4\u001b[0;31m \u001b[0mdata\u001b[0m \u001b[0;34m=\u001b[0m \u001b[0mjnp\u001b[0m\u001b[0;34m.\u001b[0m\u001b[0mconcatenate\u001b[0m\u001b[0;34m(\u001b[0m\u001b[0;34m(\u001b[0m\u001b[0my\u001b[0m\u001b[0;34m,\u001b[0m\u001b[0mx\u001b[0m\u001b[0;34m)\u001b[0m\u001b[0;34m,\u001b[0m \u001b[0maxis\u001b[0m\u001b[0;34m=\u001b[0m\u001b[0;36m1\u001b[0m\u001b[0;34m)\u001b[0m\u001b[0;34m\u001b[0m\u001b[0;34m\u001b[0m\u001b[0m\n\u001b[0m\u001b[1;32m      5\u001b[0m \u001b[0mdf\u001b[0m \u001b[0;34m=\u001b[0m \u001b[0mpd\u001b[0m\u001b[0;34m.\u001b[0m\u001b[0mDataFrame\u001b[0m\u001b[0;34m(\u001b[0m\u001b[0mdata\u001b[0m\u001b[0;34m)\u001b[0m\u001b[0;34m\u001b[0m\u001b[0;34m\u001b[0m\u001b[0m\n\u001b[1;32m      6\u001b[0m \u001b[0mprint\u001b[0m\u001b[0;34m(\u001b[0m\u001b[0mdf\u001b[0m\u001b[0;34m)\u001b[0m\u001b[0;34m\u001b[0m\u001b[0;34m\u001b[0m\u001b[0m\n",
            "\u001b[0;32m/usr/local/lib/python3.7/dist-packages/jax/_src/numpy/lax_numpy.py\u001b[0m in \u001b[0;36mconcatenate\u001b[0;34m(arrays, axis)\u001b[0m\n\u001b[1;32m   1662\u001b[0m   \u001b[0;32mif\u001b[0m \u001b[0misinstance\u001b[0m\u001b[0;34m(\u001b[0m\u001b[0marrays\u001b[0m\u001b[0;34m,\u001b[0m \u001b[0;34m(\u001b[0m\u001b[0mnp\u001b[0m\u001b[0;34m.\u001b[0m\u001b[0mndarray\u001b[0m\u001b[0;34m,\u001b[0m \u001b[0mndarray\u001b[0m\u001b[0;34m)\u001b[0m\u001b[0;34m)\u001b[0m\u001b[0;34m:\u001b[0m\u001b[0;34m\u001b[0m\u001b[0;34m\u001b[0m\u001b[0m\n\u001b[1;32m   1663\u001b[0m     \u001b[0;32mreturn\u001b[0m \u001b[0m_concatenate_array\u001b[0m\u001b[0;34m(\u001b[0m\u001b[0marrays\u001b[0m\u001b[0;34m,\u001b[0m \u001b[0maxis\u001b[0m\u001b[0;34m)\u001b[0m\u001b[0;34m\u001b[0m\u001b[0;34m\u001b[0m\u001b[0m\n\u001b[0;32m-> 1664\u001b[0;31m   \u001b[0m_stackable\u001b[0m\u001b[0;34m(\u001b[0m\u001b[0;34m*\u001b[0m\u001b[0marrays\u001b[0m\u001b[0;34m)\u001b[0m \u001b[0;32mor\u001b[0m \u001b[0m_check_arraylike\u001b[0m\u001b[0;34m(\u001b[0m\u001b[0;34m\"concatenate\"\u001b[0m\u001b[0;34m,\u001b[0m \u001b[0;34m*\u001b[0m\u001b[0marrays\u001b[0m\u001b[0;34m)\u001b[0m\u001b[0;34m\u001b[0m\u001b[0;34m\u001b[0m\u001b[0m\n\u001b[0m\u001b[1;32m   1665\u001b[0m   \u001b[0;32mif\u001b[0m \u001b[0;32mnot\u001b[0m \u001b[0mlen\u001b[0m\u001b[0;34m(\u001b[0m\u001b[0marrays\u001b[0m\u001b[0;34m)\u001b[0m\u001b[0;34m:\u001b[0m\u001b[0;34m\u001b[0m\u001b[0;34m\u001b[0m\u001b[0m\n\u001b[1;32m   1666\u001b[0m     \u001b[0;32mraise\u001b[0m \u001b[0mValueError\u001b[0m\u001b[0;34m(\u001b[0m\u001b[0;34m\"Need at least one array to concatenate.\"\u001b[0m\u001b[0;34m)\u001b[0m\u001b[0;34m\u001b[0m\u001b[0;34m\u001b[0m\u001b[0m\n",
            "\u001b[0;32m/usr/local/lib/python3.7/dist-packages/jax/_src/numpy/util.py\u001b[0m in \u001b[0;36m_check_arraylike\u001b[0;34m(fun_name, *args)\u001b[0m\n\u001b[1;32m    310\u001b[0m                     if not _arraylike(arg))\n\u001b[1;32m    311\u001b[0m     \u001b[0mmsg\u001b[0m \u001b[0;34m=\u001b[0m \u001b[0;34m\"{} requires ndarray or scalar arguments, got {} at position {}.\"\u001b[0m\u001b[0;34m\u001b[0m\u001b[0;34m\u001b[0m\u001b[0m\n\u001b[0;32m--> 312\u001b[0;31m     \u001b[0;32mraise\u001b[0m \u001b[0mTypeError\u001b[0m\u001b[0;34m(\u001b[0m\u001b[0mmsg\u001b[0m\u001b[0;34m.\u001b[0m\u001b[0mformat\u001b[0m\u001b[0;34m(\u001b[0m\u001b[0mfun_name\u001b[0m\u001b[0;34m,\u001b[0m \u001b[0mtype\u001b[0m\u001b[0;34m(\u001b[0m\u001b[0marg\u001b[0m\u001b[0;34m)\u001b[0m\u001b[0;34m,\u001b[0m \u001b[0mpos\u001b[0m\u001b[0;34m)\u001b[0m\u001b[0;34m)\u001b[0m\u001b[0;34m\u001b[0m\u001b[0;34m\u001b[0m\u001b[0m\n\u001b[0m\u001b[1;32m    313\u001b[0m \u001b[0;34m\u001b[0m\u001b[0m\n\u001b[1;32m    314\u001b[0m \u001b[0;34m\u001b[0m\u001b[0m\n",
            "\u001b[0;31mTypeError\u001b[0m: concatenate requires ndarray or scalar arguments, got <class 'tuple'> at position 0."
          ]
        }
      ]
    },
    {
      "cell_type": "code",
      "source": [
        "'''\n",
        "download the dataset\n",
        "'''\n",
        "df = pd.read_pickle('wobDataset.pkl')\n",
        "y = df.iloc[:,0].to_numpy() # [u0, u1, ..., un]\n",
        "x = df.iloc[:,1:].to_numpy() # [p0, p1, ..., pn]"
      ],
      "metadata": {
        "id": "ZjDK52IyvjJx"
      },
      "execution_count": null,
      "outputs": []
    },
    {
      "cell_type": "code",
      "source": [
        "'''\n",
        "plot the data\n",
        "'''\n",
        "t = 10\n",
        "rootSteps = 25\n",
        "rootSteps = np.arange(25)\n",
        "#batches = np.power(10,np.arange(1,7))\n",
        "batches = 100000\n",
        "y = jnp.array([[0.5,0.3]])\n",
        "\n",
        "key = random.PRNGKey(int(time.time()))\n",
        "keys = random.split(key, len(rootSteps))\n",
        "\n",
        "values = np.zeros(len(rootSteps))\n",
        "sdValues = np.zeros(len(rootSteps))\n",
        "for i in range(len(rootSteps)):\n",
        "  values[i], sdValues[i] = computeSoln(t, rootSteps[i], batches, y, keys[i])\n",
        "\n",
        "\n",
        "upperC = values + 1.96 * sdValues / np.sqrt(batches)\n",
        "lowerC = values - 1.96 * sdValues / np.sqrt(batches)\n",
        "#error = np.abs(values - 0.3)\n",
        "plt.plot(rootSteps, values-trueSoln(y[0]))\n",
        "#plt.xscale('log')\n",
        "#plt.yscale('log')\n",
        "plt.fill_between(rootSteps, lowerC-trueSoln(y[0]), upperC-trueSoln(y[0]), color='b', alpha=.1)"
      ],
      "metadata": {
        "colab": {
          "base_uri": "https://localhost:8080/",
          "height": 283
        },
        "id": "GIg5O1-Z7ysD",
        "outputId": "ac25db78-a39a-4fb3-fa33-a95d289330f1"
      },
      "execution_count": 126,
      "outputs": [
        {
          "output_type": "execute_result",
          "data": {
            "text/plain": [
              "<matplotlib.collections.PolyCollection at 0x7f9eb4253990>"
            ]
          },
          "metadata": {},
          "execution_count": 126
        },
        {
          "output_type": "display_data",
          "data": {
            "text/plain": [
              "<Figure size 432x288 with 1 Axes>"
            ],
            "image/png": "[encoded data removed]"
          },
          "metadata": {
            "needs_background": "light"
          }
        }
      ]
    }
  ]
}