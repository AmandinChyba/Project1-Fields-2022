{
  "nbformat": 4,
  "nbformat_minor": 0,
  "metadata": {
    "colab": {
      "name": "WalkOnBoundary.ipynb",
      "provenance": [],
      "include_colab_link": true
    },
    "kernelspec": {
      "name": "python3",
      "display_name": "Python 3"
    },
    "language_info": {
      "name": "python"
    }
  },
  "cells": [
    {
      "cell_type": "markdown",
      "metadata": {
        "id": "view-in-github",
        "colab_type": "text"
      },
      "source": [
        "<a href=\"https://colab.research.google.com/github/AmandinChyba/Project1-Fields-2022/blob/main/Walk_on_Boundary_and_BIEM/WalkOnBoundary.ipynb\" target=\"_parent\"><img src=\"https://colab.research.google.com/assets/colab-badge.svg\" alt=\"Open In Colab\"/></a>"
      ]
    },
    {
      "cell_type": "code",
      "execution_count": 1,
      "metadata": {
        "id": "5zoCL7guIfDb"
      },
      "outputs": [],
      "source": [
        "import jax\n",
        "from jax import lax\n",
        "from jax import random\n",
        "\n",
        "import jax.numpy as jnp\n",
        "import numpy as np\n",
        "\n",
        "import time\n",
        "\n",
        "import matplotlib.pyplot as plt\n",
        "from mpl_toolkits.mplot3d import axes3d\n",
        "\n",
        "from functools import partial"
      ]
    },
    {
      "cell_type": "code",
      "source": [
        "def unit_circle_boundary(x, y):\n",
        "  return jnp.sqrt(jnp.power(x, 2) + jnp.power(y, 2)) - 1"
      ],
      "metadata": {
        "id": "ZLd9MKm0LrEO"
      },
      "execution_count": 2,
      "outputs": []
    },
    {
      "cell_type": "code",
      "source": [
        "def getMiddle(p0, p1):\n",
        "  return (p1[0]-p0[0])/2 + p0[0], (p1[1]-p0[1])/2 + p0[1]\n",
        "\n",
        "def getDistance(p0, p1):\n",
        "  # distance squared\n",
        "  return jnp.power(p0[0]-p1[0],2) + jnp.power(p0[0]-p1[0],2)\n",
        "\n",
        "def binaryRootSearch(x, y, angle, distanceF, epochs, ray):\n",
        "  #error = - 2 * jnp.power(0.5, epochs)\n",
        "\n",
        "  theta = angle\n",
        "  #if not ray:\n",
        "  #  if distanceF(x-0.01*jnp.cos(theta), y-0.01*jnp.sin(theta)) > 0:\n",
        "  #      theta -= jnp.pi\n",
        "\n",
        "  lower = (x,y)\n",
        "  #upper = (x+2.1*jnp.cos(theta),y+2.1*jnp.sin(theta)) # pick a point of distance 2 on the line\n",
        "  if ray:\n",
        "    upper = (x+2.1*jnp.cos(theta),y+2.1*jnp.sin(theta))\n",
        "  else:\n",
        "    upper = (x-2.1*jnp.cos(theta),y-2.1*jnp.sin(theta))\n",
        "  \n",
        "  for i in range(epochs):\n",
        "    middle = getMiddle(lower, upper)\n",
        "    if distanceF(middle[0], middle[1]) > 0:\n",
        "      upper = middle\n",
        "    else:\n",
        "      lower = middle\n",
        "  \n",
        "  #return getMiddle(lower, upper)\n",
        "  return upper"
      ],
      "metadata": {
        "id": "H2PJpmiyQ9q8"
      },
      "execution_count": 272,
      "outputs": []
    },
    {
      "cell_type": "code",
      "source": [
        "def wob(g, distanceF, x0, y0, t, epochs, key):\n",
        "  angles = random.uniform(key, shape=(t, 1)) * 2 * jnp.pi\n",
        "\n",
        "  runningEst = 0\n",
        "  runningSign = 1\n",
        "  #x, y = initial_point(x0, y0, angles[0], distanceF, 0.001)\n",
        "  x, y = binaryRootSearch(x0, y0, angles[0], distanceF, epochs, True)\n",
        "  #print('(',x[0],',',y[0],')')\n",
        "\n",
        "  for angle in angles[1:]:\n",
        "    runningEst += runningSign * g(x, y)\n",
        "    runningSign *= -1\n",
        "    \n",
        "    #x,y = binaryRootSearch(x, y, angle, distanceF, epochs, False)\n",
        "    p0 = binaryRootSearch(x, y, angle, distanceF, epochs, False)\n",
        "    p1 = binaryRootSearch(x, y, angle, distanceF, epochs, True)\n",
        "    # pick the farther x,y pair as the new location\n",
        "    if getDistance((x,y),p0) > getDistance((x,y),p1):\n",
        "      x,y = p0\n",
        "    else:\n",
        "      x,y = p1\n",
        "\n",
        "    #x, y = get_point(x, y, angle, distanceF, 0.001)\n",
        "    #print('(',x[0],',',y[0],')')\n",
        "\n",
        "  runningEst *= 2\n",
        "  runningEst += runningSign * g(x,y)\n",
        "\n",
        "  return runningEst"
      ],
      "metadata": {
        "id": "7bZqC1SpI3CL"
      },
      "execution_count": 270,
      "outputs": []
    },
    {
      "cell_type": "code",
      "source": [
        "#%%time\n",
        "g = lambda x, y : y\n",
        "distanceF = unit_circle_boundary\n",
        "x0 = 0\n",
        "y0 = -0.9\n",
        "batches = 1000\n",
        "t = 10\n",
        "epochs = 50\n",
        "key = random.PRNGKey(2)\n",
        "keys = random.split(key, batches)\n",
        "\n",
        "ans = np.empty(batches)\n",
        "for i in range(batches):\n",
        "  value = wob(g, distanceF, x0, y0, t, epochs, keys[i])\n",
        "  ans[i] = jnp.array(value)\n",
        "  if (i % 50 == 0 and i != 0):\n",
        "    print('soln:', jnp.mean(ans[:i]))\n",
        "\n",
        "mean = jnp.mean(ans)\n",
        "print(mean)"
      ],
      "metadata": {
        "id": "QwSKx7xFL9AG"
      },
      "execution_count": null,
      "outputs": []
    }
  ]
}