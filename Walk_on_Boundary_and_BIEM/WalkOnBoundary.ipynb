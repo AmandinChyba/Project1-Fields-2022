{
  "nbformat": 4,
  "nbformat_minor": 0,
  "metadata": {
    "colab": {
      "name": "WalkOnBoundary.ipynb",
      "provenance": [],
      "include_colab_link": true
    },
    "kernelspec": {
      "name": "python3",
      "display_name": "Python 3"
    },
    "language_info": {
      "name": "python"
    },
    "gpuClass": "standard"
  },
  "cells": [
    {
      "cell_type": "markdown",
      "metadata": {
        "id": "view-in-github",
        "colab_type": "text"
      },
      "source": [
        "<a href=\"https://colab.research.google.com/github/AmandinChyba/Project1-Fields-2022/blob/main/Walk_on_Boundary_and_BIEM/WalkOnBoundary.ipynb\" target=\"_parent\"><img src=\"https://colab.research.google.com/assets/colab-badge.svg\" alt=\"Open In Colab\"/></a>"
      ]
    },
    {
      "cell_type": "code",
      "execution_count": 14,
      "metadata": {
        "id": "5zoCL7guIfDb"
      },
      "outputs": [],
      "source": [
        "import jax\n",
        "from jax import lax\n",
        "from jax import random\n",
        "\n",
        "import jax.numpy as jnp\n",
        "import numpy as np\n",
        "\n",
        "import time\n",
        "\n",
        "import matplotlib.pyplot as plt\n",
        "import pandas as pd"
      ]
    },
    {
      "cell_type": "markdown",
      "source": [
        "# Boundary Functions"
      ],
      "metadata": {
        "id": "YogEJm2EIu8N"
      }
    },
    {
      "cell_type": "code",
      "source": [
        "'''\n",
        "signed distance function of the domain\n",
        "'''\n",
        "@jax.jit\n",
        "def signDistance(p):\n",
        "  return jnp.linalg.norm(p,ord=2,axis=1,keepdims=True) - 1 # unit sphere"
      ],
      "metadata": {
        "id": "ZLd9MKm0LrEO"
      },
      "execution_count": 15,
      "outputs": []
    },
    {
      "cell_type": "code",
      "source": [
        "'''\n",
        "bounding box diameter\n",
        "'''\n",
        "@jax.jit\n",
        "def box():\n",
        "  return 2"
      ],
      "metadata": {
        "id": "umBoHcUAS0r2"
      },
      "execution_count": 16,
      "outputs": []
    },
    {
      "cell_type": "code",
      "source": [
        "'''\n",
        "Dirchlet boundary condition\n",
        "'''\n",
        "@jax.jit\n",
        "def boundaryCond(p, k):\n",
        "  pointCharge = jnp.array([[0,0,2]])\n",
        "  pointCharge = jnp.tile(pointCharge, (1, jnp.size(p,0)))\n",
        "  pointCharge = pointCharge.reshape(jnp.size(p,0), jnp.size(p,1), 1) # [solutions, dimensions, samples]\n",
        "  pDiff = jnp.linalg.norm(p - pointCharge, ord=2, axis=1)\n",
        "  return jnp.exp(-k * pDiff) / (4 * jnp.pi * pDiff)"
      ],
      "metadata": {
        "id": "S4YxwTin-A8I"
      },
      "execution_count": 17,
      "outputs": []
    },
    {
      "cell_type": "code",
      "source": [
        "'''\n",
        "the true solution\n",
        "'''\n",
        "@jax.jit\n",
        "def trueSoln(p, k):\n",
        "  pointCharge = jnp.array(jnp.size(p,0)*[0,0,2]).reshape(jnp.size(p,0),jnp.size(p,1)) # [solutions, dimensions]\n",
        "  pDiff = jnp.linalg.norm(p - pointCharge, ord=2, axis=1)\n",
        "  return jnp.exp(-k * pDiff) / (4 * jnp.pi * pDiff)"
      ],
      "metadata": {
        "id": "rKAu7NITmy2I"
      },
      "execution_count": 18,
      "outputs": []
    },
    {
      "cell_type": "markdown",
      "source": [
        "# WOB algorithm"
      ],
      "metadata": {
        "id": "ysVQfHaDIovo"
      }
    },
    {
      "cell_type": "code",
      "source": [
        "'''\n",
        "binary search to find boundary intersection\n",
        "'''\n",
        "@jax.jit\n",
        "def binaryRootSearch(p0, p1, rootSteps, dir):\n",
        "  p1 = p0 + p1 # need to center p1 at p0\n",
        "\n",
        "  current = jnp.zeros((jnp.size(p0, 0), 1, jnp.size(p0, 2))) # [solutions, dimensions, samples]\n",
        "\n",
        "  def binaryStep(i, current):\n",
        "    next = current + jnp.power(0.5,i+1)\n",
        "    dist = signDistance(p0 + dir * next * (p1 - p0))\n",
        "    return jnp.where(dist > 0, current, next)\n",
        "\n",
        "  current = lax.fori_loop(0, rootSteps, binaryStep, current)\n",
        "  \n",
        "  \n",
        "  return p0 + dir * current * (p1 - p0), current # return [roots, t-values]"
      ],
      "metadata": {
        "id": "H2PJpmiyQ9q8"
      },
      "execution_count": 19,
      "outputs": []
    },
    {
      "cell_type": "code",
      "source": [
        "'''\n",
        "run the wob and calculate the estimator\n",
        "'''\n",
        "@jax.jit\n",
        "def wob(p0, p1, t, rootSteps, k):\n",
        "  runningEst = jnp.zeros((jnp.size(p0,0),jnp.size(p0,2))) # [solutions, samples]\n",
        "  runningSign = 1\n",
        "  \n",
        "  pNext, tFirst = binaryRootSearch(p0, p1[0], rootSteps, 1)\n",
        "  \n",
        "  pDiff = jnp.linalg.norm(p0 - pNext, ord=2, axis=1)\n",
        "  qNext = jnp.exp(-k * pDiff) * (1 + k * pDiff)\n",
        "  pBefore = pNext\n",
        "\n",
        "  for p in p1[1:]:\n",
        "    runningEst += runningSign * boundaryCond(pNext, k) * qNext\n",
        "    runningSign *= -1\n",
        "    \n",
        "    pBack, tBack = binaryRootSearch(pNext, p, rootSteps, -1)\n",
        "    pFor, tFor = binaryRootSearch(pNext, p, rootSteps, 1)\n",
        "    pNext = jnp.where(tBack - tFor > 0, pBack, pFor)\n",
        "    \n",
        "    pDiff = jnp.linalg.norm(pBefore - pNext, ord=2, axis=1)\n",
        "    qNext = qNext * jnp.exp(-k * pDiff) * (1 + k * pDiff)\n",
        "    pBefore = pNext\n",
        "\n",
        "  runningEst *= 2\n",
        "  runningEst += runningSign * boundaryCond(pNext, k) * qNext\n",
        "  return runningEst"
      ],
      "metadata": {
        "id": "7bZqC1SpI3CL"
      },
      "execution_count": 20,
      "outputs": []
    },
    {
      "cell_type": "code",
      "source": [
        "'''\n",
        "setup the wob\n",
        "'''\n",
        "def computeSoln(t, rootSteps, samples, k, p, key):\n",
        "  p = jnp.reshape(p, (jnp.size(p,0), jnp.size(p,1), 1))\n",
        "  p0 = jnp.tile(p, (1,1,samples)) # [solutions, dimensions, samples]\n",
        "\n",
        "  # generate random directions in n-dimensions\n",
        "  p1 = random.normal(key, shape=(t, jnp.size(p, 0), jnp.size(p, 1), samples))\n",
        "  normalize = jnp.linalg.norm(p1, ord=2, axis=1, keepdims=True)\n",
        "  p1 = box() * jnp.divide(p1, normalize) # [jumps, solutions, dimensions, samples]\n",
        "  print(p1)\n",
        "\n",
        "  ans = wob(p0, p1, t, rootSteps, k)\n",
        "  return jnp.mean(ans, 1, keepdims=True), jnp.std(ans, 1, keepdims=True)"
      ],
      "metadata": {
        "id": "QwSKx7xFL9AG"
      },
      "execution_count": 21,
      "outputs": []
    },
    {
      "cell_type": "markdown",
      "source": [
        "# Testing"
      ],
      "metadata": {
        "id": "bEEFG8QbIsSH"
      }
    },
    {
      "cell_type": "code",
      "source": [
        "%%time\n",
        "'''\n",
        "testing code\n",
        "'''\n",
        "#key = random.PRNGKey(int(time.time()))\n",
        "##x = jnp.array([[0,0,0.1], [0,0,0.3]])\n",
        "#x = jnp.array([[-0.3,0.5,0.8]])\n",
        "\n",
        "#y, sd = computeSoln(10, 5, 1000, 1, x, key)\n",
        "#print('solution:', y)\n",
        "#print('exact:', trueSoln(x, 1))"
      ],
      "metadata": {
        "id": "x_Uq7vQu6nn4",
        "colab": {
          "base_uri": "https://localhost:8080/",
          "height": 71
        },
        "outputId": "dac6c99d-16d2-4f11-cd69-7798930f71b2"
      },
      "execution_count": 22,
      "outputs": [
        {
          "output_type": "stream",
          "name": "stdout",
          "text": [
            "CPU times: user 3 µs, sys: 0 ns, total: 3 µs\n",
            "Wall time: 7.39 µs\n"
          ]
        },
        {
          "output_type": "execute_result",
          "data": {
            "text/plain": [
              "'\\ntesting code\\n'"
            ],
            "application/vnd.google.colaboratory.intrinsic+json": {
              "type": "string"
            }
          },
          "metadata": {},
          "execution_count": 22
        }
      ]
    },
    {
      "cell_type": "code",
      "source": [
        "x = jnp.array([[-0.3,0.5,0.8]])\n",
        "key = random.PRNGKey(int(time.time()))\n",
        "keys = random.split(key, 20)\n",
        "y_points = []\n",
        "for i in range(20):\n",
        "  y, sd = computeSoln(t=5, rootSteps=20, samples=10_000, k=0, p=x, key=keys[i])\n",
        "  #y, sd = computeSoln(keys[i], x, t=11, rootSteps=20, samples=10_000, diameter=3, k=0)\n",
        "  #print(y[0])\n",
        "  #print(trueSoln(x,1))\n",
        "  y_points.append(y[0] - trueSoln(x, 1))\n",
        "\n",
        "plt.plot(y_points)"
      ],
      "metadata": {
        "id": "MoLXF-Wh8aCS",
        "outputId": "5d2dead0-0990-4ea2-c1da-82c2302fd1c4",
        "colab": {
          "base_uri": "https://localhost:8080/",
          "height": 1000
        }
      },
      "execution_count": 23,
      "outputs": [
        {
          "output_type": "stream",
          "name": "stdout",
          "text": [
            "[[[[-2.  2.  2. ... -2. -2.  2.]\n",
            "   [ 2. -2.  2. ... -2. -2. -2.]\n",
            "   [-2. -2.  2. ... -2.  2.  2.]]]\n",
            "\n",
            "\n",
            " [[[ 2. -2.  2. ... -2. -2.  2.]\n",
            "   [-2.  2.  2. ... -2. -2.  2.]\n",
            "   [-2.  2.  2. ...  2.  2.  2.]]]\n",
            "\n",
            "\n",
            " [[[-2.  2. -2. ... -2. -2. -2.]\n",
            "   [ 2.  2.  2. ...  2.  2.  2.]\n",
            "   [-2. -2. -2. ...  2.  2. -2.]]]\n",
            "\n",
            "\n",
            " [[[-2.  2. -2. ...  2. -2.  2.]\n",
            "   [-2. -2.  2. ...  2.  2.  2.]\n",
            "   [-2. -2. -2. ... -2. -2. -2.]]]\n",
            "\n",
            "\n",
            " [[[ 2.  2.  2. ...  2. -2. -2.]\n",
            "   [-2. -2.  2. ...  2. -2. -2.]\n",
            "   [-2. -2.  2. ...  2.  2. -2.]]]]\n",
            "[[[[-2.  2. -2. ...  2. -2.  2.]\n",
            "   [-2.  2. -2. ... -2. -2.  2.]\n",
            "   [-2.  2. -2. ... -2.  2. -2.]]]\n",
            "\n",
            "\n",
            " [[[ 2.  2. -2. ...  2.  2.  2.]\n",
            "   [-2. -2. -2. ...  2. -2.  2.]\n",
            "   [-2.  2.  2. ... -2.  2.  2.]]]\n",
            "\n",
            "\n",
            " [[[ 2. -2. -2. ... -2. -2. -2.]\n",
            "   [-2.  2. -2. ...  2. -2.  2.]\n",
            "   [-2. -2. -2. ... -2.  2.  2.]]]\n",
            "\n",
            "\n",
            " [[[ 2. -2. -2. ... -2.  2. -2.]\n",
            "   [ 2.  2.  2. ... -2.  2. -2.]\n",
            "   [-2. -2. -2. ...  2.  2. -2.]]]\n",
            "\n",
            "\n",
            " [[[ 2. -2. -2. ...  2.  2. -2.]\n",
            "   [ 2.  2. -2. ...  2. -2. -2.]\n",
            "   [-2. -2. -2. ...  2.  2. -2.]]]]\n",
            "[[[[ 2.  2.  2. ... -2.  2.  2.]\n",
            "   [ 2.  2.  2. ...  2.  2.  2.]\n",
            "   [ 2. -2.  2. ... -2.  2. -2.]]]\n",
            "\n",
            "\n",
            " [[[ 2.  2.  2. ...  2.  2.  2.]\n",
            "   [ 2. -2. -2. ...  2. -2.  2.]\n",
            "   [ 2. -2.  2. ... -2. -2. -2.]]]\n",
            "\n",
            "\n",
            " [[[ 2.  2.  2. ...  2.  2.  2.]\n",
            "   [ 2. -2.  2. ... -2.  2. -2.]\n",
            "   [ 2.  2. -2. ... -2. -2. -2.]]]\n",
            "\n",
            "\n",
            " [[[-2.  2. -2. ... -2. -2.  2.]\n",
            "   [-2.  2. -2. ...  2. -2. -2.]\n",
            "   [ 2. -2. -2. ... -2.  2.  2.]]]\n",
            "\n",
            "\n",
            " [[[-2. -2. -2. ...  2.  2.  2.]\n",
            "   [ 2.  2. -2. ... -2. -2.  2.]\n",
            "   [ 2.  2. -2. ...  2. -2. -2.]]]]\n",
            "[[[[ 2. -2.  2. ...  2. -2. -2.]\n",
            "   [-2.  2. -2. ...  2. -2.  2.]\n",
            "   [ 2. -2.  2. ...  2.  2. -2.]]]\n",
            "\n",
            "\n",
            " [[[-2. -2. -2. ...  2.  2. -2.]\n",
            "   [ 2. -2. -2. ... -2.  2. -2.]\n",
            "   [-2. -2.  2. ... -2.  2.  2.]]]\n",
            "\n",
            "\n",
            " [[[ 2.  2. -2. ... -2. -2. -2.]\n",
            "   [-2. -2. -2. ... -2.  2.  2.]\n",
            "   [-2.  2.  2. ... -2. -2. -2.]]]\n",
            "\n",
            "\n",
            " [[[ 2. -2.  2. ...  2.  2.  2.]\n",
            "   [ 2.  2.  2. ...  2. -2.  2.]\n",
            "   [ 2.  2. -2. ...  2.  2.  2.]]]\n",
            "\n",
            "\n",
            " [[[ 2.  2.  2. ... -2.  2.  2.]\n",
            "   [ 2. -2.  2. ...  2.  2. -2.]\n",
            "   [ 2. -2. -2. ... -2. -2.  2.]]]]\n",
            "[[[[-2.  2.  2. ...  2.  2. -2.]\n",
            "   [-2.  2.  2. ... -2. -2.  2.]\n",
            "   [ 2. -2. -2. ... -2.  2. -2.]]]\n",
            "\n",
            "\n",
            " [[[ 2. -2.  2. ...  2.  2.  2.]\n",
            "   [-2.  2.  2. ...  2.  2.  2.]\n",
            "   [-2. -2.  2. ... -2.  2.  2.]]]\n",
            "\n",
            "\n",
            " [[[-2.  2. -2. ... -2. -2.  2.]\n",
            "   [ 2. -2.  2. ...  2. -2.  2.]\n",
            "   [-2. -2.  2. ... -2. -2. -2.]]]\n",
            "\n",
            "\n",
            " [[[ 2. -2. -2. ...  2.  2. -2.]\n",
            "   [ 2.  2. -2. ...  2. -2. -2.]\n",
            "   [-2.  2.  2. ... -2.  2.  2.]]]\n",
            "\n",
            "\n",
            " [[[-2.  2.  2. ...  2. -2.  2.]\n",
            "   [-2. -2.  2. ... -2.  2. -2.]\n",
            "   [ 2.  2.  2. ...  2. -2. -2.]]]]\n",
            "[[[[ 2. -2.  2. ...  2. -2. -2.]\n",
            "   [-2. -2. -2. ... -2. -2.  2.]\n",
            "   [ 2. -2. -2. ...  2. -2.  2.]]]\n",
            "\n",
            "\n",
            " [[[ 2.  2. -2. ... -2.  2. -2.]\n",
            "   [-2.  2.  2. ... -2.  2. -2.]\n",
            "   [ 2.  2.  2. ... -2. -2.  2.]]]\n",
            "\n",
            "\n",
            " [[[-2. -2. -2. ... -2. -2.  2.]\n",
            "   [ 2.  2. -2. ... -2. -2.  2.]\n",
            "   [ 2.  2. -2. ... -2. -2.  2.]]]\n",
            "\n",
            "\n",
            " [[[ 2. -2.  2. ...  2. -2. -2.]\n",
            "   [ 2. -2.  2. ...  2. -2. -2.]\n",
            "   [ 2. -2.  2. ...  2.  2. -2.]]]\n",
            "\n",
            "\n",
            " [[[ 2. -2.  2. ... -2. -2.  2.]\n",
            "   [-2. -2.  2. ...  2.  2.  2.]\n",
            "   [-2.  2. -2. ... -2.  2.  2.]]]]\n",
            "[[[[ 2.  2. -2. ... -2. -2.  2.]\n",
            "   [ 2. -2.  2. ...  2. -2. -2.]\n",
            "   [-2. -2. -2. ... -2. -2. -2.]]]\n",
            "\n",
            "\n",
            " [[[-2.  2. -2. ... -2.  2. -2.]\n",
            "   [-2.  2. -2. ...  2.  2.  2.]\n",
            "   [ 2. -2. -2. ... -2. -2. -2.]]]\n",
            "\n",
            "\n",
            " [[[ 2. -2.  2. ... -2.  2. -2.]\n",
            "   [ 2.  2.  2. ... -2. -2. -2.]\n",
            "   [-2.  2. -2. ... -2.  2.  2.]]]\n",
            "\n",
            "\n",
            " [[[-2.  2. -2. ...  2.  2. -2.]\n",
            "   [-2.  2. -2. ... -2.  2. -2.]\n",
            "   [-2.  2. -2. ...  2.  2. -2.]]]\n",
            "\n",
            "\n",
            " [[[ 2.  2.  2. ... -2.  2.  2.]\n",
            "   [-2.  2.  2. ... -2. -2.  2.]\n",
            "   [-2.  2.  2. ... -2. -2.  2.]]]]\n",
            "[[[[ 2.  2. -2. ... -2. -2.  2.]\n",
            "   [-2. -2.  2. ...  2.  2.  2.]\n",
            "   [ 2.  2.  2. ...  2. -2. -2.]]]\n",
            "\n",
            "\n",
            " [[[ 2. -2.  2. ... -2.  2.  2.]\n",
            "   [-2. -2. -2. ...  2.  2.  2.]\n",
            "   [-2. -2.  2. ...  2. -2. -2.]]]\n",
            "\n",
            "\n",
            " [[[ 2.  2. -2. ...  2.  2.  2.]\n",
            "   [-2.  2. -2. ...  2. -2.  2.]\n",
            "   [-2. -2. -2. ...  2. -2.  2.]]]\n",
            "\n",
            "\n",
            " [[[-2. -2. -2. ... -2.  2.  2.]\n",
            "   [ 2.  2. -2. ... -2. -2.  2.]\n",
            "   [ 2.  2. -2. ... -2. -2. -2.]]]\n",
            "\n",
            "\n",
            " [[[-2.  2.  2. ... -2. -2. -2.]\n",
            "   [ 2.  2.  2. ... -2. -2. -2.]\n",
            "   [-2.  2.  2. ... -2. -2.  2.]]]]\n",
            "[[[[-2. -2.  2. ...  2. -2. -2.]\n",
            "   [ 2. -2. -2. ... -2.  2.  2.]\n",
            "   [-2.  2.  2. ...  2. -2. -2.]]]\n",
            "\n",
            "\n",
            " [[[ 2.  2.  2. ... -2. -2. -2.]\n",
            "   [-2. -2.  2. ... -2. -2.  2.]\n",
            "   [-2. -2. -2. ... -2. -2.  2.]]]\n",
            "\n",
            "\n",
            " [[[-2. -2. -2. ... -2.  2. -2.]\n",
            "   [-2.  2.  2. ... -2.  2.  2.]\n",
            "   [-2. -2. -2. ... -2. -2. -2.]]]\n",
            "\n",
            "\n",
            " [[[-2. -2.  2. ...  2.  2. -2.]\n",
            "   [ 2.  2. -2. ...  2.  2. -2.]\n",
            "   [-2. -2. -2. ...  2. -2.  2.]]]\n",
            "\n",
            "\n",
            " [[[ 2.  2.  2. ...  2. -2. -2.]\n",
            "   [ 2. -2.  2. ...  2. -2. -2.]\n",
            "   [ 2. -2. -2. ...  2.  2. -2.]]]]\n",
            "[[[[ 2.  2. -2. ... -2. -2.  2.]\n",
            "   [ 2.  2.  2. ...  2. -2. -2.]\n",
            "   [ 2.  2.  2. ...  2. -2. -2.]]]\n",
            "\n",
            "\n",
            " [[[ 2.  2.  2. ... -2.  2. -2.]\n",
            "   [-2. -2. -2. ... -2. -2.  2.]\n",
            "   [ 2. -2. -2. ...  2.  2. -2.]]]\n",
            "\n",
            "\n",
            " [[[ 2.  2. -2. ...  2.  2. -2.]\n",
            "   [ 2. -2. -2. ...  2.  2.  2.]\n",
            "   [-2.  2. -2. ... -2. -2. -2.]]]\n",
            "\n",
            "\n",
            " [[[ 2.  2.  2. ... -2. -2.  2.]\n",
            "   [-2. -2.  2. ...  2.  2. -2.]\n",
            "   [ 2.  2. -2. ... -2.  2. -2.]]]\n",
            "\n",
            "\n",
            " [[[-2. -2.  2. ... -2. -2.  2.]\n",
            "   [ 2. -2.  2. ... -2.  2. -2.]\n",
            "   [ 2.  2. -2. ... -2. -2. -2.]]]]\n",
            "[[[[-2. -2.  2. ... -2.  2. -2.]\n",
            "   [-2. -2. -2. ... -2. -2.  2.]\n",
            "   [ 2.  2. -2. ... -2.  2. -2.]]]\n",
            "\n",
            "\n",
            " [[[-2. -2.  2. ...  2. -2. -2.]\n",
            "   [-2.  2. -2. ... -2. -2. -2.]\n",
            "   [-2.  2. -2. ... -2. -2. -2.]]]\n",
            "\n",
            "\n",
            " [[[-2. -2.  2. ... -2.  2. -2.]\n",
            "   [ 2. -2.  2. ...  2.  2.  2.]\n",
            "   [ 2. -2. -2. ... -2.  2.  2.]]]\n",
            "\n",
            "\n",
            " [[[ 2. -2. -2. ... -2. -2. -2.]\n",
            "   [-2. -2.  2. ... -2.  2. -2.]\n",
            "   [ 2. -2. -2. ... -2.  2.  2.]]]\n",
            "\n",
            "\n",
            " [[[ 2.  2. -2. ...  2.  2.  2.]\n",
            "   [-2.  2.  2. ...  2. -2. -2.]\n",
            "   [-2.  2. -2. ...  2. -2. -2.]]]]\n",
            "[[[[ 2. -2. -2. ...  2. -2. -2.]\n",
            "   [ 2.  2.  2. ...  2.  2.  2.]\n",
            "   [-2. -2. -2. ... -2.  2.  2.]]]\n",
            "\n",
            "\n",
            " [[[-2.  2.  2. ...  2. -2. -2.]\n",
            "   [ 2. -2.  2. ...  2. -2.  2.]\n",
            "   [-2.  2.  2. ...  2.  2.  2.]]]\n",
            "\n",
            "\n",
            " [[[ 2.  2.  2. ... -2.  2. -2.]\n",
            "   [ 2. -2. -2. ... -2.  2.  2.]\n",
            "   [ 2.  2. -2. ... -2. -2. -2.]]]\n",
            "\n",
            "\n",
            " [[[-2. -2.  2. ...  2.  2.  2.]\n",
            "   [ 2.  2. -2. ... -2. -2. -2.]\n",
            "   [ 2. -2.  2. ... -2.  2. -2.]]]\n",
            "\n",
            "\n",
            " [[[ 2.  2. -2. ... -2.  2.  2.]\n",
            "   [ 2. -2. -2. ... -2.  2.  2.]\n",
            "   [-2.  2. -2. ... -2.  2. -2.]]]]\n",
            "[[[[-2.  2.  2. ...  2.  2.  2.]\n",
            "   [-2. -2. -2. ... -2.  2.  2.]\n",
            "   [ 2.  2. -2. ... -2. -2.  2.]]]\n",
            "\n",
            "\n",
            " [[[ 2.  2.  2. ... -2. -2. -2.]\n",
            "   [-2.  2.  2. ... -2.  2. -2.]\n",
            "   [ 2. -2.  2. ...  2. -2.  2.]]]\n",
            "\n",
            "\n",
            " [[[-2. -2.  2. ...  2.  2. -2.]\n",
            "   [-2. -2.  2. ...  2. -2. -2.]\n",
            "   [ 2.  2. -2. ... -2. -2. -2.]]]\n",
            "\n",
            "\n",
            " [[[-2.  2. -2. ... -2.  2.  2.]\n",
            "   [-2.  2.  2. ...  2. -2.  2.]\n",
            "   [ 2. -2. -2. ...  2. -2. -2.]]]\n",
            "\n",
            "\n",
            " [[[ 2.  2.  2. ... -2.  2. -2.]\n",
            "   [ 2.  2. -2. ... -2. -2.  2.]\n",
            "   [ 2.  2.  2. ...  2.  2.  2.]]]]\n",
            "[[[[-2. -2.  2. ...  2.  2. -2.]\n",
            "   [ 2.  2. -2. ... -2. -2. -2.]\n",
            "   [ 2. -2.  2. ...  2. -2.  2.]]]\n",
            "\n",
            "\n",
            " [[[ 2.  2.  2. ...  2. -2. -2.]\n",
            "   [ 2.  2. -2. ... -2.  2. -2.]\n",
            "   [-2.  2.  2. ...  2.  2.  2.]]]\n",
            "\n",
            "\n",
            " [[[ 2. -2.  2. ...  2.  2.  2.]\n",
            "   [ 2.  2. -2. ...  2. -2. -2.]\n",
            "   [-2. -2. -2. ...  2. -2. -2.]]]\n",
            "\n",
            "\n",
            " [[[-2. -2.  2. ...  2.  2.  2.]\n",
            "   [ 2. -2. -2. ...  2.  2. -2.]\n",
            "   [ 2.  2. -2. ...  2. -2. -2.]]]\n",
            "\n",
            "\n",
            " [[[-2.  2. -2. ... -2. -2.  2.]\n",
            "   [ 2. -2. -2. ...  2.  2.  2.]\n",
            "   [ 2. -2.  2. ... -2.  2.  2.]]]]\n",
            "[[[[ 2.  2.  2. ... -2.  2.  2.]\n",
            "   [-2. -2.  2. ... -2. -2. -2.]\n",
            "   [ 2. -2. -2. ... -2.  2. -2.]]]\n",
            "\n",
            "\n",
            " [[[ 2. -2.  2. ...  2.  2.  2.]\n",
            "   [-2.  2. -2. ...  2. -2. -2.]\n",
            "   [-2. -2. -2. ...  2.  2. -2.]]]\n",
            "\n",
            "\n",
            " [[[-2. -2.  2. ...  2.  2. -2.]\n",
            "   [ 2.  2. -2. ... -2. -2.  2.]\n",
            "   [ 2.  2.  2. ... -2.  2.  2.]]]\n",
            "\n",
            "\n",
            " [[[-2.  2. -2. ... -2. -2.  2.]\n",
            "   [ 2.  2. -2. ... -2. -2. -2.]\n",
            "   [-2.  2. -2. ... -2.  2.  2.]]]\n",
            "\n",
            "\n",
            " [[[ 2. -2. -2. ...  2. -2. -2.]\n",
            "   [ 2.  2.  2. ... -2. -2.  2.]\n",
            "   [ 2.  2.  2. ...  2. -2.  2.]]]]\n",
            "[[[[ 2. -2. -2. ...  2. -2. -2.]\n",
            "   [ 2.  2.  2. ...  2.  2. -2.]\n",
            "   [ 2. -2.  2. ... -2. -2.  2.]]]\n",
            "\n",
            "\n",
            " [[[ 2. -2.  2. ...  2. -2. -2.]\n",
            "   [-2. -2.  2. ... -2. -2. -2.]\n",
            "   [ 2. -2.  2. ... -2. -2. -2.]]]\n",
            "\n",
            "\n",
            " [[[ 2.  2.  2. ... -2. -2. -2.]\n",
            "   [ 2. -2. -2. ...  2. -2. -2.]\n",
            "   [ 2.  2. -2. ... -2. -2.  2.]]]\n",
            "\n",
            "\n",
            " [[[-2.  2. -2. ... -2.  2.  2.]\n",
            "   [ 2. -2. -2. ... -2. -2.  2.]\n",
            "   [-2. -2. -2. ...  2.  2.  2.]]]\n",
            "\n",
            "\n",
            " [[[-2. -2. -2. ... -2. -2.  2.]\n",
            "   [ 2. -2. -2. ...  2. -2.  2.]\n",
            "   [ 2. -2. -2. ...  2.  2. -2.]]]]\n",
            "[[[[-2.  2.  2. ...  2. -2. -2.]\n",
            "   [ 2.  2.  2. ...  2. -2. -2.]\n",
            "   [-2.  2. -2. ...  2.  2.  2.]]]\n",
            "\n",
            "\n",
            " [[[ 2. -2. -2. ...  2. -2.  2.]\n",
            "   [-2. -2.  2. ... -2. -2. -2.]\n",
            "   [ 2.  2.  2. ... -2. -2. -2.]]]\n",
            "\n",
            "\n",
            " [[[ 2.  2. -2. ... -2. -2.  2.]\n",
            "   [ 2.  2.  2. ...  2.  2. -2.]\n",
            "   [ 2.  2. -2. ... -2. -2. -2.]]]\n",
            "\n",
            "\n",
            " [[[-2.  2. -2. ... -2. -2. -2.]\n",
            "   [ 2.  2.  2. ...  2.  2.  2.]\n",
            "   [-2.  2.  2. ...  2.  2. -2.]]]\n",
            "\n",
            "\n",
            " [[[-2. -2.  2. ...  2.  2. -2.]\n",
            "   [ 2. -2. -2. ...  2.  2.  2.]\n",
            "   [-2.  2.  2. ...  2. -2. -2.]]]]\n",
            "[[[[-2. -2.  2. ...  2. -2.  2.]\n",
            "   [-2.  2. -2. ...  2.  2.  2.]\n",
            "   [-2. -2. -2. ... -2. -2.  2.]]]\n",
            "\n",
            "\n",
            " [[[ 2. -2.  2. ...  2.  2.  2.]\n",
            "   [-2. -2.  2. ... -2. -2.  2.]\n",
            "   [-2.  2. -2. ...  2. -2.  2.]]]\n",
            "\n",
            "\n",
            " [[[ 2.  2. -2. ...  2. -2.  2.]\n",
            "   [-2.  2. -2. ...  2. -2.  2.]\n",
            "   [ 2. -2.  2. ...  2.  2. -2.]]]\n",
            "\n",
            "\n",
            " [[[-2.  2.  2. ...  2. -2.  2.]\n",
            "   [ 2. -2.  2. ...  2.  2. -2.]\n",
            "   [ 2. -2. -2. ...  2.  2.  2.]]]\n",
            "\n",
            "\n",
            " [[[-2. -2.  2. ...  2. -2.  2.]\n",
            "   [-2. -2.  2. ... -2.  2. -2.]\n",
            "   [ 2.  2. -2. ... -2. -2.  2.]]]]\n",
            "[[[[ 2. -2. -2. ... -2. -2. -2.]\n",
            "   [ 2.  2. -2. ...  2. -2.  2.]\n",
            "   [ 2.  2.  2. ... -2. -2. -2.]]]\n",
            "\n",
            "\n",
            " [[[-2. -2.  2. ...  2.  2. -2.]\n",
            "   [ 2.  2. -2. ...  2.  2.  2.]\n",
            "   [-2.  2.  2. ...  2.  2. -2.]]]\n",
            "\n",
            "\n",
            " [[[ 2.  2.  2. ... -2. -2.  2.]\n",
            "   [-2.  2. -2. ...  2.  2.  2.]\n",
            "   [ 2.  2. -2. ...  2.  2.  2.]]]\n",
            "\n",
            "\n",
            " [[[ 2. -2. -2. ...  2. -2.  2.]\n",
            "   [ 2. -2.  2. ...  2. -2. -2.]\n",
            "   [-2.  2. -2. ...  2. -2. -2.]]]\n",
            "\n",
            "\n",
            " [[[ 2. -2.  2. ...  2.  2. -2.]\n",
            "   [-2. -2. -2. ... -2.  2. -2.]\n",
            "   [-2.  2. -2. ...  2.  2.  2.]]]]\n",
            "[[[[-2. -2. -2. ...  2.  2.  2.]\n",
            "   [-2.  2. -2. ... -2. -2. -2.]\n",
            "   [ 2. -2. -2. ... -2. -2. -2.]]]\n",
            "\n",
            "\n",
            " [[[-2.  2.  2. ...  2. -2. -2.]\n",
            "   [-2. -2.  2. ... -2.  2.  2.]\n",
            "   [ 2. -2.  2. ... -2. -2.  2.]]]\n",
            "\n",
            "\n",
            " [[[-2.  2. -2. ...  2.  2.  2.]\n",
            "   [-2.  2.  2. ... -2.  2.  2.]\n",
            "   [ 2. -2.  2. ...  2. -2. -2.]]]\n",
            "\n",
            "\n",
            " [[[-2.  2.  2. ... -2. -2.  2.]\n",
            "   [ 2.  2. -2. ...  2. -2. -2.]\n",
            "   [-2. -2.  2. ... -2. -2.  2.]]]\n",
            "\n",
            "\n",
            " [[[-2. -2.  2. ...  2. -2.  2.]\n",
            "   [ 2. -2.  2. ... -2. -2.  2.]\n",
            "   [-2.  2.  2. ...  2.  2. -2.]]]]\n"
          ]
        },
        {
          "output_type": "execute_result",
          "data": {
            "text/plain": [
              "[<matplotlib.lines.Line2D at 0x7f36817f9990>]"
            ]
          },
          "metadata": {},
          "execution_count": 23
        },
        {
          "output_type": "display_data",
          "data": {
            "text/plain": [
              "<Figure size 432x288 with 1 Axes>"
            ],
            "image/png": "[encoded data removed]"
          },
          "metadata": {
            "needs_background": "light"
          }
        }
      ]
    },
    {
      "cell_type": "markdown",
      "source": [
        "# Datasets"
      ],
      "metadata": {
        "id": "hfIglWrKIfvi"
      }
    },
    {
      "cell_type": "code",
      "source": [
        "'''\n",
        "generate dataset with throw-out algorithm\n",
        "WARNING: this algorithm gets worse in higher dimensions\n",
        "'''\n",
        "def generateData():\n",
        "  key = random.PRNGKey(0)\n",
        "  dimensions = 2\n",
        "  samples = 10000\n",
        "  x = random.uniform(key, minval=-box()/2, maxval=box()-box()/2, shape=(samples,dimensions))\n",
        "  indices = jnp.where(signDistance(x.transpose()) < 0)\n",
        "  print('kept', len(x[indices]), 'out of', len(x))\n",
        "  x = x[indices]\n",
        "\n",
        "  batchSize = 100\n",
        "  y, std = computeSoln(10, 15, 100000, x[:batchSize], key)\n",
        "  for i in range(batchSize, len(x), batchSize):\n",
        "    mean, std = computeSoln(5, 10, 100000, x[i:i+batchSize], key)\n",
        "    y = np.concatenate((y, mean), axis=0)\n",
        "  \n",
        "  return x, y"
      ],
      "metadata": {
        "id": "VBO3R5H7zdm3"
      },
      "execution_count": null,
      "outputs": []
    },
    {
      "cell_type": "code",
      "source": [
        "'''\n",
        "save the dataset\n",
        "'''\n",
        "def saveData(x,y):\n",
        "  np.savez('wob_piecwise_data', x=x, y=y)"
      ],
      "metadata": {
        "id": "bDze7C0Opf-m"
      },
      "execution_count": null,
      "outputs": []
    },
    {
      "cell_type": "code",
      "source": [
        "#x, y = generateData()\n",
        "#saveData(x,y)"
      ],
      "metadata": {
        "id": "BdL8oIP2IaBv"
      },
      "execution_count": null,
      "outputs": []
    },
    {
      "cell_type": "code",
      "source": [
        "'''\n",
        "download the dataset\n",
        "'''\n",
        "def downloadData():\n",
        "  data = np.load('wob_piecwise_data.npz')\n",
        "  return data['x'], data['y']"
      ],
      "metadata": {
        "id": "ZjDK52IyvjJx"
      },
      "execution_count": null,
      "outputs": []
    },
    {
      "cell_type": "markdown",
      "source": [
        "# Graphing"
      ],
      "metadata": {
        "id": "W_sjbGsPIdy_"
      }
    },
    {
      "cell_type": "code",
      "source": [
        "'''\n",
        "plot the data\n",
        "'''\n",
        "t = 5\n",
        "#t = np.arange(2,50)\n",
        "rootSteps = 15\n",
        "#batches = np.power(10,np.arange(1,7))\n",
        "#batches = 100000\n",
        "batches = np.arange(500, 100000, 500)\n",
        "y = jnp.array([[0,0,-0.3]])\n",
        "\n",
        "key = random.PRNGKey(int(time.time()))\n",
        "keys = random.split(key, len(batches))\n",
        "\n",
        "values = np.zeros(len(batches))\n",
        "sdValues = np.zeros(len(batches))\n",
        "for i in range(len(batches)):\n",
        "  values[i], sdValues[i] = computeSoln(t, rootSteps, batches[i], y, keys[i])\n",
        "\n",
        "\n",
        "upperC = values + 1.96 * sdValues / np.sqrt(batches)\n",
        "lowerC = values - 1.96 * sdValues / np.sqrt(batches)\n",
        "error = values - trueSoln(y)\n",
        "plt.plot(batches, error)\n",
        "#plt.xscale('log')\n",
        "#plt.yscale('log')\n",
        "plt.fill_between(batches, lowerC-trueSoln(y), upperC-trueSoln(y), color='b', alpha=.1)\n",
        "plt.xlabel('number of samples')\n",
        "plt.ylabel('error')\n",
        "plt.title('walk on boundary for screened poisson equation')"
      ],
      "metadata": {
        "colab": {
          "base_uri": "https://localhost:8080/",
          "height": 313
        },
        "id": "GIg5O1-Z7ysD",
        "outputId": "e68ea8e7-774b-4d84-a3f0-f827ff7ae658"
      },
      "execution_count": null,
      "outputs": [
        {
          "output_type": "execute_result",
          "data": {
            "text/plain": [
              "Text(0.5, 1.0, 'walk on boundary for screened poisson equation')"
            ]
          },
          "metadata": {},
          "execution_count": 312
        },
        {
          "output_type": "display_data",
          "data": {
            "text/plain": [
              "<Figure size 432x288 with 1 Axes>"
            ],
            "image/png": "[encoded data removed]"
          },
          "metadata": {
            "needs_background": "light"
          }
        }
      ]
    }
  ]
}