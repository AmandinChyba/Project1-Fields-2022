{
  "nbformat": 4,
  "nbformat_minor": 0,
  "metadata": {
    "colab": {
      "name": "WalkOnBoundary.ipynb",
      "provenance": [],
      "include_colab_link": true
    },
    "kernelspec": {
      "name": "python3",
      "display_name": "Python 3"
    },
    "language_info": {
      "name": "python"
    },
    "accelerator": "GPU",
    "gpuClass": "standard"
  },
  "cells": [
    {
      "cell_type": "markdown",
      "metadata": {
        "id": "view-in-github",
        "colab_type": "text"
      },
      "source": [
        "<a href=\"https://colab.research.google.com/github/AmandinChyba/Project1-Fields-2022/blob/main/Walk_on_Boundary_and_BIEM/WalkOnBoundary.ipynb\" target=\"_parent\"><img src=\"https://colab.research.google.com/assets/colab-badge.svg\" alt=\"Open In Colab\"/></a>"
      ]
    },
    {
      "cell_type": "code",
      "execution_count": 125,
      "metadata": {
        "id": "5zoCL7guIfDb"
      },
      "outputs": [],
      "source": [
        "import jax\n",
        "from jax import lax\n",
        "from jax import random\n",
        "\n",
        "import jax.numpy as jnp\n",
        "import numpy as np\n",
        "\n",
        "import time\n",
        "\n",
        "import matplotlib.pyplot as plt\n",
        "\n",
        "from functools import partial"
      ]
    },
    {
      "cell_type": "code",
      "source": [
        "def unit_circle_boundary(p): # signed distance function for 2d unit circle\n",
        "  return jnp.linalg.norm(p,ord=2,axis=0) - 1"
      ],
      "metadata": {
        "id": "ZLd9MKm0LrEO"
      },
      "execution_count": 236,
      "outputs": []
    },
    {
      "cell_type": "code",
      "source": [
        "'''\n",
        "def binaryStep(i, bounds, distanceF):\n",
        "  mid = getMiddle(bounds[0],bounds[1])\n",
        "  dist = jnp.where(distanceF(mid[0],mid[1]) > 0, 1, 0)\n",
        "  return jnp.array([mid*(1-dist) + bounds[0]*dist, mid*dist + bounds[1]*(1-dist)])\n",
        "'''"
      ],
      "metadata": {
        "id": "KpVbT6LfZrbm",
        "colab": {
          "base_uri": "https://localhost:8080/",
          "height": 53
        },
        "outputId": "481d123a-f796-4186-acdb-8384680735ee"
      },
      "execution_count": 247,
      "outputs": [
        {
          "output_type": "execute_result",
          "data": {
            "text/plain": [
              "'\\ndef binaryStep(i, bounds, distanceF):\\n  mid = getMiddle(bounds[0],bounds[1])\\n  dist = jnp.where(distanceF(mid[0],mid[1]) > 0, 1, 0)\\n  return jnp.array([mid*(1-dist) + bounds[0]*dist, mid*dist + bounds[1]*(1-dist)])\\n'"
            ],
            "application/vnd.google.colaboratory.intrinsic+json": {
              "type": "string"
            }
          },
          "metadata": {},
          "execution_count": 247
        }
      ]
    },
    {
      "cell_type": "code",
      "source": [
        "def binaryRootSearch(p0, p1, epochs, dir):\n",
        "  \n",
        "  # need to center p1 at p0\n",
        "  p1 = p0 + p1\n",
        "\n",
        "  current = jnp.zeros((1, jnp.size(p0, axis=1)))\n",
        "\n",
        "  for i in range(epochs):\n",
        "    next = current + jnp.power(0.5,i+1)\n",
        "    dist = unit_circle_boundary(p0 + dir * next * (p1 - p0))\n",
        "    current = jnp.where(dist > 0, current, next)\n",
        "  \n",
        "  return p0 + dir * current * (p1 - p0), current # return the roots, t-values\n",
        "  '''\n",
        "  lower = p\n",
        "  upper = jnp.array([p[0] + dir * diameter * jnp.cos(angle), \n",
        "                     p[1] + dir * diameter * jnp.sin(angle)])\n",
        "  \n",
        "  bounds = jnp.array([lower,upper])\n",
        "  bounds = lax.fori_loop(0, epochs, binaryFunc, bounds)\n",
        "\n",
        "  root = getMiddle(bounds[0],bounds[1])\n",
        "  return root\n",
        "  '''"
      ],
      "metadata": {
        "id": "H2PJpmiyQ9q8"
      },
      "execution_count": 248,
      "outputs": []
    },
    {
      "cell_type": "code",
      "source": [
        "def getDistance(p0, p1):\n",
        "  return jnp.array([jnp.power(p1[0]-p0[0],2) + jnp.power(p1[1]-p0[1],2)]) # distance squared"
      ],
      "metadata": {
        "id": "mqijCjSBF-yG"
      },
      "execution_count": 8,
      "outputs": []
    },
    {
      "cell_type": "code",
      "source": [
        "def wob(g, distanceF, p0, p1, t, epochs):\n",
        "\n",
        "  runningEst = 0\n",
        "  runningSign = 1\n",
        "\n",
        "  pNext, tFirst = binaryRootSearch(p0, p1[0], epochs, 1) \n",
        "\n",
        "  for p in p1[1:]:\n",
        "    runningEst += runningSign * g(pNext)\n",
        "    runningSign *= -1\n",
        "\n",
        "    pBack, tBack = binaryRootSearch(pNext, p, epochs, -1)\n",
        "    pFor, tFor = binaryRootSearch(pNext, p, epochs, 1)\n",
        "    pNext = jnp.where(tBack - tFor > 0, pBack, pFor)\n",
        "\n",
        "  runningEst *= 2\n",
        "  runningEst += runningSign * g(pNext)\n",
        "\n",
        "  return runningEst"
      ],
      "metadata": {
        "id": "7bZqC1SpI3CL"
      },
      "execution_count": 259,
      "outputs": []
    },
    {
      "cell_type": "code",
      "source": [
        "def computeSoln(t, epochs, batches, p, key):\n",
        "  g = lambda p : p[1] # p is a point s.t. p[0]=x and p[1]=y\n",
        "  distanceF = unit_circle_boundary\n",
        "\n",
        "  p0 = jnp.full((len(p), batches),p)\n",
        "\n",
        "  diameter = 2\n",
        "  p1 = random.normal(key, shape=(t, len(p), batches))\n",
        "  normalize = jnp.linalg.norm(p1, ord=2, axis=1).reshape((t, 1, batches))\n",
        "  p1 = diameter * jnp.divide(p1, normalize)\n",
        "\n",
        "  ans = wob(g, distanceF, p0, p1, t, epochs)\n",
        "\n",
        "  return jnp.mean(ans)"
      ],
      "metadata": {
        "id": "QwSKx7xFL9AG"
      },
      "execution_count": 218,
      "outputs": []
    },
    {
      "cell_type": "code",
      "source": [
        "%%time\n",
        "key = random.PRNGKey(1)\n",
        "x = jnp.array([[0.3,0.8]]).transpose()\n",
        "print(computeSoln(3, 10, 1000000, x, key))"
      ],
      "metadata": {
        "id": "x_Uq7vQu6nn4",
        "outputId": "7d013712-491b-495a-e942-e087faaa8a1f",
        "colab": {
          "base_uri": "https://localhost:8080/"
        }
      },
      "execution_count": 264,
      "outputs": [
        {
          "output_type": "stream",
          "name": "stdout",
          "text": [
            "0.79831785\n",
            "CPU times: user 915 ms, sys: 60.2 ms, total: 976 ms\n",
            "Wall time: 2.09 s\n"
          ]
        }
      ]
    },
    {
      "cell_type": "code",
      "source": [
        "%%time\n",
        "t = 2 # number of jumps on the boundary\n",
        "epochs = 10 # binary search time steps\n",
        "batches = np.power(10,np.arange(1,7))\n",
        "x = 0.5\n",
        "y = 0.3\n",
        "\n",
        "key = random.PRNGKey(int(time.time()))\n",
        "keys = random.split(key, len(batches))\n",
        "\n",
        "values = np.zeros(len(batches))\n",
        "for i in range(len(batches)):\n",
        "  values[i] = computeSoln(t, epochs, batches[i], x, y, keys[i])\n",
        "\n",
        "error = np.abs(values - y)\n",
        "plt.plot(batches, error)\n",
        "plt.xscale('log')\n",
        "plt.yscale('log')\n",
        "plt.xlabel('number of batches')\n",
        "plt.ylabel('absolute error')\n",
        "plt.title('Error over batches for (0.5, 0.3)')"
      ],
      "metadata": {
        "id": "peu3GbzsaZOM",
        "outputId": "24ea804c-4827-439d-8aaf-3562e8e5f93c",
        "colab": {
          "base_uri": "https://localhost:8080/",
          "height": 476
        }
      },
      "execution_count": 189,
      "outputs": [
        {
          "output_type": "error",
          "ename": "TypeError",
          "evalue": "ignored",
          "traceback": [
            "\u001b[0;31m---------------------------------------------------------------------------\u001b[0m",
            "\u001b[0;31mTypeError\u001b[0m                                 Traceback (most recent call last)",
            "\u001b[0;32m<ipython-input-189-ed363669e6ea>\u001b[0m in \u001b[0;36m<module>\u001b[0;34m()\u001b[0m\n\u001b[0;32m----> 1\u001b[0;31m \u001b[0mget_ipython\u001b[0m\u001b[0;34m(\u001b[0m\u001b[0;34m)\u001b[0m\u001b[0;34m.\u001b[0m\u001b[0mrun_cell_magic\u001b[0m\u001b[0;34m(\u001b[0m\u001b[0;34m'time'\u001b[0m\u001b[0;34m,\u001b[0m \u001b[0;34m''\u001b[0m\u001b[0;34m,\u001b[0m \u001b[0;34m\"t = 2 # number of jumps on the boundary\\nepochs = 10 # binary search time steps\\nbatches = np.power(10,np.arange(1,7))\\nx = 0.5\\ny = 0.3\\n\\nkey = random.PRNGKey(int(time.time()))\\nkeys = random.split(key, len(batches))\\n\\nvalues = np.zeros(len(batches))\\nfor i in range(len(batches)):\\n  values[i] = computeSoln(t, epochs, batches[i], x, y, keys[i])\\n\\nerror = np.abs(values - y)\\nplt.plot(batches, error)\\nplt.xscale('log')\\nplt.yscale('log')\\nplt.xlabel('number of batches')\\nplt.ylabel('absolute error')\\nplt.title('Error over batches for (0.5, 0.3)')\"\u001b[0m\u001b[0;34m)\u001b[0m\u001b[0;34m\u001b[0m\u001b[0;34m\u001b[0m\u001b[0m\n\u001b[0m",
            "\u001b[0;32m/usr/local/lib/python3.7/dist-packages/IPython/core/interactiveshell.py\u001b[0m in \u001b[0;36mrun_cell_magic\u001b[0;34m(self, magic_name, line, cell)\u001b[0m\n\u001b[1;32m   2115\u001b[0m             \u001b[0mmagic_arg_s\u001b[0m \u001b[0;34m=\u001b[0m \u001b[0mself\u001b[0m\u001b[0;34m.\u001b[0m\u001b[0mvar_expand\u001b[0m\u001b[0;34m(\u001b[0m\u001b[0mline\u001b[0m\u001b[0;34m,\u001b[0m \u001b[0mstack_depth\u001b[0m\u001b[0;34m)\u001b[0m\u001b[0;34m\u001b[0m\u001b[0;34m\u001b[0m\u001b[0m\n\u001b[1;32m   2116\u001b[0m             \u001b[0;32mwith\u001b[0m \u001b[0mself\u001b[0m\u001b[0;34m.\u001b[0m\u001b[0mbuiltin_trap\u001b[0m\u001b[0;34m:\u001b[0m\u001b[0;34m\u001b[0m\u001b[0;34m\u001b[0m\u001b[0m\n\u001b[0;32m-> 2117\u001b[0;31m                 \u001b[0mresult\u001b[0m \u001b[0;34m=\u001b[0m \u001b[0mfn\u001b[0m\u001b[0;34m(\u001b[0m\u001b[0mmagic_arg_s\u001b[0m\u001b[0;34m,\u001b[0m \u001b[0mcell\u001b[0m\u001b[0;34m)\u001b[0m\u001b[0;34m\u001b[0m\u001b[0;34m\u001b[0m\u001b[0m\n\u001b[0m\u001b[1;32m   2118\u001b[0m             \u001b[0;32mreturn\u001b[0m \u001b[0mresult\u001b[0m\u001b[0;34m\u001b[0m\u001b[0;34m\u001b[0m\u001b[0m\n\u001b[1;32m   2119\u001b[0m \u001b[0;34m\u001b[0m\u001b[0m\n",
            "\u001b[0;32m<decorator-gen-53>\u001b[0m in \u001b[0;36mtime\u001b[0;34m(self, line, cell, local_ns)\u001b[0m\n",
            "\u001b[0;32m/usr/local/lib/python3.7/dist-packages/IPython/core/magic.py\u001b[0m in \u001b[0;36m<lambda>\u001b[0;34m(f, *a, **k)\u001b[0m\n\u001b[1;32m    186\u001b[0m     \u001b[0;31m# but it's overkill for just that one bit of state.\u001b[0m\u001b[0;34m\u001b[0m\u001b[0;34m\u001b[0m\u001b[0;34m\u001b[0m\u001b[0m\n\u001b[1;32m    187\u001b[0m     \u001b[0;32mdef\u001b[0m \u001b[0mmagic_deco\u001b[0m\u001b[0;34m(\u001b[0m\u001b[0marg\u001b[0m\u001b[0;34m)\u001b[0m\u001b[0;34m:\u001b[0m\u001b[0;34m\u001b[0m\u001b[0;34m\u001b[0m\u001b[0m\n\u001b[0;32m--> 188\u001b[0;31m         \u001b[0mcall\u001b[0m \u001b[0;34m=\u001b[0m \u001b[0;32mlambda\u001b[0m \u001b[0mf\u001b[0m\u001b[0;34m,\u001b[0m \u001b[0;34m*\u001b[0m\u001b[0ma\u001b[0m\u001b[0;34m,\u001b[0m \u001b[0;34m**\u001b[0m\u001b[0mk\u001b[0m\u001b[0;34m:\u001b[0m \u001b[0mf\u001b[0m\u001b[0;34m(\u001b[0m\u001b[0;34m*\u001b[0m\u001b[0ma\u001b[0m\u001b[0;34m,\u001b[0m \u001b[0;34m**\u001b[0m\u001b[0mk\u001b[0m\u001b[0;34m)\u001b[0m\u001b[0;34m\u001b[0m\u001b[0;34m\u001b[0m\u001b[0m\n\u001b[0m\u001b[1;32m    189\u001b[0m \u001b[0;34m\u001b[0m\u001b[0m\n\u001b[1;32m    190\u001b[0m         \u001b[0;32mif\u001b[0m \u001b[0mcallable\u001b[0m\u001b[0;34m(\u001b[0m\u001b[0marg\u001b[0m\u001b[0;34m)\u001b[0m\u001b[0;34m:\u001b[0m\u001b[0;34m\u001b[0m\u001b[0;34m\u001b[0m\u001b[0m\n",
            "\u001b[0;32m/usr/local/lib/python3.7/dist-packages/IPython/core/magics/execution.py\u001b[0m in \u001b[0;36mtime\u001b[0;34m(self, line, cell, local_ns)\u001b[0m\n\u001b[1;32m   1191\u001b[0m         \u001b[0;32melse\u001b[0m\u001b[0;34m:\u001b[0m\u001b[0;34m\u001b[0m\u001b[0;34m\u001b[0m\u001b[0m\n\u001b[1;32m   1192\u001b[0m             \u001b[0mst\u001b[0m \u001b[0;34m=\u001b[0m \u001b[0mclock2\u001b[0m\u001b[0;34m(\u001b[0m\u001b[0;34m)\u001b[0m\u001b[0;34m\u001b[0m\u001b[0;34m\u001b[0m\u001b[0m\n\u001b[0;32m-> 1193\u001b[0;31m             \u001b[0mexec\u001b[0m\u001b[0;34m(\u001b[0m\u001b[0mcode\u001b[0m\u001b[0;34m,\u001b[0m \u001b[0mglob\u001b[0m\u001b[0;34m,\u001b[0m \u001b[0mlocal_ns\u001b[0m\u001b[0;34m)\u001b[0m\u001b[0;34m\u001b[0m\u001b[0;34m\u001b[0m\u001b[0m\n\u001b[0m\u001b[1;32m   1194\u001b[0m             \u001b[0mend\u001b[0m \u001b[0;34m=\u001b[0m \u001b[0mclock2\u001b[0m\u001b[0;34m(\u001b[0m\u001b[0;34m)\u001b[0m\u001b[0;34m\u001b[0m\u001b[0;34m\u001b[0m\u001b[0m\n\u001b[1;32m   1195\u001b[0m             \u001b[0mout\u001b[0m \u001b[0;34m=\u001b[0m \u001b[0;32mNone\u001b[0m\u001b[0;34m\u001b[0m\u001b[0;34m\u001b[0m\u001b[0m\n",
            "\u001b[0;32m<timed exec>\u001b[0m in \u001b[0;36m<module>\u001b[0;34m()\u001b[0m\n",
            "\u001b[0;31mTypeError\u001b[0m: computeSoln() takes 5 positional arguments but 6 were given"
          ]
        }
      ]
    }
  ]
}