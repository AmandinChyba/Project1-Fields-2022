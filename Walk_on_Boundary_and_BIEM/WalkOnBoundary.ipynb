{
  "nbformat": 4,
  "nbformat_minor": 0,
  "metadata": {
    "colab": {
      "name": "WalkOnBoundary.ipynb",
      "provenance": [],
      "include_colab_link": true
    },
    "kernelspec": {
      "name": "python3",
      "display_name": "Python 3"
    },
    "language_info": {
      "name": "python"
    },
    "gpuClass": "standard",
    "accelerator": "GPU"
  },
  "cells": [
    {
      "cell_type": "markdown",
      "metadata": {
        "id": "view-in-github",
        "colab_type": "text"
      },
      "source": [
        "<a href=\"https://colab.research.google.com/github/AmandinChyba/Project1-Fields-2022/blob/main/Walk_on_Boundary_and_BIEM/WalkOnBoundary.ipynb\" target=\"_parent\"><img src=\"https://colab.research.google.com/assets/colab-badge.svg\" alt=\"Open In Colab\"/></a>"
      ]
    },
    {
      "cell_type": "code",
      "execution_count": 1,
      "metadata": {
        "id": "5zoCL7guIfDb"
      },
      "outputs": [],
      "source": [
        "import jax\n",
        "from jax import lax\n",
        "from jax import random\n",
        "\n",
        "import jax.numpy as jnp\n",
        "import numpy as np\n",
        "\n",
        "import time\n",
        "\n",
        "import matplotlib.pyplot as plt\n",
        "import pandas as pd"
      ]
    },
    {
      "cell_type": "code",
      "source": [
        "'''\n",
        "signed distance function of the domain\n",
        "'''\n",
        "@jax.jit\n",
        "def signDistance(p):\n",
        "  return jnp.linalg.norm(p,ord=2,axis=0) - 1 # unit sphere"
      ],
      "metadata": {
        "id": "ZLd9MKm0LrEO"
      },
      "execution_count": 2,
      "outputs": []
    },
    {
      "cell_type": "code",
      "source": [
        "'''\n",
        "bounding box diameter\n",
        "'''\n",
        "@jax.jit\n",
        "def box():\n",
        "  return 2"
      ],
      "metadata": {
        "id": "umBoHcUAS0r2"
      },
      "execution_count": 3,
      "outputs": []
    },
    {
      "cell_type": "code",
      "source": [
        "'''\n",
        "Dirchlet boundary condition\n",
        "'''\n",
        "@jax.jit\n",
        "def boundaryCond(p):\n",
        "  return 1.0*(p[1] > 0.0)"
      ],
      "metadata": {
        "id": "S4YxwTin-A8I"
      },
      "execution_count": 4,
      "outputs": []
    },
    {
      "cell_type": "code",
      "source": [
        "'''\n",
        "the true solution\n",
        "'''\n",
        "def trueSoln(p):\n",
        "  return 0.5 + np.arctan(2*p[1]/(1-np.power(p[0],2)-np.power(p[1],2)))/np.pi"
      ],
      "metadata": {
        "id": "rKAu7NITmy2I"
      },
      "execution_count": 5,
      "outputs": []
    },
    {
      "cell_type": "code",
      "source": [
        "'''\n",
        "binary search to find boundary intersection\n",
        "'''\n",
        "@jax.jit\n",
        "def binaryRootSearch(p0, p1, rootSteps, dir):\n",
        "  p1 = p0 + p1 # need to center p1 at p0\n",
        "\n",
        "  current = jnp.zeros((jnp.size(p0, 1), jnp.size(p0, 2)))\n",
        "\n",
        "  def binaryStep(i, current):\n",
        "    next = current + jnp.power(0.5,i+1)\n",
        "    dist = signDistance(p0 + dir * next * (p1 - p0))\n",
        "    return jnp.where(dist > 0, current, next)\n",
        "\n",
        "  current = lax.fori_loop(0, rootSteps, binaryStep, current)\n",
        "  \n",
        "  return p0 + dir * current * (p1 - p0), current # return the roots, t-values"
      ],
      "metadata": {
        "id": "H2PJpmiyQ9q8"
      },
      "execution_count": 6,
      "outputs": []
    },
    {
      "cell_type": "code",
      "source": [
        "'''\n",
        "run the wob and calculate the estimator\n",
        "'''\n",
        "@jax.jit\n",
        "def wob(p0, p1, t, rootSteps):\n",
        "  '''\n",
        "  pFirst, tFirst = binaryRootSearch(p0, p1[0], rootSteps, 1)\n",
        "  def wobStep(i, next):\n",
        "    est = next[1] + 2 * jnp.power(-1,i+1) * boundaryCond(next[0])\n",
        "\n",
        "    pBack, tBack = binaryRootSearch(next[0], p1[i], rootSteps, -1)\n",
        "    pFor, tFor = binaryRootSearch(next[0], p1[i], rootSteps, 1)\n",
        "    pNext = jnp.where(tBack > tFor, pBack, pFor)\n",
        "    return (pNext, est)\n",
        "\n",
        "  est = jnp.zeros((jnp.size(p1,2),jnp.size(p1, 3)))\n",
        "  pLast, est = lax.fori_loop(1, t, wobStep, (pFirst, est))\n",
        "  return est + jnp.power(-1, t+1) * boundaryCond(pLast)\n",
        "  '''\n",
        "  runningEst = jnp.zeros((jnp.size(p0,1),jnp.size(p0,2)))\n",
        "  runningSign = 1\n",
        "\n",
        "  pNext, tFirst = binaryRootSearch(p0, p1[0], rootSteps, 1)\n",
        "\n",
        "  for p in p1[1:]:\n",
        "    runningEst += runningSign * boundaryCond(pNext)\n",
        "    runningSign *= -1\n",
        "    pBack, tBack = binaryRootSearch(pNext, p, rootSteps, -1)\n",
        "    pFor, tFor = binaryRootSearch(pNext, p, rootSteps, 1)\n",
        "    pNext = jnp.where(tBack - tFor > 0, pBack, pFor)\n",
        "\n",
        "  runningEst *= 2\n",
        "  runningEst += runningSign * boundaryCond(pNext)\n",
        "  return runningEst"
      ],
      "metadata": {
        "id": "7bZqC1SpI3CL"
      },
      "execution_count": 7,
      "outputs": []
    },
    {
      "cell_type": "code",
      "source": [
        "'''\n",
        "setup the wob\n",
        "'''\n",
        "def computeSoln(t, rootSteps, batches, p, key):\n",
        "  p = p.transpose()\n",
        "  p = jnp.reshape(p, (jnp.size(p,0), jnp.size(p,1), 1))\n",
        "  p0 = jnp.tile(p, (1,1,batches))\n",
        "\n",
        "  # generate random directions in n-dimensions\n",
        "  p1 = random.normal(key, shape=(t, jnp.size(p, 0), jnp.size(p, 1), batches))\n",
        "  normalize = jnp.linalg.norm(p1, ord=2, axis=1, keepdims=True)\n",
        "  p1 = box() * jnp.divide(p1, normalize)\n",
        "\n",
        "  ans = wob(p0, p1, t, rootSteps)\n",
        "  return jnp.mean(ans, 1, keepdims=True), jnp.std(ans, 1, keepdims=True)"
      ],
      "metadata": {
        "id": "QwSKx7xFL9AG"
      },
      "execution_count": 8,
      "outputs": []
    },
    {
      "cell_type": "code",
      "source": [
        "%%time\n",
        "'''\n",
        "testing code\n",
        "'''\n",
        "key = random.PRNGKey(int(time.time()))\n",
        "x = jnp.array([[0.5,0.3]])\n",
        "\n",
        "y, sd = computeSoln(10, 25, 100000, x, key)\n",
        "print('solution:', y)\n",
        "print('exact:',trueSoln([0.5,0.3]))"
      ],
      "metadata": {
        "id": "x_Uq7vQu6nn4",
        "colab": {
          "base_uri": "https://localhost:8080/"
        },
        "outputId": "d81f72eb-3a03-49df-cdad-ae4e66f4ac2e"
      },
      "execution_count": 9,
      "outputs": [
        {
          "output_type": "stream",
          "name": "stdout",
          "text": [
            "solution: [[0.73052996]]\n",
            "exact: 0.7348538278116319\n",
            "CPU times: user 2.65 s, sys: 409 ms, total: 3.06 s\n",
            "Wall time: 4.35 s\n"
          ]
        }
      ]
    },
    {
      "cell_type": "code",
      "source": [
        "'''\n",
        "generate dataset with throw-out algorithm\n",
        "WARNING: this algorithm gets worse in higher dimensions\n",
        "'''\n",
        "def generateData():\n",
        "  key = random.PRNGKey(0)\n",
        "  dimensions = 2\n",
        "  samples = 10000\n",
        "  x = random.uniform(key, minval=-box()/2, maxval=box()-box()/2, shape=(samples,dimensions))\n",
        "  indices = jnp.where(signDistance(x.transpose()) < 0)\n",
        "  print('kept', len(x[indices]), 'out of', len(x))\n",
        "  x = x[indices]\n",
        "\n",
        "  batchSize = 100\n",
        "  y, std = computeSoln(5, 10, 100000, x[:batchSize], key)\n",
        "  for i in range(batchSize, len(x), batchSize):\n",
        "    mean, std = computeSoln(5, 10, 100000, x[i:i+batchSize], key)\n",
        "    y = np.concatenate((y, mean), axis=0)\n",
        "  \n",
        "  return x, y\n",
        "\n",
        "x, y = generateData()"
      ],
      "metadata": {
        "id": "VBO3R5H7zdm3",
        "outputId": "66e15231-e4bb-4907-d816-7cc1e8a53d29",
        "colab": {
          "base_uri": "https://localhost:8080/"
        }
      },
      "execution_count": 15,
      "outputs": [
        {
          "output_type": "stream",
          "name": "stdout",
          "text": [
            "kept 7855 out of 10000\n"
          ]
        }
      ]
    },
    {
      "cell_type": "code",
      "source": [
        "'''\n",
        "save the dataset\n",
        "'''\n",
        "def saveData(x,y):\n",
        "  np.savez('wob_piecwise_data', x=x, y=y)\n",
        "  #data = jnp.concatenate((y,x), axis=1)\n",
        "  #df = pd.DataFrame(data)\n",
        "  #print(df)\n",
        "  #df.to_pickle('wobDataset.pkl')\n",
        "\n",
        "saveData(x,y)"
      ],
      "metadata": {
        "id": "bDze7C0Opf-m"
      },
      "execution_count": 21,
      "outputs": []
    },
    {
      "cell_type": "code",
      "source": [
        "'''\n",
        "download the dataset\n",
        "'''\n",
        "def downloadData():\n",
        "  data = np.load('wob_piecwise_data.npz')\n",
        "  #df = pd.read_pickle('wobDataset.pkl')\n",
        "  #y = df.iloc[:,0].to_numpy() # [u0, u1, ..., un]\n",
        "  #x = df.iloc[:,1:].to_numpy() # [p0, p1, ..., pn]\n",
        "  return data['x'], data['y']"
      ],
      "metadata": {
        "id": "ZjDK52IyvjJx"
      },
      "execution_count": 24,
      "outputs": []
    },
    {
      "cell_type": "code",
      "source": [
        "'''\n",
        "plot the data\n",
        "'''\n",
        "t = 10\n",
        "rootSteps = 25\n",
        "rootSteps = np.arange(25)\n",
        "#batches = np.power(10,np.arange(1,7))\n",
        "batches = 100000\n",
        "y = jnp.array([[0.5,0.3]])\n",
        "\n",
        "key = random.PRNGKey(int(time.time()))\n",
        "keys = random.split(key, len(rootSteps))\n",
        "\n",
        "values = np.zeros(len(rootSteps))\n",
        "sdValues = np.zeros(len(rootSteps))\n",
        "for i in range(len(rootSteps)):\n",
        "  values[i], sdValues[i] = computeSoln(t, rootSteps[i], batches, y, keys[i])\n",
        "\n",
        "\n",
        "upperC = values + 1.96 * sdValues / np.sqrt(batches)\n",
        "lowerC = values - 1.96 * sdValues / np.sqrt(batches)\n",
        "#error = np.abs(values - 0.3)\n",
        "plt.plot(rootSteps, values-trueSoln(y[0]))\n",
        "#plt.xscale('log')\n",
        "#plt.yscale('log')\n",
        "plt.fill_between(rootSteps, lowerC-trueSoln(y[0]), upperC-trueSoln(y[0]), color='b', alpha=.1)"
      ],
      "metadata": {
        "colab": {
          "base_uri": "https://localhost:8080/",
          "height": 287
        },
        "id": "GIg5O1-Z7ysD",
        "outputId": "ae0c135c-286a-46ab-bfc6-6db097797717"
      },
      "execution_count": 13,
      "outputs": [
        {
          "output_type": "execute_result",
          "data": {
            "text/plain": [
              "<matplotlib.collections.PolyCollection at 0x7f706013dc90>"
            ]
          },
          "metadata": {},
          "execution_count": 13
        },
        {
          "output_type": "display_data",
          "data": {
            "text/plain": [
              "<Figure size 432x288 with 1 Axes>"
            ],
            "image/png": "[encoded data removed]"
          },
          "metadata": {
            "needs_background": "light"
          }
        }
      ]
    }
  ]
}