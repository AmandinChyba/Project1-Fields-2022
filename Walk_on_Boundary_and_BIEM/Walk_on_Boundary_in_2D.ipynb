{
  "nbformat": 4,
  "nbformat_minor": 0,
  "metadata": {
    "colab": {
      "name": "Walk on Boundary in 2D.ipynb",
      "provenance": [],
      "authorship_tag": "ABX9TyM0saySBngdjETpAp4lhTFK",
      "include_colab_link": true
    },
    "kernelspec": {
      "name": "python3",
      "display_name": "Python 3"
    },
    "language_info": {
      "name": "python"
    }
  },
  "cells": [
    {
      "cell_type": "markdown",
      "metadata": {
        "id": "view-in-github",
        "colab_type": "text"
      },
      "source": [
        "<a href=\"https://colab.research.google.com/github/AmandinChyba/Project1-Fields-2022/blob/main/Walk_on_Boundary_and_BIEM/Walk_on_Boundary_in_2D.ipynb\" target=\"_parent\"><img src=\"https://colab.research.google.com/assets/colab-badge.svg\" alt=\"Open In Colab\"/></a>"
      ]
    },
    {
      "cell_type": "code",
      "execution_count": 1,
      "metadata": {
        "id": "RCI3NG9rAAO3"
      },
      "outputs": [],
      "source": [
        "import jax\n",
        "from jax import lax\n",
        "from jax import random\n",
        "\n",
        "import jax.numpy as jnp\n",
        "import numpy as np\n",
        "import math\n",
        "\n",
        "import time\n",
        "\n",
        "import matplotlib.pyplot as plt\n",
        "from mpl_toolkits.mplot3d import axes3d\n",
        "\n",
        "from functools import partial\n",
        "import scipy.optimize as opt"
      ]
    },
    {
      "cell_type": "code",
      "source": [
        "def pointsOfParameterizedSurface(xfunc,yfunc):\n",
        "  # should take in a parameterized surface and output points along the surface\n",
        "  # I'm not sure if this will help us but let's see\n",
        "  x_coord = xfunc\n",
        "  y_coord = yfunc\n",
        "  surf = [[x_coord],[y_coord]]\n",
        "  return surf\n",
        "\n",
        "def sdf(x,y):\n",
        "  return jnp.sqrt(jnp.abs(1 - jnp.power(x,2) - jnp.power(y,2)))\n",
        "\n",
        "def findNewPoint(r_0,r_d,sdf,max_steps):\n",
        "  t = 0.0\n",
        "  for i in range(max_steps):\n",
        "    r = r_0 + t*r_d\n",
        "    t = t + sdf(r)\n",
        "  return t\n",
        "\n",
        "def rotMatrix(phi):\n",
        "  # will create a rotation matrix from the randomly-generated phi\n",
        "  R = [[np.cos(phi), -np.sin(phi)], [np.sin(phi), np.cos(phi)]]\n",
        "  return R\n",
        "\n",
        "def rot(x):\n",
        "  # will rotate a vector x to a new vector y - make sure x is a column vector\n",
        "  y = np.matmul(R,x)\n",
        "  return y\n",
        "\n",
        "# def parameterizeToLine(A,vect,t):\n",
        "#   parameterizes a line with a value at a point A = (x,y) \n",
        "#   and a direction given by vect\n",
        "#   x_coord = A[0] + np.multiply(vect[0],t)\n",
        "#   y_coord = A[1] + np.multiply(vect[1],t)\n",
        "#   line = [[x_coord],[y_coord]]\n",
        "#   return line"
      ],
      "metadata": {
        "id": "0fVmNpyKASNz"
      },
      "execution_count": 3,
      "outputs": []
    },
    {
      "cell_type": "code",
      "source": [
        "r_0 = jnp.array([0,0.5])\n",
        "epochs = 30\n",
        "key = random.PRNGKey(int(time.time()))\n",
        "theta = random.uniform(key,(1,epochs+1),minval=0,maxval=2*jnp.pi)\n",
        "\n",
        "def wobstep(r_0,theta,ray):\n",
        "  r_d = jnp.array([jnp.cos(theta),jnp.sin(theta)])\n",
        "\n",
        "  def line_para(t):\n",
        "    x = r_0[0] + t*r_d[0]\n",
        "    y = r_0[1] + t*r_d[1]\n",
        "    return x,y\n",
        "\n",
        "  def fun(t1):\n",
        "    x1,y1 = line_para(t1)\n",
        "    return sdf(x1,y1)\n",
        "\n",
        "  if ray:\n",
        "    test = opt.fsolve(fun,5)\n",
        "    return line_para(test)\n",
        "  else:\n",
        "    test_pos = opt.fsolve(fun,-5)\n",
        "    test_neg = opt.fsolve(fun,5)\n",
        "    pred = math.isclose(test_neg,0,abs_tol=1e-03)\n",
        "    newVal = test_neg\n",
        "    if pred:\n",
        "      newVal = test_pos\n",
        "    return line_para(newVal)\n",
        "\n",
        "def boundaryCond(r):\n",
        "  return r[1]\n",
        "\n",
        "Y = np.empty(epochs+1)\n",
        "r_current = wobstep(r_0,theta[0,0],True)\n",
        "Y[0] = boundaryCond(r_current)\n",
        "for i in range(1,epochs+1):\n",
        "  r_current = wobstep(r_current,theta[0,i],False)\n",
        "  Y[i] = boundaryCond(r_current)\n",
        "\n",
        "Y[:-1] = 2*Y[:-1]\n",
        "Y[1::2] = -Y[1::2]\n",
        "Estimator = np.sum(Y)\n"
      ],
      "metadata": {
        "colab": {
          "base_uri": "https://localhost:8080/"
        },
        "id": "7gbu77NtzPaK",
        "outputId": "034197c6-c08c-4e95-8108-8a671e1909ca"
      },
      "execution_count": 6,
      "outputs": [
        {
          "output_type": "stream",
          "name": "stderr",
          "text": [
            "/usr/local/lib/python3.7/dist-packages/scipy/optimize/minpack.py:175: RuntimeWarning: The iteration is not making good progress, as measured by the \n",
            "  improvement from the last ten iterations.\n",
            "  warnings.warn(msg, RuntimeWarning)\n"
          ]
        }
      ]
    },
    {
      "cell_type": "code",
      "source": [
        "# old stuff\n",
        "phi = np.pi/2\n",
        "R = rotMatrix(phi)\n",
        "starting_vector = np.array([1,0])\n",
        "new_vector = rot(starting_vector)\n",
        "point = [0,4]\n",
        "print(new_vector)\n",
        "print(point)\n",
        "# gives system of equations to find intersection of the curve \n",
        "# with the new line generated\n",
        "# the system being solved is:\n",
        "  # x(theta) - t*x_of_new_vector - x0 = 0\n",
        "  # y(theta) - t*y_of_new_vector - y0 = 0\n",
        "# (x0,y0) is the point on the boundary you're currently at\n",
        "# new_vector is the vector generated from the random phi rotation\n",
        "# t is the parameter for the new line generated\n",
        "# (x(theta),y(theta)) is the parameterization for the curve\n",
        "# the functions x and y need to be inputted - they are in general nonlinear,\n",
        "# which is why fsolve is being used\n",
        "def funcToSolve(t):\n",
        "  return [np.multiply(a,np.cos(t[1])) - np.multiply(t[0],new_vector[0]) - point[0],\n",
        "          np.multiply(b,np.sin(t[1])) - np.multiply(t[0],new_vector[1]) - point[1]]\n",
        "new_point = opt.fsolve(funcToSolve,[0,np.pi])\n",
        "print(new_point)\n",
        "print(a*np.cos(new_point[1]))\n",
        "print(b*np.sin(new_point[1]))\n",
        "\n",
        "\n",
        "\n"
      ],
      "metadata": {
        "colab": {
          "base_uri": "https://localhost:8080/"
        },
        "id": "TKq2BB3ABQgq",
        "outputId": "8120c320-208b-4648-b73b-a48ca17f5c1b"
      },
      "execution_count": 23,
      "outputs": [
        {
          "output_type": "stream",
          "name": "stdout",
          "text": [
            "[6.123234e-17 1.000000e+00]\n",
            "[0, 4]\n",
            "[-8.         42.41150082]\n",
            "-6.071447880932317e-13\n",
            "-4.0\n"
          ]
        }
      ]
    },
    {
      "cell_type": "code",
      "source": [
        "# old stuff\n",
        "a = 3\n",
        "b = 4\n",
        "theta = np.linspace(0,2*np.pi,1000)\n",
        "xfunc = a*np.cos(theta)\n",
        "yfunc = b*np.sin(theta)\n",
        "surf = pointsOfParameterizedSurface(xfunc,yfunc)\n",
        "plt.scatter(surf[0],surf[1],s=0.1)\n",
        "plt.show()"
      ],
      "metadata": {
        "colab": {
          "base_uri": "https://localhost:8080/",
          "height": 265
        },
        "id": "aEnYZi7CJpbm",
        "outputId": "dd33cee5-536f-4d54-9f38-bb6ed8646b3c"
      },
      "execution_count": 18,
      "outputs": [
        {
          "output_type": "display_data",
          "data": {
            "text/plain": [
              "<Figure size 432x288 with 1 Axes>"
            ],
            "image/png": "[encoded data removed]"
          },
          "metadata": {
            "needs_background": "light"
          }
        }
      ]
    }
  ]
}