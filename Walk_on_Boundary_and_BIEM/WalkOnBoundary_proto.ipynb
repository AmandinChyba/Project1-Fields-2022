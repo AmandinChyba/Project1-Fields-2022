{
  "nbformat": 4,
  "nbformat_minor": 0,
  "metadata": {
    "colab": {
      "name": "WalkOnBoundary.ipynb",
      "provenance": [],
      "include_colab_link": true
    },
    "kernelspec": {
      "name": "python3",
      "display_name": "Python 3"
    },
    "language_info": {
      "name": "python"
    }
  },
  "cells": [
    {
      "cell_type": "markdown",
      "metadata": {
        "id": "view-in-github",
        "colab_type": "text"
      },
      "source": [
        "<a href=\"https://colab.research.google.com/github/AmandinChyba/Project1-Fields-2022/blob/main/Walk_on_Boundary_and_BIEM/WalkOnBoundary_proto.ipynb\" target=\"_parent\"><img src=\"https://colab.research.google.com/assets/colab-badge.svg\" alt=\"Open In Colab\"/></a>"
      ]
    },
    {
      "cell_type": "code",
      "execution_count": 1,
      "metadata": {
        "id": "5zoCL7guIfDb"
      },
      "outputs": [],
      "source": [
        "import jax\n",
        "from jax import lax\n",
        "from jax import random\n",
        "\n",
        "import jax.numpy as jnp\n",
        "import numpy as np\n",
        "\n",
        "import time\n",
        "\n",
        "import matplotlib.pyplot as plt\n",
        "\n",
        "from functools import partial"
      ]
    },
    {
      "cell_type": "code",
      "source": [
        "def unit_circle_boundary(p): # p is a point s.t. p[0]=x and p[1]=y\n",
        "  return jnp.sqrt(jnp.power(p[0], 2) + jnp.power(p[1], 2)) - 1"
      ],
      "metadata": {
        "id": "ZLd9MKm0LrEO"
      },
      "execution_count": 43,
      "outputs": []
    },
    {
      "cell_type": "code",
      "source": [
        "def getMiddle(p0, p1):\n",
        "  return jnp.array([(p1[0]-p0[0])/2 + p0[0], (p1[1]-p0[1])/2 + p0[1]])"
      ],
      "metadata": {
        "id": "C6GNT70fFmCP"
      },
      "execution_count": 11,
      "outputs": []
    },
    {
      "cell_type": "code",
      "source": [
        "def binaryStep(i, bounds, distanceF):\n",
        "  mid = getMiddle(bounds[0],bounds[1])\n",
        "  dist = jnp.where(distanceF(mid) > 0, 1, 0)\n",
        "  return jnp.array([mid*(1-dist) + bounds[0]*dist, mid*dist + bounds[1]*(1-dist)])"
      ],
      "metadata": {
        "id": "KpVbT6LfZrbm"
      },
      "execution_count": 91,
      "outputs": []
    },
    {
      "cell_type": "code",
      "source": [
        "def binaryRootSearch(point, angle, binaryFunc, iterations, dir):\n",
        "  epsilon = 0.01\n",
        "  diameter = 2 + epsilon\n",
        "\n",
        "  lower = point\n",
        "  upper = jnp.array([point[0] + dir * diameter * jnp.cos(angle), \n",
        "                     point[1] + dir * diameter * jnp.sin(angle)]) # optimize this\n",
        "  \n",
        "  bounds = jnp.array([lower,upper])\n",
        "\n",
        "  bounds = lax.fori_loop(0, iterations, binaryFunc, bounds)\n",
        "\n",
        "  root = getMiddle(bounds[0],bounds[1])\n",
        "  return root"
      ],
      "metadata": {
        "id": "H2PJpmiyQ9q8"
      },
      "execution_count": 92,
      "outputs": []
    },
    {
      "cell_type": "code",
      "source": [
        "def getDistance(p0, p1):\n",
        "  return jnp.array([jnp.power(p1[0]-p0[0],2) + jnp.power(p1[1]-p0[1],2)]) # distance squared"
      ],
      "metadata": {
        "id": "mqijCjSBF-yG"
      },
      "execution_count": 12,
      "outputs": []
    },
    {
      "cell_type": "code",
      "source": [
        "def wobStep(pNext, angle, binaryFunc, rootSteps):\n",
        "    p0 = binaryRootSearch(pNext, angle, binaryFunc, rootSteps, 1)\n",
        "    p1 = binaryRootSearch(pNext, angle, binaryFunc, rootSteps, -1)\n",
        "    pNext = jnp.where(getDistance(pNext,p0) - getDistance(pNext,p1) > 0, p0, p1)\n",
        "    return pNext, pNext"
      ],
      "metadata": {
        "id": "E4dH3mJOu88x"
      },
      "execution_count": 231,
      "outputs": []
    },
    {
      "cell_type": "code",
      "source": [
        "def wob(g, distanceF, x0, y0, t, rootSteps, angles):\n",
        "  binaryFunc = partial(binaryStep, distanceF=distanceF)\n",
        "  wobFunc = partial(wobStep, binaryFunc=binaryFunc, rootSteps=rootSteps)\n",
        "\n",
        "  pInit = jnp.array([x0,y0])\n",
        "  pNext = binaryRootSearch(pInit, angles[0], binaryFunc, rootSteps, 1) \n",
        "  final, result = lax.scan(wobFunc, pNext, angles[1:])\n",
        "  result = jnp.concatenate((jnp.array([pNext]), result), axis=0)\n",
        "\n",
        "  est = np.resize(np.array([1,-1]), (t,1))\n",
        "  est[:-1] = 2*est[:-1]\n",
        "  est = jnp.tile(jnp.array(est), (1,batches))\n",
        "  \n",
        "  gVal = jnp.apply_along_axis(g, 1, result)\n",
        "  \n",
        "  est = jnp.sum(est * gVal, axis=0)\n",
        "  return jnp.mean(est)"
      ],
      "metadata": {
        "id": "7bZqC1SpI3CL"
      },
      "execution_count": 218,
      "outputs": []
    },
    {
      "cell_type": "code",
      "source": [
        "%%time\n",
        "t = 50 # number of jumps on the boundary\n",
        "rootSteps = 25 # binary search search steps\n",
        "batches = 100000\n",
        "\n",
        "g = lambda p : p[1] # p is a point s.t. p[0]=x and p[1]=y\n",
        "distanceF = unit_circle_boundary\n",
        "\n",
        "x0 = np.array([0]*batches)\n",
        "y0 = np.array([-0.3]*batches)\n",
        "\n",
        "key = random.PRNGKey(1)\n",
        "angles = random.uniform(key, shape=(t, batches)) * 2 * jnp.pi\n",
        "\n",
        "ans = wob(g, distanceF, x0, y0, t, rootSteps, angles)\n",
        "\n",
        "mean = jnp.mean(ans)\n",
        "print(mean)"
      ],
      "metadata": {
        "id": "QwSKx7xFL9AG"
      },
      "execution_count": null,
      "outputs": []
    }
  ]
}