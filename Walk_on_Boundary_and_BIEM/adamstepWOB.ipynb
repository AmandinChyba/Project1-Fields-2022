{
  "nbformat": 4,
  "nbformat_minor": 0,
  "metadata": {
    "colab": {
      "name": "WalkOnBoundary.ipynb",
      "provenance": [],
      "include_colab_link": true
    },
    "kernelspec": {
      "name": "python3",
      "display_name": "Python 3"
    },
    "language_info": {
      "name": "python"
    },
    "gpuClass": "standard"
  },
  "cells": [
    {
      "cell_type": "markdown",
      "metadata": {
        "id": "view-in-github",
        "colab_type": "text"
      },
      "source": [
        "<a href=\"https://colab.research.google.com/github/AmandinChyba/Project1-Fields-2022/blob/main/Walk_on_Boundary_and_BIEM/adamstepWOB.ipynb\" target=\"_parent\"><img src=\"https://colab.research.google.com/assets/colab-badge.svg\" alt=\"Open In Colab\"/></a>"
      ]
    },
    {
      "cell_type": "code",
      "execution_count": 605,
      "metadata": {
        "id": "5zoCL7guIfDb"
      },
      "outputs": [],
      "source": [
        "import jax\n",
        "from jax import lax\n",
        "from jax import random\n",
        "\n",
        "import jax.numpy as jnp\n",
        "import numpy as np\n",
        "\n",
        "import time\n",
        "\n",
        "import matplotlib.pyplot as plt\n",
        "import pandas as pd"
      ]
    },
    {
      "cell_type": "code",
      "source": [
        "'''\n",
        "signed distance function of the domain\n",
        "'''\n",
        "@jax.jit\n",
        "def signDistance(p):\n",
        "  return jnp.linalg.norm(p,ord=2,axis=0) - 1 # unit sphere"
      ],
      "metadata": {
        "id": "ZLd9MKm0LrEO"
      },
      "execution_count": 606,
      "outputs": []
    },
    {
      "cell_type": "code",
      "source": [
        "'''\n",
        "bounding box diameter\n",
        "'''\n",
        "@jax.jit\n",
        "def box():\n",
        "  return 2"
      ],
      "metadata": {
        "id": "fwoTCQflXdzf"
      },
      "execution_count": 607,
      "outputs": []
    },
    {
      "cell_type": "code",
      "source": [
        "'''\n",
        "Dirchlet boundary condition\n",
        "'''\n",
        "@jax.jit\n",
        "def boundaryCond(p):\n",
        "  return 1.0*(p[1] > 0.0)"
      ],
      "metadata": {
        "id": "DF8aZCoH73hJ"
      },
      "execution_count": 608,
      "outputs": []
    },
    {
      "cell_type": "code",
      "source": [
        "'''\n",
        "the true solution\n",
        "'''\n",
        "def trueSoln(p):\n",
        "  return 0.5 + np.arctan(2*p[1]/(1-np.power(p[0],2)-np.power(p[1],2)))/np.pi"
      ],
      "metadata": {
        "id": "__z5AwFDbVFR"
      },
      "execution_count": 609,
      "outputs": []
    },
    {
      "cell_type": "markdown",
      "source": [
        "# Walk on boundary method"
      ],
      "metadata": {
        "id": "ShhkVBuLlF5c"
      }
    },
    {
      "cell_type": "code",
      "source": [
        "'''\n",
        "binary search to find boundary intersection\n",
        "'''\n",
        "@jax.jit\n",
        "def bRootSearch(p0, p1, rootSteps, dir):\n",
        "  p1 = p0 + p1 # need to center p1 at p0\n",
        "\n",
        "  current = jnp.zeros((jnp.size(p0, 1), jnp.size(p0, 2)))\n",
        "\n",
        "  def binaryStep(i, current):\n",
        "    next = current + jnp.power(0.5,i+1)\n",
        "    dist = signDistance(p0 + dir * next * (p1 - p0))\n",
        "    return jnp.where(dist > 0, current, next)\n",
        "\n",
        "  current = lax.fori_loop(0, rootSteps, binaryStep, current)\n",
        "  \n",
        "  return p0 + dir * current * (p1 - p0), current"
      ],
      "metadata": {
        "id": "Uf44gn44JF6K"
      },
      "execution_count": 610,
      "outputs": []
    },
    {
      "cell_type": "code",
      "source": [
        "'''\n",
        "run the wob with binary search and calculate the estimator\n",
        "'''\n",
        "@jax.jit\n",
        "def bwob(p0, p1, t, rootSteps):\n",
        "  runningEst = jnp.zeros((jnp.size(p0,1),jnp.size(p0,2)))\n",
        "  runningSign = 1\n",
        "\n",
        "  pNext, tFirst = bRootSearch(p0, p1[0], rootSteps, 1)\n",
        "\n",
        "  for p in p1[1:]:\n",
        "    runningEst += runningSign * boundaryCond(pNext)\n",
        "    runningSign *= -1\n",
        "    pBack, tBack = bRootSearch(pNext, p, rootSteps, -1)\n",
        "    pFor, tFor = bRootSearch(pNext, p, rootSteps, 1)\n",
        "    pNext = jnp.where(tBack - tFor > 0, pBack, pFor)\n",
        "\n",
        "  runningEst *= 2\n",
        "  runningEst += runningSign * boundaryCond(pNext)\n",
        "  return runningEst"
      ],
      "metadata": {
        "id": "dBICB7Q3JgXy"
      },
      "execution_count": 611,
      "outputs": []
    },
    {
      "cell_type": "code",
      "source": [
        "'''\n",
        "false position method to find boundary intersection\n",
        "'''\n",
        "@jax.jit\n",
        "def fpRootSearch(p0, p1, rootSteps, dir):\n",
        "  p1 = p0 + p1 # need to center p1 at p0\n",
        "\n",
        "  t = (jnp.zeros((jnp.size(p0, 1), jnp.size(p0, 2))), \n",
        "       jnp.ones((jnp.size(p0, 1), jnp.size(p0, 2))))\n",
        "\n",
        "  def adamStep(i, t):\n",
        "    v1 = signDistance(p0 + dir * t[1] * (p1 - p0))\n",
        "    v0 = jnp.where(t[0] == 0, -v1, signDistance(p0 + dir * t[0] * (p1 - p0)))\n",
        "    next = (t[0] * v1 - t[1] * v0) / (v1 - v0)\n",
        "    dist = signDistance(p0 + dir * next * (p1 - p0))\n",
        "\n",
        "    new_t0 = jnp.where(dist > 0, t[0], next)\n",
        "    new_t0 = jnp.where(jnp.isnan(new_t0), t[0], new_t0)\n",
        "    new_t1 = jnp.where(dist < 0, t[1], next)\n",
        "    new_t1 = jnp.where(jnp.isnan(new_t1), t[1], new_t1)\n",
        "    \n",
        "    return (new_t0, new_t1)\n",
        "\n",
        "  t = lax.fori_loop(0, rootSteps, adamStep, t)\n",
        "  v1 = signDistance(p0 + dir * t[1] * (p1 - p0))\n",
        "  v0 = jnp.where(t[0] == 0, -v1, signDistance(p0 + dir * t[0] * (p1 - p0)))\n",
        "  tfinal = jnp.where(jnp.abs(v1) > jnp.abs(v0), t[0], t[1])\n",
        "\n",
        "  return p0 + dir * tfinal * (p1 - p0), tfinal # return the roots, t-values"
      ],
      "metadata": {
        "id": "7bZqC1SpI3CL"
      },
      "execution_count": 612,
      "outputs": []
    },
    {
      "cell_type": "code",
      "source": [
        "'''\n",
        "run the wob with false position and calculate the estimator\n",
        "'''\n",
        "@jax.jit\n",
        "def fpwob(p0, p1, t, rootSteps):\n",
        "  runningEst = jnp.zeros((jnp.size(p0,1),jnp.size(p0,2)))\n",
        "  runningSign = 1\n",
        "\n",
        "  pNext, tFirst = fpRootSearch(p0, p1[0], rootSteps, 1)\n",
        "\n",
        "  for p in p1[1:]:\n",
        "    runningEst += runningSign * boundaryCond(pNext)\n",
        "    runningSign *= -1\n",
        "    pBack, tBack = fpRootSearch(pNext, p, rootSteps, -1)\n",
        "    pFor, tFor = fpRootSearch(pNext, p, rootSteps, 1)\n",
        "    pNext = jnp.where(tBack - tFor > 0, pBack, pFor)\n",
        "\n",
        "  runningEst *= 2\n",
        "  runningEst += runningSign * boundaryCond(pNext)\n",
        "  return runningEst"
      ],
      "metadata": {
        "id": "2Po4if-k58ff"
      },
      "execution_count": 613,
      "outputs": []
    },
    {
      "cell_type": "code",
      "source": [
        "'''\n",
        "setup the wob\n",
        "'''\n",
        "def computeSoln(t, rootSteps, batches, p, key, rootSearch='fp'):\n",
        "  p = p.transpose()\n",
        "  p = jnp.reshape(p, (jnp.size(p,0), jnp.size(p,1), 1))\n",
        "  p0 = jnp.tile(p, (1,1,batches))\n",
        "\n",
        "  # generate random directions in n-dimensions\n",
        "  p1 = random.normal(key, shape=(t, jnp.size(p, 0), jnp.size(p, 1), batches))\n",
        "  normalize = jnp.linalg.norm(p1, ord=2, axis=1, keepdims=True)\n",
        "  p1 = box() * jnp.divide(p1, normalize)\n",
        "\n",
        "  if (rootSearch == 'b'):\n",
        "    ans = bwob(p0, p1, t, rootSteps)\n",
        "  else:\n",
        "    ans = fpwob(p0, p1, t, rootSteps)\n",
        "  return jnp.mean(ans, 1, keepdims=True)"
      ],
      "metadata": {
        "id": "QwSKx7xFL9AG"
      },
      "execution_count": 614,
      "outputs": []
    },
    {
      "cell_type": "code",
      "source": [
        "%%time\n",
        "'''\n",
        "testing code\n",
        "'''\n",
        "key = random.PRNGKey(int(time.time()))\n",
        "x = jnp.array([[-0.3,0.5]])\n",
        "\n",
        "y = computeSoln(10, 5, 100000, x, key)\n",
        "print('solution:', y)\n",
        "print('exact:', trueSoln(x[0]))"
      ],
      "metadata": {
        "colab": {
          "base_uri": "https://localhost:8080/"
        },
        "id": "Fs15O8eVQPdo",
        "outputId": "2b874780-81c8-4dc7-d51e-38cbdb71860c"
      },
      "execution_count": 634,
      "outputs": [
        {
          "output_type": "stream",
          "name": "stdout",
          "text": [
            "solution: [[0.80595]]\n",
            "exact: 0.8143066174475078\n",
            "CPU times: user 240 ms, sys: 32.2 ms, total: 272 ms\n",
            "Wall time: 216 ms\n"
          ]
        }
      ]
    },
    {
      "cell_type": "markdown",
      "source": [
        "# Analysis"
      ],
      "metadata": {
        "id": "6ESFrn-2lcjV"
      }
    },
    {
      "cell_type": "code",
      "source": [
        "'''\n",
        "generate dataset with throw-out algorithm\n",
        "WARNING: this algorithm gets worse in higher dimensions\n",
        "'''\n",
        "def generateData():\n",
        "  key = random.PRNGKey(939)\n",
        "  dimensions = 2\n",
        "  samples = 1000\n",
        "  x = random.uniform(key, minval=-box()/2, maxval=box()-box()/2, shape=(samples,dimensions))\n",
        "  indices = jnp.where(signDistance(x.transpose()) < 0)\n",
        "  #print('kept', len(x[indices]), 'out of', len(x))\n",
        "  x = x[indices]\n",
        "  \n",
        "  return x"
      ],
      "metadata": {
        "id": "cmtvrs_1DQaj"
      },
      "execution_count": 635,
      "outputs": []
    },
    {
      "cell_type": "code",
      "source": [
        "x = generateData()\n",
        "y = trueSoln(jnp.transpose(x))\n",
        "rootStepSize = jnp.arange(2, 25)\n",
        "key = random.PRNGKey(909)"
      ],
      "metadata": {
        "id": "qP2s1r1ugNbm"
      },
      "execution_count": 636,
      "outputs": []
    },
    {
      "cell_type": "code",
      "source": [
        "avg_error_a = jnp.zeros(23)\n",
        "time_a = jnp.zeros(23)\n",
        "\n",
        "for rootStep in rootStepSize:\n",
        "  start = time.time()\n",
        "  y_hat = jnp.squeeze(computeSoln(10, rootStep, 10000, x, key))\n",
        "  time_a = time_a.at[rootStep-2].set(time.time() - start)\n",
        "  error = jnp.abs(y - y_hat)\n",
        "  avg_error_a = avg_error_a.at[rootStep-2].set(jnp.mean(error))"
      ],
      "metadata": {
        "id": "NNRfM6JcJgVd"
      },
      "execution_count": 637,
      "outputs": []
    },
    {
      "cell_type": "code",
      "source": [
        "avg_error_b = jnp.zeros(23)\n",
        "time_b = jnp.zeros(23)\n",
        "\n",
        "for rootStep in rootStepSize:\n",
        "  start = time.time()\n",
        "  y_hat = jnp.squeeze(computeSoln(10, rootStep, 10000, x, key, rootSearch='b'))\n",
        "  time_b = time_b.at[rootStep-2].set(time.time() - start)\n",
        "  error = jnp.abs(y - y_hat)\n",
        "  avg_error_b = avg_error_b.at[rootStep-2].set(jnp.mean(error))"
      ],
      "metadata": {
        "id": "oviz3KWVOsYW"
      },
      "execution_count": 640,
      "outputs": []
    },
    {
      "cell_type": "code",
      "source": [
        "plt.plot(rootStepSize, avg_error_a, label='False Position')\n",
        "plt.plot(rootStepSize, avg_error_b, label='Binary Search')\n",
        "plt.xlabel('Root Steps')\n",
        "plt.ylabel('Error')\n",
        "plt.legend()"
      ],
      "metadata": {
        "colab": {
          "base_uri": "https://localhost:8080/",
          "height": 297
        },
        "id": "Kl3dtlXmPJxg",
        "outputId": "132588b0-1268-49e6-b273-d2ad590ee830"
      },
      "execution_count": 641,
      "outputs": [
        {
          "output_type": "execute_result",
          "data": {
            "text/plain": [
              "<matplotlib.legend.Legend at 0x7f0c91588b10>"
            ]
          },
          "metadata": {},
          "execution_count": 641
        },
        {
          "output_type": "display_data",
          "data": {
            "text/plain": [
              "<Figure size 432x288 with 1 Axes>"
            ],
            "image/png": "[encoded data removed]"
          },
          "metadata": {
            "needs_background": "light"
          }
        }
      ]
    },
    {
      "cell_type": "code",
      "source": [
        "plt.plot(rootStepSize, time_a, label='False Position')\n",
        "plt.plot(rootStepSize, time_b, label='Binary Search')\n",
        "plt.xlabel('Root Steps')\n",
        "plt.ylabel('Time [s]')\n",
        "plt.legend()"
      ],
      "metadata": {
        "colab": {
          "base_uri": "https://localhost:8080/",
          "height": 297
        },
        "id": "Y1oGVPVFjDBf",
        "outputId": "a4ab3b6d-9d68-441c-8220-7a12b8b7ca30"
      },
      "execution_count": 642,
      "outputs": [
        {
          "output_type": "execute_result",
          "data": {
            "text/plain": [
              "<matplotlib.legend.Legend at 0x7f0c90b12ad0>"
            ]
          },
          "metadata": {},
          "execution_count": 642
        },
        {
          "output_type": "display_data",
          "data": {
            "text/plain": [
              "<Figure size 432x288 with 1 Axes>"
            ],
            "image/png": "[encoded data removed]"
          },
          "metadata": {
            "needs_background": "light"
          }
        }
      ]
    }
  ]
}