{
  "nbformat": 4,
  "nbformat_minor": 0,
  "metadata": {
    "colab": {
      "name": "WalkOnBoundary.ipynb",
      "provenance": [],
      "authorship_tag": "ABX9TyPR8cg7zFxTtURhsaq7pq2Z",
      "include_colab_link": true
    },
    "kernelspec": {
      "name": "python3",
      "display_name": "Python 3"
    },
    "language_info": {
      "name": "python"
    },
    "accelerator": "GPU",
    "gpuClass": "standard"
  },
  "cells": [
    {
      "cell_type": "markdown",
      "metadata": {
        "id": "view-in-github",
        "colab_type": "text"
      },
      "source": [
        "<a href=\"https://colab.research.google.com/github/AmandinChyba/Project1-Fields-2022/blob/main/Walk_on_Boundary_and_BIEM/adamstepWOB.ipynb\" target=\"_parent\"><img src=\"https://colab.research.google.com/assets/colab-badge.svg\" alt=\"Open In Colab\"/></a>"
      ]
    },
    {
      "cell_type": "code",
      "execution_count": 1,
      "metadata": {
        "id": "5zoCL7guIfDb"
      },
      "outputs": [],
      "source": [
        "import jax\n",
        "from jax import lax\n",
        "from jax import random\n",
        "\n",
        "import jax.numpy as jnp\n",
        "import numpy as np\n",
        "\n",
        "import time\n",
        "\n",
        "import matplotlib.pyplot as plt\n",
        "import pandas as pd"
      ]
    },
    {
      "cell_type": "code",
      "source": [
        "'''\n",
        "signed distance function of the domain\n",
        "'''\n",
        "@jax.jit\n",
        "def signDistance(p):\n",
        "  return jnp.linalg.norm(p,ord=2,axis=0) - 1 # unit sphere"
      ],
      "metadata": {
        "id": "ZLd9MKm0LrEO"
      },
      "execution_count": 2,
      "outputs": []
    },
    {
      "cell_type": "code",
      "source": [
        "'''\n",
        "bounding box diameter\n",
        "'''\n",
        "@jax.jit\n",
        "def box():\n",
        "  return 2"
      ],
      "metadata": {
        "id": "fwoTCQflXdzf"
      },
      "execution_count": 3,
      "outputs": []
    },
    {
      "cell_type": "code",
      "source": [
        "'''\n",
        "Dirchlet boundary condition\n",
        "'''\n",
        "@jax.jit\n",
        "def boundaryCond(p):\n",
        "  return 1.0*(p[1] > 0.0)"
      ],
      "metadata": {
        "id": "DF8aZCoH73hJ"
      },
      "execution_count": 4,
      "outputs": []
    },
    {
      "cell_type": "code",
      "source": [
        "'''\n",
        "the true solution\n",
        "'''\n",
        "def trueSoln(p):\n",
        "  return 0.5 + np.arctan(2*p[1]/(1-np.power(p[0],2)-np.power(p[1],2)))/np.pi"
      ],
      "metadata": {
        "id": "__z5AwFDbVFR"
      },
      "execution_count": 5,
      "outputs": []
    },
    {
      "cell_type": "code",
      "source": [
        "'''\n",
        "binary search to find boundary intersection\n",
        "'''\n",
        "#@jax.jit\n",
        "def binaryRootSearch(p0, p1, rootSteps, dir):\n",
        "  p1 = p0 + p1 # need to center p1 at p0\n",
        "\n",
        "  t = (jnp.zeros((jnp.size(p0, 1), jnp.size(p0, 2))), \n",
        "       jnp.ones((jnp.size(p0, 1), jnp.size(p0, 2))))\n",
        "  #print(\"t: \", t)\n",
        "  next = t[0] + 0.5\n",
        "  #print(\"next: \", p0 + dir * next * (p1 - p0))\n",
        "  dist = signDistance(p0 + dir * next * (p1 - p0))\n",
        "  #print(\"dist: \", dist)\n",
        "  t = (jnp.where(dist > 0, t[0], next), \n",
        "       jnp.where(dist < 0, t[1], next))\n",
        "\n",
        "  for i in range(0, rootSteps):\n",
        "    #print(\"t: \", t)\n",
        "    v0 = signDistance(p0 + dir * t[0] * (p1 - p0))\n",
        "    v1 = signDistance(p0 + dir * t[1] * (p1 - p0))\n",
        "    next = (t[0] * v1 - t[1] * v0) / (v1 - v0)\n",
        "    #print(\"next: \", p0 + dir * next * (p1 - p0))\n",
        "    dist = signDistance(p0 + dir * next * (p1 - p0))\n",
        "    #print(\"dist: \", dist)\n",
        "    old_t0 = t[0]\n",
        "    old_t1 = t[1]\n",
        "    new_t0 = jnp.where(dist > 0, t[0], next)\n",
        "    new_t0 = jnp.where(jnp.isnan(new_t0), old_t0, new_t0)\n",
        "    new_t1 = jnp.where(dist < 0, t[1], next)\n",
        "    new_t1 = jnp.where(jnp.isnan(new_t1), old_t1, new_t1)\n",
        "    t = (new_t0, new_t1)\n",
        "    #return t\n",
        "\n",
        "  #t = lax.fori_loop(1, rootSteps, binaryStep, t)\n",
        "\n",
        "  #print(\"p0: \", p0)\n",
        "  #print(\"p1: \", p1)\n",
        "  #print(\"p: \", p0 + dir * t[0] * (p1 - p0))\n",
        "  \n",
        "  return p0 + dir * t[0] * (p1 - p0), t[0] # return the roots, t-values"
      ],
      "metadata": {
        "id": "7bZqC1SpI3CL"
      },
      "execution_count": 6,
      "outputs": []
    },
    {
      "cell_type": "code",
      "source": [
        "'''\n",
        "run the wob and calculate the estimator\n",
        "'''\n",
        "#@jax.jit\n",
        "def wob(p0, p1, t, rootSteps):\n",
        "  '''\n",
        "  pFirst, tFirst = binaryRootSearch(p0, p1[0], rootSteps, 1)\n",
        "  def wobStep(i, next):\n",
        "    est = next[1] + 2 * jnp.power(-1,i+1) * boundaryCond(next[0])\n",
        "\n",
        "    pBack, tBack = binaryRootSearch(next[0], p1[i], rootSteps, -1)\n",
        "    pFor, tFor = binaryRootSearch(next[0], p1[i], rootSteps, 1)\n",
        "    pNext = jnp.where(tBack > tFor, pBack, pFor)\n",
        "    return (pNext, est)\n",
        "\n",
        "  est = jnp.zeros((jnp.size(p1,2),jnp.size(p1, 3)))\n",
        "  pLast, est = lax.fori_loop(1, t, wobStep, (pFirst, est))\n",
        "  return est + jnp.power(-1, t+1) * boundaryCond(pLast)\n",
        "  '''\n",
        "  runningEst = jnp.zeros((jnp.size(p0,1),jnp.size(p0,2)))\n",
        "  runningSign = 1\n",
        "\n",
        "  pNext, tFirst = binaryRootSearch(p0, p1[0], rootSteps, 1)\n",
        "  bad_ps = 0\n",
        "\n",
        "  for p in p1[1:]:\n",
        "    runningEst += runningSign * boundaryCond(pNext)\n",
        "    runningSign *= -1\n",
        "    pBack, tBack = binaryRootSearch(pNext, p, rootSteps, -1)\n",
        "    pFor, tFor = binaryRootSearch(pNext, p, rootSteps, 1)\n",
        "    pNext = jnp.where(tBack - tFor > 0, pBack, pFor)\n",
        "    bad_ps += jnp.sum(jnp.where(tBack == tFor, 1, 0))\n",
        "\n",
        "  print(bad_ps)\n",
        "\n",
        "  runningEst *= 2\n",
        "  runningEst += runningSign * boundaryCond(pNext)\n",
        "  print(pNext.shape)\n",
        "  return runningEst"
      ],
      "metadata": {
        "id": "2Po4if-k58ff"
      },
      "execution_count": 7,
      "outputs": []
    },
    {
      "cell_type": "code",
      "source": [
        "'''\n",
        "setup the wob\n",
        "'''\n",
        "def computeSoln(t, rootSteps, batches, p, key):\n",
        "  p = p.transpose()\n",
        "  p = jnp.reshape(p, (jnp.size(p,0), jnp.size(p,1), 1))\n",
        "  p0 = jnp.tile(p, (1,1,batches))\n",
        "\n",
        "  # generate random directions in n-dimensions\n",
        "  p1 = random.normal(key, shape=(t, jnp.size(p, 0), jnp.size(p, 1), batches))\n",
        "  normalize = jnp.linalg.norm(p1, ord=2, axis=1, keepdims=True)\n",
        "  p1 = box() * jnp.divide(p1, normalize)\n",
        "\n",
        "  ans = wob(p0, p1, t, rootSteps)\n",
        "  return jnp.mean(ans, 1, keepdims=True)"
      ],
      "metadata": {
        "id": "QwSKx7xFL9AG"
      },
      "execution_count": 8,
      "outputs": []
    },
    {
      "cell_type": "code",
      "source": [
        "%%time\n",
        "'''\n",
        "testing code\n",
        "'''\n",
        "key = random.PRNGKey(int(time.time()))\n",
        "x = jnp.array([[0.5,0.3]])\n",
        "\n",
        "y = computeSoln(10, 15, 100000, x, key)\n",
        "print('solution:', y)\n",
        "print('exact:', trueSoln(x[0]))"
      ],
      "metadata": {
        "colab": {
          "base_uri": "https://localhost:8080/"
        },
        "id": "6gT7oA_DRNuL",
        "outputId": "e4887c0e-569e-422f-83ab-4b9d4365143c"
      },
      "execution_count": 11,
      "outputs": [
        {
          "output_type": "stream",
          "name": "stdout",
          "text": [
            "231795\n",
            "(2, 1, 100000)\n",
            "solution: [[0.70818996]]\n",
            "exact: 0.7348538347994082\n",
            "CPU times: user 907 ms, sys: 387 ms, total: 1.29 s\n",
            "Wall time: 887 ms\n"
          ]
        }
      ]
    }
  ]
}