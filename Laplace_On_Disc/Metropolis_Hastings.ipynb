{
  "nbformat": 4,
  "nbformat_minor": 0,
  "metadata": {
    "colab": {
      "name": "Metropolis-Hastings.ipynb",
      "provenance": [],
      "authorship_tag": "ABX9TyOYTq5md8VC1FGmiK7HX1at",
      "include_colab_link": true
    },
    "kernelspec": {
      "name": "python3",
      "display_name": "Python 3"
    },
    "language_info": {
      "name": "python"
    }
  },
  "cells": [
    {
      "cell_type": "markdown",
      "metadata": {
        "id": "view-in-github",
        "colab_type": "text"
      },
      "source": [
        "<a href=\"https://colab.research.google.com/github/AmandinChyba/Project1-Fields-2022/blob/main/Laplace_On_Disc/Metropolis_Hastings.ipynb\" target=\"_parent\"><img src=\"https://colab.research.google.com/assets/colab-badge.svg\" alt=\"Open In Colab\"/></a>"
      ]
    },
    {
      "cell_type": "code",
      "execution_count": null,
      "metadata": {
        "id": "70ahUYehc-pP"
      },
      "outputs": [],
      "source": [
        "\n"
      ]
    },
    {
      "cell_type": "markdown",
      "source": [
        "Pseudocode!\n",
        "\n",
        "1.   Generate an array of N points on the boundary of the sphere (i.e. each value x in the array is in (0,2π))\n",
        "2.   Generate another array of N points for proposing new points on the boundary x' - we can start by generating these points from the uniform distribution, i.e. X' ~ U[0,2π]\n",
        "3.   We wish to calculate the probability A(x',x) = min(1,(f(x')/f(x))*(g(x|x')/g(x'|x)). The g's are the conditional probablities based on the uniform distribution (we'll start with this and then do Gaussians). f is the distribution we wish to sample from. \n",
        "4.   Generate a random variable U from U[0,1]: if U <= A(x,x'), then accept x' as the new state (i.e. value in x array gets changed to x'); if U > A(x,x'), reject x' and stay in state x (i.e. value in x array stays the same). \n",
        "\n",
        "The above works for each *step* of the algorithm, but we want to do it over several steps to obtain a large sample. Not sure how we could do this in vectorized form since it seems like the steps depend on previous inputs?\n",
        "\n",
        "\n",
        "\n",
        "\n",
        "\n",
        "\n",
        "\n",
        "\n",
        "\n",
        "\n"
      ],
      "metadata": {
        "id": "qMG0pJHedE7f"
      }
    },
    {
      "cell_type": "markdown",
      "source": [
        "Summary of vectorization:\n",
        "\n",
        "\n",
        "1.   Our goal is to have data for a bunch of values of r and theta so that we can eventually plot the solution. It's better to have this vectorized because trying to use a for loop other than in the Metropolis-Hastings algorithm would increase computation time a lot. \n",
        "2.   Here's the setup. We give an input that is an array R of values for r, and an input that is an array Θ of values for theta. \n",
        "3.   Let's say that M = length(R) and N = length(Θ). We can create a matrix **R** with N rows, each row being a copy of R, and another matrix **Θ** with M columns, each column being a copy of Θ. This means that **R,Θ** are M by N matrices. We should be able to \"stack\" one on top of the other to get the Cartesian product of the sets R and Θ. \n",
        "4.   Now, for each pair (r,θ) in R × Θ, we want to have K batches to do the Metropolis-Hastings scheme. Thus, we'll need K copies of **R** and **Θ**. We want to make sure that they're stacked correctly so that we're keeping the (r,θ) pairs together. \n",
        "5.   Once we've done that, we should be able to perform the Metropolis-Hastings algorithm. Note that we'll need a big matrix for the final results. If we want to do T time steps in the MH scheme, our final matrix will be (I think) M by N by K by T. This could be really large, so we might not get the results we'd like (e.g. MATLAB saying it would take too much data to store), but it should in theory be computable!\n",
        "\n"
      ],
      "metadata": {
        "id": "ULMks_c6AjXc"
      }
    }
  ]
}