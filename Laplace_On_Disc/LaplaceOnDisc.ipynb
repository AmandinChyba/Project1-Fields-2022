{
  "nbformat": 4,
  "nbformat_minor": 0,
  "metadata": {
    "colab": {
      "name": "LaplaceOnDisc.ipynb",
      "provenance": [],
      "authorship_tag": "ABX9TyNEbQ8eXf1L5f8mWqBOQQiL",
      "include_colab_link": true
    },
    "kernelspec": {
      "name": "python3",
      "display_name": "Python 3"
    },
    "language_info": {
      "name": "python"
    },
    "accelerator": "GPU",
    "gpuClass": "standard"
  },
  "cells": [
    {
      "cell_type": "markdown",
      "metadata": {
        "id": "view-in-github",
        "colab_type": "text"
      },
      "source": [
        "<a href=\"https://colab.research.google.com/github/AmandinChyba/Project1-Fields-2022/blob/main/Laplace_On_Disc/LaplaceOnDisc.ipynb\" target=\"_parent\"><img src=\"https://colab.research.google.com/assets/colab-badge.svg\" alt=\"Open In Colab\"/></a>"
      ]
    },
    {
      "cell_type": "code",
      "execution_count": 1,
      "metadata": {
        "id": "bTVVtMKk2ZSb"
      },
      "outputs": [],
      "source": [
        "import jax.random as random\n",
        "import jax.numpy as jnp\n",
        "import numpy as np\n",
        "import time\n",
        "import matplotlib.pyplot as plt"
      ]
    },
    {
      "cell_type": "code",
      "source": [
        "def poisson_kernel(r, theta):\n",
        "  return ((1 - jnp.power(r, 2)) / \n",
        "          (1 - 2 * r * jnp.cos(theta) + jnp.power(r, 2)))"
      ],
      "metadata": {
        "id": "A3AlfLowAnvs"
      },
      "execution_count": 2,
      "outputs": []
    },
    {
      "cell_type": "code",
      "source": [
        "'''\n",
        "solve_at_point : Solves the Dirichlet problem for Laplace's equation on a 2D \n",
        "disc at polar coordinates (r, theta). Also takes the boundary condition as a\n",
        "parameter.\n",
        "\n",
        "Parameters\n",
        "--------------------\n",
        "g : the boundary condition as a vectorized function\n",
        "k : the kernel function of the integral equation as a vectorized function\n",
        "r : the radius of the polar coordinates as a single number\n",
        "theta : the angle of the polar coordinates as a single number\n",
        "n_samples : the number of samples of E[g(X)] where X ~ P(theta - phi)\n",
        "t : the number of discrete time steps of the Metropolis-Hastings algorithm to\n",
        "sample from X\n",
        "key : the key to use for randomness\n",
        "\n",
        "Returns : the solution to the Dirichlet problem for Laplace's equation on a 2D\n",
        "disc at the given point with the given boundary condition\n",
        "\n",
        "Notes\n",
        "--------------------\n",
        "Currently, we want to use the Poisson kernel P(theta), so set k as \n",
        "poisson_kernel(r)\n",
        "\n",
        "P(theta) = (1 - r^2) / (1 - 2*r*cos(theta) + r^2)\n",
        "'''\n",
        "def solve_at_point(g, k, r, theta, n_samples, t, key):\n",
        "  # generate keys\n",
        "  keys = random.split(key, 2 * t + 1)\n",
        "\n",
        "  # sample from X ~ P(theta - phi) with Metropolis-Hastings\n",
        "  # create initial guess with Q(x'|x) as a uniform distribution over the domain\n",
        "  current_samples = random.uniform(keys[-1], shape=(1, n_samples)) * 2 * jnp.pi\n",
        "  samples = jnp.tile(current_samples, (1, 1))\n",
        "  # run markov chain over time\n",
        "  for i in range(0, 2*t, 2):\n",
        "    # create proposed states to move to\n",
        "    proposals = random.uniform(keys[i], shape=(1, n_samples)) * 2 * jnp.pi\n",
        "    # compute acceptance probability\n",
        "    A = (jnp.ones(n_samples) * \n",
        "         k(r, theta - proposals) / \n",
        "         k(r, theta - current_samples))\n",
        "    A = jnp.minimum(1, A)\n",
        "    # generate uniform r.v.\n",
        "    U = random.uniform(keys[i+1], shape=(1, n_samples))\n",
        "    # move or don't move states based on A and U\n",
        "    new_samples = jnp.where(U <= A, proposals, current_samples)\n",
        "    # add and update samples\n",
        "    samples = jnp.append(samples, new_samples, axis=0)\n",
        "    current_samples = new_samples\n",
        "\n",
        "  # compute E(g(X))\n",
        "  G = g(samples[int(t * 0.1):]) # 0.1 is conjectured based on plots\n",
        "  E = jnp.mean(G, axis=0)\n",
        "  return samples, jnp.mean(E)"
      ],
      "metadata": {
        "id": "VHUzaQgGIJPU"
      },
      "execution_count": 3,
      "outputs": []
    },
    {
      "cell_type": "code",
      "source": [
        "n_samples = 1000\n",
        "t = 100\n",
        "r = 0.5\n",
        "theta = jnp.pi / 2\n",
        "key = random.PRNGKey(int(time.time()))\n",
        "samples, ans = solve_at_point(jnp.sin, poisson_kernel, r, theta, n_samples, \n",
        "                              t, key)\n",
        "ans"
      ],
      "metadata": {
        "colab": {
          "base_uri": "https://localhost:8080/"
        },
        "id": "ZUP_Ob5dJ-lN",
        "outputId": "c664224e-a38f-4481-b9d4-79ffec261f4b"
      },
      "execution_count": 4,
      "outputs": [
        {
          "output_type": "execute_result",
          "data": {
            "text/plain": [
              "DeviceArray(0.4979559, dtype=float32)"
            ]
          },
          "metadata": {},
          "execution_count": 4
        }
      ]
    },
    {
      "cell_type": "code",
      "source": [
        "# plot distibution of EV of markov chains\n",
        "G = jnp.sin(samples)\n",
        "E = jnp.mean(G, axis=0)\n",
        "plt.hist(E, jnp.arange(0, 1.01, 0.01))\n",
        "plt.title(\"Distribution of EV of Markov Chains\")\n",
        "plt.show()"
      ],
      "metadata": {
        "colab": {
          "base_uri": "https://localhost:8080/",
          "height": 281
        },
        "id": "UcJuVrIGN0Qn",
        "outputId": "49efe6f2-8a0d-49cb-c2fc-9581a652c4a3"
      },
      "execution_count": 5,
      "outputs": [
        {
          "output_type": "display_data",
          "data": {
            "text/plain": [
              "<Figure size 432x288 with 1 Axes>"
            ],
            "image/png": "[encoded data removed]"
          },
          "metadata": {
            "needs_background": "light"
          }
        }
      ]
    },
    {
      "cell_type": "code",
      "source": [
        "# plot EV of markov chains over time\n",
        "E_over_time = jnp.cumsum(jnp.mean(G, axis=1)) / jnp.arange(1, t+2)\n",
        "plt.plot(E_over_time)\n",
        "plt.title(\"EV of Averaged Markov Chain Over Time\")\n",
        "plt.show()"
      ],
      "metadata": {
        "colab": {
          "base_uri": "https://localhost:8080/",
          "height": 281
        },
        "id": "qPFkICdkTxpQ",
        "outputId": "e37678ac-9e6f-42a3-8085-62f26b02007d"
      },
      "execution_count": 6,
      "outputs": [
        {
          "output_type": "display_data",
          "data": {
            "text/plain": [
              "<Figure size 432x288 with 1 Axes>"
            ],
            "image/png": "[encoded data removed]"
          },
          "metadata": {
            "needs_background": "light"
          }
        }
      ]
    },
    {
      "cell_type": "code",
      "source": [
        "'''\n",
        "solve_at : Solves the Dirichlet problem for Laplace's equation on a 2D disc at\n",
        "given vectors of r and theta. Also takes the boundary condition as a\n",
        "parameter.\n",
        "\n",
        "Parameters\n",
        "--------------------\n",
        "g : the boundary condition as a vectorized function\n",
        "k : the kernel function of the integral equation as a vectorized function\n",
        "r : the radius of the polar coordinates as a column vector\n",
        "theta : the angle of the polar coordinates as a column vector\n",
        "n_samples : the number of samples of E[g(X)] where X ~ P(theta - phi)\n",
        "t : the number of discrete time steps of the Metropolis-Hastings algorithm to\n",
        "sample from X\n",
        "key : the key to use for randomness\n",
        "\n",
        "Returns : the solution to the Dirichlet problem for Laplace's equation on a 2D\n",
        "disc at the given point with the given boundary condition\n",
        "\n",
        "Notes\n",
        "--------------------\n",
        "Currently, we want to use the Poisson kernel P(theta), so set k as \n",
        "poisson_kernel(r)\n",
        "\n",
        "P(theta) = (1 - r^2) / (1 - 2*r*cos(theta) + r^2)\n",
        "'''\n",
        "def solve_at(g, k, r, theta, n_samples, t, key):\n",
        "  # generate keys\n",
        "  keys = random.split(key, 2 * t + 1)\n",
        "\n",
        "  # sample from X ~ P(theta - phi) with Metropolis-Hastings\n",
        "  # create initial guess with Q(x'|x) as a uniform distribution over the domain\n",
        "  current_samples = random.uniform(keys[-1], shape=(1, n_samples)) * 2 * jnp.pi\n",
        "  current_samples = jnp.tile(current_samples, len(r))\n",
        "  samples = jnp.tile(current_samples, (1, 1))\n",
        "  # run markov chain over time\n",
        "  for i in range(0, 2*t, 2):\n",
        "    # create proposed states to move to\n",
        "    proposals = random.uniform(keys[i], shape=(1, n_samples)) * 2 * jnp.pi\n",
        "    # compute acceptance probability\n",
        "    A = k(r, theta - proposals) / k(r, theta - current_samples)\n",
        "    A = jnp.minimum(1, A)\n",
        "    # generate uniform r.v.\n",
        "    U = random.uniform(keys[i+1], shape=(len(r), n_samples))\n",
        "    # move or don't move states based on A and U\n",
        "    new_samples = jnp.where(U <= A, proposals, current_samples)\n",
        "    # add and update samples\n",
        "    samples = jnp.append(samples, new_samples, axis=0)\n",
        "    current_samples = new_samples\n",
        "\n",
        "  # compute E(g(X))\n",
        "  G = g(samples)\n",
        "  E = jnp.mean(G, axis=0)\n",
        "  return samples, jnp.mean(E)"
      ],
      "metadata": {
        "id": "aiItnIK55ZQm"
      },
      "execution_count": null,
      "outputs": []
    },
    {
      "cell_type": "code",
      "source": [
        "n_samples = 10\n",
        "t = 10\n",
        "r = jnp.arange(0, 1.2, 0.2)[:, None]\n",
        "theta = (jnp.ones(6) * jnp.pi / 2)[:, None]\n",
        "key = random.PRNGKey(int(time.time()))\n",
        "samples, ans = solve_at(jnp.sin, poisson_kernel, r, theta, n_samples, t, key)"
      ],
      "metadata": {
        "id": "gZ3neKRVOLlr"
      },
      "execution_count": null,
      "outputs": []
    },
    {
      "cell_type": "code",
      "source": [
        "ans"
      ],
      "metadata": {
        "colab": {
          "base_uri": "https://localhost:8080/"
        },
        "id": "YZBFYZ3tCn5U",
        "outputId": "fbe61894-a2a5-4edb-f522-f3c98210f967"
      },
      "execution_count": null,
      "outputs": [
        {
          "output_type": "execute_result",
          "data": {
            "text/plain": [
              "DeviceArray(0.6244727, dtype=float32)"
            ]
          },
          "metadata": {},
          "execution_count": 22
        }
      ]
    }
  ]
}