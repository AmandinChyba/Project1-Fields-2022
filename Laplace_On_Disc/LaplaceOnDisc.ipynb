{
  "nbformat": 4,
  "nbformat_minor": 0,
  "metadata": {
    "colab": {
      "name": "LaplaceOnDisc.ipynb",
      "provenance": [],
      "authorship_tag": "ABX9TyPCNuB7vYmFquMIoGV357Zx",
      "include_colab_link": true
    },
    "kernelspec": {
      "name": "python3",
      "display_name": "Python 3"
    },
    "language_info": {
      "name": "python"
    },
    "gpuClass": "standard"
  },
  "cells": [
    {
      "cell_type": "markdown",
      "metadata": {
        "id": "view-in-github",
        "colab_type": "text"
      },
      "source": [
        "<a href=\"https://colab.research.google.com/github/AmandinChyba/Project1-Fields-2022/blob/main/Laplace_On_Disc/LaplaceOnDisc.ipynb\" target=\"_parent\"><img src=\"https://colab.research.google.com/assets/colab-badge.svg\" alt=\"Open In Colab\"/></a>"
      ]
    },
    {
      "cell_type": "code",
      "execution_count": 6,
      "metadata": {
        "id": "bTVVtMKk2ZSb"
      },
      "outputs": [],
      "source": [
        "import jax.random as random\n",
        "import jax.numpy as jnp\n",
        "import numpy as np\n",
        "import time\n",
        "import matplotlib.pyplot as plt"
      ]
    },
    {
      "cell_type": "code",
      "source": [
        "def poisson_kernel(r, theta):\n",
        "  return ((1 - jnp.power(r, 2)) / \n",
        "          (1 - 2 * r * jnp.cos(theta) + jnp.power(r, 2)))"
      ],
      "metadata": {
        "id": "A3AlfLowAnvs"
      },
      "execution_count": 2,
      "outputs": []
    },
    {
      "cell_type": "code",
      "source": [
        "'''\n",
        "solve_at_point : Solves the Dirichlet problem for Laplace's equation on a 2D \n",
        "disc at polar coordinates (r, theta). Also takes the boundary condition as a\n",
        "parameter.\n",
        "\n",
        "Parameters\n",
        "--------------------\n",
        "g : the boundary condition as a vectorized function\n",
        "k : the kernel function of the integral equation as a vectorized function\n",
        "r : the radius of the polar coordinates as a single number\n",
        "theta : the angle of the polar coordinates as a single number\n",
        "n_samples : the number of samples of E[g(X)] where X ~ P(theta - phi)\n",
        "t : the number of discrete time steps of the Metropolis-Hastings algorithm to\n",
        "sample from X\n",
        "key : the key to use for randomness\n",
        "\n",
        "Returns : the solution to the Dirichlet problem for Laplace's equation on a 2D\n",
        "disc at the given point with the given boundary condition\n",
        "\n",
        "Notes\n",
        "--------------------\n",
        "Currently, we want to use the Poisson kernel P(theta), so set k as \n",
        "poisson_kernel(r)\n",
        "\n",
        "P(theta) = (1 - r^2) / (1 - 2*r*cos(theta) + r^2)\n",
        "'''\n",
        "def solve_at_point(g, k, r, theta, n_samples, t, key):\n",
        "  # generate keys\n",
        "  keys = random.split(key, 3)\n",
        "\n",
        "  # sample from X ~ P(theta - phi) with Metropolis-Hastings\n",
        "  # create initial guess with Q(x'|x) as a uniform distribution over the domain\n",
        "  current_samples = random.uniform(keys[0], shape=(1, n_samples)) * 2 * jnp.pi\n",
        "\n",
        "  # create proposed states to move to\n",
        "  proposals = random.uniform(keys[1], shape=(t, n_samples)) * 2 * jnp.pi\n",
        "\n",
        "  # generate uniform r.v.\n",
        "  U = random.uniform(keys[2], shape=(t, n_samples))\n",
        "\n",
        "  # keep a running estimate of g(X)\n",
        "  G = g(current_samples)\n",
        "\n",
        "  # run markov chain over time\n",
        "  for i in range(t):\n",
        "    # compute acceptance probabilities\n",
        "    A = k(r, theta - proposals[i]) / k(r, theta - current_samples)\n",
        "    A = jnp.minimum(1, A)\n",
        "    # move or don't move states based on A and U\n",
        "    new_samples = jnp.where(U[i] <= A, proposals[i], current_samples)\n",
        "    # add and update mean and samples\n",
        "    current_samples = new_samples\n",
        "    G = G + (g(current_samples) - G) / (i+2)\n",
        "\n",
        "  # compute E(g(X))\n",
        "  return jnp.mean(G)"
      ],
      "metadata": {
        "id": "VHUzaQgGIJPU"
      },
      "execution_count": 45,
      "outputs": []
    },
    {
      "cell_type": "code",
      "source": [
        "n_samples = 100\n",
        "t = 10000\n",
        "r = 0.5\n",
        "theta = jnp.pi / 2\n",
        "key = random.PRNGKey(int(time.time()))\n",
        "ans = solve_at_point(jnp.sin, poisson_kernel, r, theta, n_samples, t, key)\n",
        "ans"
      ],
      "metadata": {
        "colab": {
          "base_uri": "https://localhost:8080/"
        },
        "id": "ZUP_Ob5dJ-lN",
        "outputId": "8a2f244f-b1b9-44d2-92fb-babd1cc3a31e"
      },
      "execution_count": 50,
      "outputs": [
        {
          "output_type": "execute_result",
          "data": {
            "text/plain": [
              "DeviceArray(0.50043654, dtype=float32)"
            ]
          },
          "metadata": {},
          "execution_count": 50
        }
      ]
    },
    {
      "cell_type": "code",
      "source": [
        "# plot distibution of EV of markov chains\n",
        "G = jnp.sin(mean)\n",
        "plt.hist(G, jnp.arange(0, 1.01, 0.01))\n",
        "plt.title(\"Distribution of EV of Markov Chains\")\n",
        "plt.show()"
      ],
      "metadata": {
        "colab": {
          "base_uri": "https://localhost:8080/",
          "height": 281
        },
        "id": "UcJuVrIGN0Qn",
        "outputId": "2a9c8adb-19e3-4314-f595-69dcfe27d76f"
      },
      "execution_count": 42,
      "outputs": [
        {
          "output_type": "display_data",
          "data": {
            "text/plain": [
              "<Figure size 432x288 with 1 Axes>"
            ],
            "image/png": "[encoded data removed]"
          },
          "metadata": {
            "needs_background": "light"
          }
        }
      ]
    },
    {
      "cell_type": "code",
      "source": [
        "# plot EV of markov chains over time\n",
        "E_over_time = jnp.cumsum(jnp.mean(G, axis=1)) / jnp.arange(1, t+2)\n",
        "plt.plot(E_over_time)\n",
        "plt.title(\"EV of Averaged Markov Chain Over Time\")\n",
        "plt.show()"
      ],
      "metadata": {
        "colab": {
          "base_uri": "https://localhost:8080/",
          "height": 281
        },
        "id": "qPFkICdkTxpQ",
        "outputId": "9351d7fd-827f-4003-d06f-15cd78a5a8bb"
      },
      "execution_count": null,
      "outputs": [
        {
          "output_type": "display_data",
          "data": {
            "text/plain": [
              "<Figure size 432x288 with 1 Axes>"
            ],
            "image/png": "[encoded data removed]"
          },
          "metadata": {
            "needs_background": "light"
          }
        }
      ]
    },
    {
      "cell_type": "code",
      "source": [
        "dE_over_time = jnp.diff(E_over_time)\n",
        "plt.plot(dE_over_time)\n",
        "plt.title(\"Derivative of EV of Averaged Markov Chain Over Time\")\n",
        "plt.show()"
      ],
      "metadata": {
        "colab": {
          "base_uri": "https://localhost:8080/",
          "height": 281
        },
        "id": "lqVSnncKK8Ff",
        "outputId": "ba6ac117-0875-48f3-c04b-8f499620e04d"
      },
      "execution_count": null,
      "outputs": [
        {
          "output_type": "display_data",
          "data": {
            "text/plain": [
              "<Figure size 432x288 with 1 Axes>"
            ],
            "image/png": "[encoded data removed]"
          },
          "metadata": {
            "needs_background": "light"
          }
        }
      ]
    },
    {
      "cell_type": "code",
      "source": [
        "'''\n",
        "solve_at : Solves the Dirichlet problem for Laplace's equation on a 2D disc at\n",
        "given vectors of r and theta. Also takes the boundary condition as a\n",
        "parameter.\n",
        "\n",
        "Parameters\n",
        "--------------------\n",
        "g : the boundary condition as a vectorized function\n",
        "k : the kernel function of the integral equation as a vectorized function\n",
        "r : the radius of the polar coordinates as a column vector\n",
        "theta : the angle of the polar coordinates as a column vector\n",
        "n_samples : the number of samples of E[g(X)] where X ~ P(theta - phi)\n",
        "t : the number of discrete time steps of the Metropolis-Hastings algorithm to\n",
        "sample from X\n",
        "key : the key to use for randomness\n",
        "\n",
        "Returns : the solution to the Dirichlet problem for Laplace's equation on a 2D\n",
        "disc at the given point with the given boundary condition\n",
        "\n",
        "Notes\n",
        "--------------------\n",
        "Currently, we want to use the Poisson kernel P(theta), so set k as \n",
        "poisson_kernel(r)\n",
        "\n",
        "P(theta) = (1 - r^2) / (1 - 2*r*cos(theta) + r^2)\n",
        "'''\n",
        "def solve_at(g, k, r, theta, n_samples, t, key):\n",
        "  keys = random.split(key, 2);\n",
        "\n",
        "  x = random.uniform(keys[0], shape=(1,t)) * 2 * np.pi\n",
        "  f = k(r, theta - x)\n",
        "  \n",
        "  A1 = jnp.tile(jnp.transpose(f), (1,t))\n",
        "  A2 = jnp.tile(1/f, (t,1))\n",
        "  \n",
        "  A = jnp.minimum(1, jnp.tril(jnp.multiply(A1, A2), k=-1))\n",
        "\n",
        "  u = jnp.tril(random.uniform(keys[1], shape=(t,t)), k=-1)\n",
        "  \n",
        "  check = jnp.subtract(A, u)\n",
        "    \n",
        "  col = 0\n",
        "  y = np.zeros(t)\n",
        "  for i in range(t):\n",
        "      if check[i+1,col] >= 0:\n",
        "          y[i] = x[1,col]\n",
        "          col += 1\n",
        "      else:\n",
        "          y[i] = x[1,col]\n",
        "\n",
        "  return y, jnp.mean(g(jnp.asarray(y)))"
      ],
      "metadata": {
        "id": "aiItnIK55ZQm"
      },
      "execution_count": null,
      "outputs": []
    },
    {
      "cell_type": "code",
      "source": [
        "n_samples = 1000\n",
        "t = 10000\n",
        "r = 0.8\n",
        "theta = jnp.pi / 2\n",
        "key = random.PRNGKey(0)\n",
        "samples, ans = solve_at(jnp.sin, poisson_kernel, r, theta, n_samples, t, key)\n",
        "ans"
      ],
      "metadata": {
        "colab": {
          "base_uri": "https://localhost:8080/"
        },
        "id": "_UKvsFcmQlgJ",
        "outputId": "87ca5f92-b8b8-49af-94c4-3fbe6492420e"
      },
      "execution_count": null,
      "outputs": [
        {
          "output_type": "execute_result",
          "data": {
            "text/plain": [
              "DeviceArray(0.41911498, dtype=float32)"
            ]
          },
          "metadata": {},
          "execution_count": 71
        }
      ]
    },
    {
      "cell_type": "code",
      "source": [
        "ans"
      ],
      "metadata": {
        "colab": {
          "base_uri": "https://localhost:8080/"
        },
        "id": "YZBFYZ3tCn5U",
        "outputId": "fbe61894-a2a5-4edb-f522-f3c98210f967"
      },
      "execution_count": null,
      "outputs": [
        {
          "output_type": "execute_result",
          "data": {
            "text/plain": [
              "DeviceArray(0.6244727, dtype=float32)"
            ]
          },
          "metadata": {},
          "execution_count": 22
        }
      ]
    }
  ]
}