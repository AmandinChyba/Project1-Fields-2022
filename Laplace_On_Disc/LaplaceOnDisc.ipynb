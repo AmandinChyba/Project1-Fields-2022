{
  "nbformat": 4,
  "nbformat_minor": 0,
  "metadata": {
    "colab": {
      "name": "LaplaceOnDisc.ipynb",
      "provenance": [],
      "authorship_tag": "ABX9TyPFBCeZi0gt+zUQ/U46ZYc9",
      "include_colab_link": true
    },
    "kernelspec": {
      "name": "python3",
      "display_name": "Python 3"
    },
    "language_info": {
      "name": "python"
    },
    "accelerator": "GPU",
    "gpuClass": "standard"
  },
  "cells": [
    {
      "cell_type": "markdown",
      "metadata": {
        "id": "view-in-github",
        "colab_type": "text"
      },
      "source": [
        "<a href=\"https://colab.research.google.com/github/AmandinChyba/Project1-Fields-2022/blob/main/Laplace_On_Disc/LaplaceOnDisc.ipynb\" target=\"_parent\"><img src=\"https://colab.research.google.com/assets/colab-badge.svg\" alt=\"Open In Colab\"/></a>"
      ]
    },
    {
      "cell_type": "code",
      "execution_count": 1,
      "metadata": {
        "id": "bTVVtMKk2ZSb"
      },
      "outputs": [],
      "source": [
        "import jax.random as random\n",
        "import jax.numpy as jnp\n",
        "import numpy as np\n",
        "import time"
      ]
    },
    {
      "cell_type": "code",
      "source": [
        "'''\n",
        "solve_at : Solves the Dirichlet problem for Laplace's equation on a 2D disc at\n",
        "polar coordinates (r, theta). Also takes the boundary condition as a\n",
        "parameter.\n",
        "\n",
        "Parameters\n",
        "--------------------\n",
        "g : the boundary condition as a vectorized function\n",
        "k : the kernel function of the integral equation as a vectorized function\n",
        "r : the radius of the polar coordinates\n",
        "theta : the angle of the polar coordinates\n",
        "n_samples : the number of samples of E[g(X)] where X ~ P(theta - phi)\n",
        "t : the number of discrete time steps of the Metropolis-Hastings algorithm to\n",
        "sample from X\n",
        "\n",
        "Returns : the solution to the Dirichlet problem for Laplace's equation on a 2D\n",
        "disc at the given point with the given boundary condition\n",
        "\n",
        "Notes\n",
        "--------------------\n",
        "Currently, we want to use the Poisson kernel P(theta), so set k as \n",
        "poisson_kernel(r)\n",
        "\n",
        "P(theta) = (1 - r^2) / (1 - 2*r*cos(theta) + r^2)\n",
        "'''\n",
        "def solve_at(g, k, r, theta, n_samples, t, key):\n",
        "  # sample from X ~ P(theta - phi) with Metropolis-Hastings\n",
        "  # Q(x'|x) is a uniform distribution over the domain\n",
        "  current_samples = random.uniform(key, shape=(1, n_samples)) * 2 * np.pi\n",
        "  samples = jnp.tile(current_samples, (1, 1))\n",
        "  for i in range(t):\n",
        "    proposals = random.uniform(key, shape=(1, n_samples)) * 2 * np.pi\n",
        "    A = (jnp.ones(n_samples) * \n",
        "         k(theta - proposals) / \n",
        "         k(theta - current_samples))\n",
        "    A = jnp.minimum(1, A)\n",
        "    U = random.uniform(key, shape=(1, n_samples))\n",
        "    new_samples = jnp.where(U <= A, proposals, A)\n",
        "    samples = jnp.append(samples, new_samples, axis=1)\n",
        "    current_samples = new_samples\n",
        "\n",
        "  # compute E(g(X))\n",
        "  G = g(samples)\n",
        "  E = jnp.mean(G, axis=0)\n",
        "  return samples, jnp.mean(E)"
      ],
      "metadata": {
        "id": "aiItnIK55ZQm"
      },
      "execution_count": 11,
      "outputs": []
    },
    {
      "cell_type": "code",
      "source": [
        "def poisson_kernel(r):\n",
        "  def poisson_kernel_at_r(theta):\n",
        "    return ((1 - jnp.power(r, 2)) / \n",
        "            (1 - 2 * r * jnp.cos(theta) + jnp.power(r, 2)))\n",
        "    \n",
        "  return poisson_kernel_at_r"
      ],
      "metadata": {
        "id": "A3AlfLowAnvs"
      },
      "execution_count": 4,
      "outputs": []
    },
    {
      "cell_type": "code",
      "source": [
        "n_samples = 100\n",
        "t = 1000\n",
        "r = 0.5\n",
        "key = random.PRNGKey(int(time.time()))\n",
        "theta = np.pi / 2\n",
        "samples, ans = solve_at(jnp.sin, poisson_kernel(r), r, theta, n_samples, t, key)"
      ],
      "metadata": {
        "id": "gZ3neKRVOLlr"
      },
      "execution_count": null,
      "outputs": []
    },
    {
      "cell_type": "code",
      "source": [
        ""
      ],
      "metadata": {
        "colab": {
          "base_uri": "https://localhost:8080/"
        },
        "id": "pdm42o-aRZE9",
        "outputId": "217e81cb-57fa-4acf-bf06-dab41dd387af"
      },
      "execution_count": 13,
      "outputs": [
        {
          "output_type": "execute_result",
          "data": {
            "text/plain": [
              "DeviceArray(-0.00484148, dtype=float32)"
            ]
          },
          "metadata": {},
          "execution_count": 13
        }
      ]
    }
  ]
}