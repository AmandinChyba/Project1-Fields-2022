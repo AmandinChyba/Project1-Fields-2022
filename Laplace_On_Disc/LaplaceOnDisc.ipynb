{
  "nbformat": 4,
  "nbformat_minor": 0,
  "metadata": {
    "colab": {
      "name": "LaplaceOnDisc.ipynb",
      "provenance": [],
      "include_colab_link": true
    },
    "kernelspec": {
      "name": "python3",
      "display_name": "Python 3"
    },
    "language_info": {
      "name": "python"
    },
    "gpuClass": "standard"
  },
  "cells": [
    {
      "cell_type": "markdown",
      "metadata": {
        "id": "view-in-github",
        "colab_type": "text"
      },
      "source": [
        "<a href=\"https://colab.research.google.com/github/AmandinChyba/Project1-Fields-2022/blob/main/Laplace_On_Disc/LaplaceOnDisc.ipynb\" target=\"_parent\"><img src=\"https://colab.research.google.com/assets/colab-badge.svg\" alt=\"Open In Colab\"/></a>"
      ]
    },
    {
      "cell_type": "code",
      "execution_count": 194,
      "metadata": {
        "id": "bTVVtMKk2ZSb"
      },
      "outputs": [],
      "source": [
        "from jax import random\n",
        "from jax import lax\n",
        "\n",
        "import jax.numpy as jnp\n",
        "import numpy as np\n",
        "\n",
        "import time\n",
        "import matplotlib.pyplot as plt\n",
        "\n",
        "from functools import partial"
      ]
    },
    {
      "cell_type": "code",
      "source": [
        "def poisson_kernel(r, theta):\n",
        "  return ((1 - jnp.power(r, 2)) / \n",
        "          (1 - 2 * r * jnp.cos(theta) + jnp.power(r, 2)))"
      ],
      "metadata": {
        "id": "A3AlfLowAnvs"
      },
      "execution_count": 195,
      "outputs": []
    },
    {
      "cell_type": "code",
      "source": [
        "def metroStep(cur, prop, kernel, r, theta):\n",
        "  k1 = kernel(r, theta-prop[0])\n",
        "  k2 = kernel(r, theta-cur)\n",
        "  A = jnp.minimum(1, jnp.divide(k1,k2)) - prop[1]\n",
        "  Y = jnp.ceil(A)\n",
        "  out = jnp.multiply(cur, 1-Y) + jnp.multiply(prop[0], Y)\n",
        "  return out, (out, jnp.array([0.0]))\n",
        "\n",
        "\n",
        "def solve_at_point(g, k, r, theta, batches, t, key):\n",
        "  keys = random.split(key, 2)\n",
        "\n",
        "  proposals = random.uniform(keys[0], shape=(t, batches)) * 2 * jnp.pi\n",
        "  U = random.uniform(keys[1], shape=(t-1, batches))\n",
        "\n",
        "  metroFunc = partial(metroStep, kernel=poisson_kernel, r=r, theta=theta)\n",
        "  final, result = lax.scan(metroFunc, proposals[0], (proposals[1:], U))\n",
        "  return jnp.mean(g(result[0]))"
      ],
      "metadata": {
        "id": "VHUzaQgGIJPU"
      },
      "execution_count": 466,
      "outputs": []
    },
    {
      "cell_type": "code",
      "source": [
        "%%time\n",
        "batches = 50\n",
        "t = 10000\n",
        "r = 0.5\n",
        "theta = jnp.pi / 2\n",
        "key = random.PRNGKey(int(time.time()))\n",
        "ans = solve_at_point(jnp.sin, poisson_kernel, r, theta, batches, t, key)\n",
        "print(ans)"
      ],
      "metadata": {
        "colab": {
          "base_uri": "https://localhost:8080/"
        },
        "id": "ZUP_Ob5dJ-lN",
        "outputId": "606cf098-a557-4c51-b665-c42d1e31e0e2"
      },
      "execution_count": 489,
      "outputs": [
        {
          "output_type": "stream",
          "name": "stdout",
          "text": [
            "0.5046108\n",
            "CPU times: user 201 ms, sys: 7.89 ms, total: 209 ms\n",
            "Wall time: 198 ms\n"
          ]
        }
      ]
    }
  ]
}