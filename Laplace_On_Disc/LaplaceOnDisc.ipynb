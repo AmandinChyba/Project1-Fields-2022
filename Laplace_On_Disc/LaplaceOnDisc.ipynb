{
  "nbformat": 4,
  "nbformat_minor": 0,
  "metadata": {
    "colab": {
      "name": "LaplaceOnDisc.ipynb",
      "provenance": [],
      "include_colab_link": true
    },
    "kernelspec": {
      "name": "python3",
      "display_name": "Python 3"
    },
    "language_info": {
      "name": "python"
    },
    "gpuClass": "standard"
  },
  "cells": [
    {
      "cell_type": "markdown",
      "metadata": {
        "id": "view-in-github",
        "colab_type": "text"
      },
      "source": [
        "<a href=\"https://colab.research.google.com/github/AmandinChyba/Project1-Fields-2022/blob/main/Laplace_On_Disc/LaplaceOnDisc.ipynb\" target=\"_parent\"><img src=\"https://colab.research.google.com/assets/colab-badge.svg\" alt=\"Open In Colab\"/></a>"
      ]
    },
    {
      "cell_type": "code",
      "execution_count": 194,
      "metadata": {
        "id": "bTVVtMKk2ZSb"
      },
      "outputs": [],
      "source": [
        "from jax import random\n",
        "from jax import lax\n",
        "\n",
        "import jax.numpy as jnp\n",
        "import numpy as np\n",
        "\n",
        "import time\n",
        "import matplotlib.pyplot as plt\n",
        "\n",
        "from functools import partial"
      ]
    },
    {
      "cell_type": "code",
      "source": [
        "def poisson_kernel(r, theta):\n",
        "  return (1 - jnp.power(r, 2)) / (1 - 2 * r * jnp.cos(theta) + jnp.power(r, 2))"
      ],
      "metadata": {
        "id": "A3AlfLowAnvs"
      },
      "execution_count": 522,
      "outputs": []
    },
    {
      "cell_type": "code",
      "source": [
        "def metroStep(cur, prop, kernel, r, theta):\n",
        "  k1 = kernel(r, theta-prop[0])\n",
        "  k2 = kernel(r, theta-cur)\n",
        "  A = jnp.minimum(1, jnp.divide(k1,k2)) - prop[1]\n",
        "  Y = jnp.ceil(A)\n",
        "  out = jnp.multiply(cur, 1-Y) + jnp.multiply(prop[0], Y)\n",
        "  return out, (out, jnp.array([0.0]))\n",
        "\n",
        "\n",
        "def solve_at_point(g, k, r, theta, batches, t, key):\n",
        "  keys = random.split(key, 2)\n",
        "\n",
        "  proposals = random.uniform(keys[0], shape=(t, batches, len(r), len(theta))) * 2 * jnp.pi\n",
        "  U = random.uniform(keys[1], shape=(t-1, batches, len(r), len(theta)))\n",
        "  \n",
        "  r = jnp.array(r)\n",
        "  r = jnp.reshape(r, (1,len(r),1))\n",
        "  theta = jnp.array(theta)\n",
        "  theta = jnp.reshape(theta, (1,1,len(theta)))\n",
        "\n",
        "  metroFunc = partial(metroStep, kernel=poisson_kernel, r=r, theta=theta)\n",
        "  final, result = lax.scan(metroFunc, proposals[0], (proposals[1:], U))\n",
        "  t_mean = jnp.mean(g(result[0]), axis=0)\n",
        "  batch_mean = jnp.mean(t_mean, axis=0)\n",
        "  return batch_mean"
      ],
      "metadata": {
        "id": "VHUzaQgGIJPU"
      },
      "execution_count": 674,
      "outputs": []
    },
    {
      "cell_type": "code",
      "source": [
        "%%time\n",
        "batches = 50\n",
        "t = 10000\n",
        "r = jnp.linspace(0,1,num=10)\n",
        "theta = jnp.linspace(0,2*jnp.pi,num=10)\n",
        "key = random.PRNGKey(0)\n",
        "ans = solve_at_point(jnp.sin, poisson_kernel, r, theta, batches, t, key)\n",
        "print(ans)"
      ],
      "metadata": {
        "colab": {
          "base_uri": "https://localhost:8080/"
        },
        "id": "ZUP_Ob5dJ-lN",
        "outputId": "945498db-642b-4808-f85d-e5467eb79b3f"
      },
      "execution_count": 685,
      "outputs": [
        {
          "output_type": "stream",
          "name": "stdout",
          "text": [
            "[[ 1.26276608e-03  6.99264696e-04 -1.33131235e-03 -8.41918401e-04\n",
            "   8.13355437e-04  3.92701477e-04 -7.18974450e-04  5.72815479e-04\n",
            "  -3.31015508e-05 -1.45094236e-04]\n",
            " [-1.21265685e-03  7.17817172e-02  1.09971732e-01  9.55314040e-02\n",
            "   3.83657813e-02 -3.68416347e-02 -9.45786238e-02 -1.08703248e-01\n",
            "  -7.11498559e-02  1.29645958e-03]\n",
            " [ 3.59527272e-04  1.43908113e-01  2.20039099e-01  1.92351416e-01\n",
            "   7.57715479e-02 -7.56451637e-02 -1.90681770e-01 -2.18267187e-01\n",
            "  -1.44130796e-01 -1.09241321e-03]\n",
            " [ 1.64026511e-03  2.10879251e-01  3.27797383e-01  2.85483956e-01\n",
            "   1.13822594e-01 -1.11515522e-01 -2.91202456e-01 -3.26811552e-01\n",
            "  -2.14217409e-01  1.29600533e-03]\n",
            " [ 8.63145804e-04  2.88767725e-01  4.38491195e-01  3.84863079e-01\n",
            "   1.52301848e-01 -1.53538346e-01 -3.83761406e-01 -4.38224465e-01\n",
            "  -2.87137836e-01  3.59896978e-04]\n",
            " [ 1.37113529e-04  3.59089971e-01  5.49339950e-01  4.80830282e-01\n",
            "   1.89452201e-01 -1.89636633e-01 -4.82046127e-01 -5.44010103e-01\n",
            "  -3.58024359e-01  1.20455246e-04]\n",
            " [ 9.32978524e-04  4.26117152e-01  6.55831158e-01  5.76847017e-01\n",
            "   2.26584882e-01 -2.30840951e-01 -5.74839175e-01 -6.58880889e-01\n",
            "  -4.27786589e-01  9.73158312e-05]\n",
            " [ 1.29080471e-03  4.98048097e-01  7.68464208e-01  6.73877835e-01\n",
            "   2.67930001e-01 -2.64288932e-01 -6.74498677e-01 -7.66213894e-01\n",
            "  -4.98070449e-01  1.21445511e-03]\n",
            " [ 1.76387737e-04  5.70104420e-01  8.75512302e-01  7.69316018e-01\n",
            "   3.03112984e-01 -3.04460734e-01 -7.68471360e-01 -8.75076890e-01\n",
            "  -5.71948588e-01 -1.83892203e-03]\n",
            " [            nan             nan             nan             nan\n",
            "              nan             nan             nan             nan\n",
            "              nan             nan]]\n",
            "CPU times: user 6.4 s, sys: 229 ms, total: 6.63 s\n",
            "Wall time: 4.1 s\n"
          ]
        }
      ]
    }
  ]
}