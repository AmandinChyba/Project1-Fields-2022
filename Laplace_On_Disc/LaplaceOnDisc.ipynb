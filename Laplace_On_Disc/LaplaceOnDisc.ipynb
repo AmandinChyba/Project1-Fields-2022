{
  "nbformat": 4,
  "nbformat_minor": 0,
  "metadata": {
    "colab": {
      "name": "LaplaceOnDisc.ipynb",
      "provenance": [],
      "authorship_tag": "ABX9TyNgUGxfo5pgokJk9D1R+X7u",
      "include_colab_link": true
    },
    "kernelspec": {
      "name": "python3",
      "display_name": "Python 3"
    },
    "language_info": {
      "name": "python"
    },
    "accelerator": "GPU",
    "gpuClass": "standard"
  },
  "cells": [
    {
      "cell_type": "markdown",
      "metadata": {
        "id": "view-in-github",
        "colab_type": "text"
      },
      "source": [
        "<a href=\"https://colab.research.google.com/github/AmandinChyba/Project1-Fields-2022/blob/main/Laplace_On_Disc/LaplaceOnDisc.ipynb\" target=\"_parent\"><img src=\"https://colab.research.google.com/assets/colab-badge.svg\" alt=\"Open In Colab\"/></a>"
      ]
    },
    {
      "cell_type": "code",
      "execution_count": 1,
      "metadata": {
        "id": "bTVVtMKk2ZSb"
      },
      "outputs": [],
      "source": [
        "import jax.random as random\n",
        "import jax.numpy as jnp\n",
        "import numpy as np\n",
        "import time"
      ]
    },
    {
      "cell_type": "code",
      "source": [
        "'''\n",
        "solve_at : Solves the Dirichlet problem for Laplace's equation on a 2D disc at\n",
        "polar coordinates (r, theta). Also takes the boundary condition as a\n",
        "parameter.\n",
        "\n",
        "Parameters\n",
        "--------------------\n",
        "g : the boundary condition as a vectorized function\n",
        "k : the kernel function of the integral equation as a vectorized function\n",
        "r : the radius of the polar coordinates\n",
        "theta : the angle of the polar coordinates\n",
        "n_samples : the number of samples of E[g(X)] where X ~ P(theta - phi)\n",
        "t : the number of discrete time steps of the Metropolis-Hastings algorithm to\n",
        "sample from X\n",
        "\n",
        "Returns : the solution to the Dirichlet problem for Laplace's equation on a 2D\n",
        "disc at the given point with the given boundary condition\n",
        "\n",
        "Notes\n",
        "--------------------\n",
        "Currently, we want to use the Poisson kernel P(theta), so set k as \n",
        "poisson_kernel(r)\n",
        "\n",
        "P(theta) = (1 - r^2) / (1 - 2*r*cos(theta) + r^2)\n",
        "'''\n",
        "def solve_at(g, k, r, theta, n_samples, t, key):\n",
        "  # generate keys\n",
        "  keys = random.split(key, 2 * t + 1)\n",
        "\n",
        "  # sample from X ~ P(theta - phi) with Metropolis-Hastings\n",
        "  # Q(x'|x) is a uniform distribution over the domain\n",
        "  current_samples = random.uniform(keys[-1], shape=(1, n_samples)) * 2 * np.pi\n",
        "  samples = jnp.tile(current_samples, (1, 1))\n",
        "  for i in range(0, 2*t, 2):\n",
        "    proposals = random.uniform(keys[i], shape=(1, n_samples)) * 2 * np.pi\n",
        "    A = (jnp.ones(n_samples) * \n",
        "         k(r, theta - proposals) / \n",
        "         k(r, theta - current_samples))\n",
        "    A = jnp.minimum(1, A)\n",
        "    U = random.uniform(keys[i+1], shape=(1, n_samples))\n",
        "    new_samples = jnp.where(U <= A, proposals, current_samples)\n",
        "    samples = jnp.append(samples, new_samples, axis=0)\n",
        "    current_samples = new_samples\n",
        "\n",
        "  # compute E(g(X))\n",
        "  G = g(samples)\n",
        "  E = jnp.mean(G, axis=0)\n",
        "  return samples, jnp.mean(E)"
      ],
      "metadata": {
        "id": "aiItnIK55ZQm"
      },
      "execution_count": 45,
      "outputs": []
    },
    {
      "cell_type": "code",
      "source": [
        "def poisson_kernel(r, theta):\n",
        "  return ((1 - jnp.power(r, 2)) / \n",
        "          (1 - 2 * r * jnp.cos(theta) + jnp.power(r, 2)))"
      ],
      "metadata": {
        "id": "A3AlfLowAnvs"
      },
      "execution_count": 26,
      "outputs": []
    },
    {
      "cell_type": "code",
      "source": [
        "n_samples = 100\n",
        "t = 100\n",
        "r = 0.5\n",
        "theta = np.pi / 2\n",
        "key = random.PRNGKey(int(time.time()))\n",
        "samples, ans = solve_at(jnp.sin, poisson_kernel, r, theta, n_samples, t, key)"
      ],
      "metadata": {
        "colab": {
          "base_uri": "https://localhost:8080/"
        },
        "id": "gZ3neKRVOLlr",
        "outputId": "f6f99ae8-e172-419d-92f0-e4f00fbdcaad"
      },
      "execution_count": 46,
      "outputs": [
        {
          "output_type": "stream",
          "name": "stdout",
          "text": [
            "[[5.1333156  2.5560143  0.11147802 2.668045   5.207624   0.20570773\n",
            "  3.3682234  4.9701333  4.6107073  5.3702397  3.0017009  2.9769654\n",
            "  0.7965667  6.130176   5.71475    3.4504435  0.9514434  5.812756\n",
            "  2.2578983  1.5008167  4.4531507  2.0621383  4.801404   3.4766836\n",
            "  1.0502309  5.972744   1.7906402  3.9385939  2.1320858  3.7552533\n",
            "  0.7986797  2.8966973  2.5063105  2.609651   2.8496084  6.07546\n",
            "  5.7478185  0.97852546 2.9343212  1.5890925  1.5653391  6.1017046\n",
            "  1.530053   4.5041356  3.0206337  2.8588054  6.1402316  6.1408\n",
            "  2.1223037  4.5607624  4.8716445  5.7648997  3.7192197  4.9769287\n",
            "  1.6392405  2.030574   2.0835714  5.837361   0.06792509 2.4325385\n",
            "  1.3801026  3.2077465  4.186382   2.108259   4.7120175  2.0781245\n",
            "  3.1608589  0.02452047 1.6766028  0.0858857  6.216814   0.56227213\n",
            "  3.323985   0.90205336 1.2831922  6.2089806  4.6898556  5.3774643\n",
            "  4.301125   4.4870667  3.2397997  3.4565763  2.5095372  5.8809566\n",
            "  1.1818783  4.950688   3.2623339  3.5546095  2.9742906  6.2688665\n",
            "  5.313769   5.7368245  1.079357   5.0176773  5.1943626  4.7979083\n",
            "  2.0121446  6.0854864  4.037554   3.8248193 ]]\n"
          ]
        }
      ]
    },
    {
      "cell_type": "code",
      "source": [
        "ans"
      ],
      "metadata": {
        "colab": {
          "base_uri": "https://localhost:8080/"
        },
        "id": "pdm42o-aRZE9",
        "outputId": "357aa318-8758-444f-d222-a9569ebbdd89"
      },
      "execution_count": 48,
      "outputs": [
        {
          "output_type": "execute_result",
          "data": {
            "text/plain": [
              "DeviceArray(0.49303088, dtype=float32)"
            ]
          },
          "metadata": {},
          "execution_count": 48
        }
      ]
    }
  ]
}