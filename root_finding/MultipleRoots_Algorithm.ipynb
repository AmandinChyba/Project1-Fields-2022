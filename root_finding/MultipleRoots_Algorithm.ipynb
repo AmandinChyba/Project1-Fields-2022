{
  "nbformat": 4,
  "nbformat_minor": 0,
  "metadata": {
    "colab": {
      "name": "MultipleRoots_Algorithm.ipynb",
      "provenance": [],
      "collapsed_sections": [],
      "authorship_tag": "ABX9TyMpNsiLuN5JRZSFtVlPfIUy",
      "include_colab_link": true
    },
    "kernelspec": {
      "name": "python3",
      "display_name": "Python 3"
    },
    "language_info": {
      "name": "python"
    }
  },
  "cells": [
    {
      "cell_type": "markdown",
      "metadata": {
        "id": "view-in-github",
        "colab_type": "text"
      },
      "source": [
        "<a href=\"https://colab.research.google.com/github/AmandinChyba/Project1-Fields-2022/blob/main/root_finding/MultipleRoots_Algorithm.ipynb\" target=\"_parent\"><img src=\"https://colab.research.google.com/assets/colab-badge.svg\" alt=\"Open In Colab\"/></a>"
      ]
    },
    {
      "cell_type": "code",
      "source": [
        "import jax\n",
        "import jax.lax as lax\n",
        "import jax.numpy as jnp\n",
        "import jax.random as jrandom\n",
        "import matplotlib.pyplot as plt\n",
        "import time\n",
        "from functools import partial\n",
        "import numpy as np"
      ],
      "metadata": {
        "id": "oza2IHSlUusH"
      },
      "execution_count": 561,
      "outputs": []
    },
    {
      "cell_type": "markdown",
      "source": [
        "look into using vmap instead of repeat and some of these other weird processes"
      ],
      "metadata": {
        "id": "H3XABli0b68V"
      }
    },
    {
      "cell_type": "code",
      "source": [
        "#@jax.jit\n",
        "def poop():\n",
        "  y = jnp.array([[1, 2, 3],[4, 5, 6]])\n",
        "  p = jnp.array([[1, 2, 3],[3, 2, 1]])\n",
        "  # for some reason you have to flatten the array when repeating\n",
        "  final = jnp.repeat(y, p, total_repeat_length=12)\n",
        "  final = final.reshape((2,6))\n",
        "  return final\n",
        "\n",
        "print(poop())"
      ],
      "metadata": {
        "colab": {
          "base_uri": "https://localhost:8080/"
        },
        "id": "NsWPauYXTpEG",
        "outputId": "3ffac7cc-e768-4bfd-8507-2d0f74e1e03c"
      },
      "execution_count": 562,
      "outputs": [
        {
          "output_type": "stream",
          "name": "stdout",
          "text": [
            "[[1 2 2 3 3 3]\n",
            " [4 4 4 5 5 6]]\n"
          ]
        }
      ]
    },
    {
      "cell_type": "code",
      "source": [
        "@jax.jit\n",
        "def signDistance(p):\n",
        "  # derivative must be upper bounded by 1 since its supposed to be a signed distance function\n",
        "  #return 3*jnp.power(t,2) + t + 1\n",
        "  #return (t-0.01)*(t-0.02)*(t-0.98)*(t-0.99)\n",
        "  #return jnp.sin(p)\n",
        "  return jnp.linalg.norm(p,ord=2,axis=2,keepdims=False) - 1 # unit sphere"
      ],
      "metadata": {
        "id": "f_o6msdxUntc"
      },
      "execution_count": 563,
      "outputs": []
    },
    {
      "cell_type": "code",
      "source": [
        "#vcheck = jnp.array([[0,1,4,3], [0,5,10,6]]).T\n",
        "#print(vcheck.shape)\n",
        "#print(vcheck)\n",
        "#result = signDistance(vcheck)\n",
        "#print(result)"
      ],
      "metadata": {
        "id": "k94RtAnO_dDY"
      },
      "execution_count": 564,
      "outputs": []
    },
    {
      "cell_type": "code",
      "execution_count": 565,
      "metadata": {
        "id": "PBuWZTipUaWR"
      },
      "outputs": [],
      "source": [
        "#@jax.jit\n",
        "def rootIsolate(key, quadrature, p0, p1):\n",
        "  # don't pick roots on the wrong side of the line?\n",
        "  # maybe we should be doing the whole line at once?\n",
        "  # some way to avoid sorting?\n",
        "\n",
        "  # find the roots\n",
        "  v = signDistance(p0 + quadrature[:,:,jnp.newaxis] * (p1 - p0))\n",
        "  v = jnp.where(v > 0, 1, -1)\n",
        "  roots = v[:-1] + v[1:]\n",
        "\n",
        "  # check how many roots\n",
        "  n_zeros = jnp.count_nonzero(roots == 0, axis=0)\n",
        "  print(\"number of roots found:\", n_zeros)\n",
        "\n",
        "  # randomly pick a root\n",
        "  minvals = jnp.array(jnp.size(quadrature, 1) * [0])\n",
        "  random_indices = jrandom.randint(key, (1,jnp.size(quadrature, 1)), minval=minvals, maxval=n_zeros)\n",
        "  \n",
        "  roots = jnp.where(roots == 0, 0, 1)\n",
        "  all_root_indices = jnp.argsort(roots, axis=0)\n",
        "  root_indices = jnp.take_along_axis(all_root_indices, random_indices, axis=0)\n",
        "\n",
        "  lb = jnp.take_along_axis(quadrature, root_indices, axis=0)\n",
        "  ub = jnp.take_along_axis(quadrature, root_indices+1, axis=0)\n",
        "  \n",
        "  # return the roots interval\n",
        "  return lb, ub"
      ]
    },
    {
      "cell_type": "code",
      "source": [
        "#@jax.jit\n",
        "def bisection(p0, p1, rootSteps, dir):\n",
        "  current = jnp.zeros((1, jnp.size(p0, 1)))\n",
        "\n",
        "  def bisectionStep(i, current):\n",
        "    next = current + jnp.power(0.5, i+1)\n",
        "    dist1 = signDistance(p0 + dir * next[:,:,jnp.newaxis] * (p1 - p0))\n",
        "    dist2 = signDistance(p0 + dir * current[:,:,jnp.newaxis] * (p1 - p0))\n",
        "    return jnp.where(dist1 * dist2 > 0, next, current)\n",
        "\n",
        "  current = lax.fori_loop(0, rootSteps, bisectionStep, current)\n",
        "  \n",
        "  return p0 + dir * current[:,:,jnp.newaxis] * (p1 - p0)"
      ],
      "metadata": {
        "id": "vTeTTdgIP0i_"
      },
      "execution_count": 566,
      "outputs": []
    },
    {
      "cell_type": "code",
      "source": [
        "#@partial(jax.jit, static_argnames=['uni_cuts', 'quad_cuts'])\n",
        "def createQuadrature(uni_cuts, quad_cuts, p0, p1):\n",
        "  lb = jnp.zeros(len(p0))\n",
        "  ub = jnp.ones(len(p1))\n",
        "  t0 = jnp.linspace(lb, ub, uni_cuts, axis=0)\n",
        "\n",
        "  v0 = jnp.abs(signDistance(p0 + t0[:,:,jnp.newaxis] * (p1 - p0)))\n",
        "  # quad_cuts should be greater than or equal to uni_cuts? not true?\n",
        "  \n",
        "  # smart variation\n",
        "  uni_space = (ub - lb) / (uni_cuts - 1)\n",
        "  threshold = jnp.linalg.norm(p1 - p0, ord=2, axis=1) / (2 * (uni_cuts - 1))\n",
        "  n_close = jnp.count_nonzero(v0 < threshold, axis=0)\n",
        "  \n",
        "  spacing_amount = ((quad_cuts - uni_cuts) // n_close).astype(int) + 1\n",
        "  spacing_value = uni_space / (spacing_amount)\n",
        "\n",
        "  h = jnp.where(v0 < threshold, spacing_amount, 1)\n",
        "  lol = jnp.where(v0 < threshold, spacing_value, uni_space)\n",
        "\n",
        "  extra = quad_cuts % n_close\n",
        "  h = h.at[-1].add(extra)\n",
        "\n",
        "  lol2 = jnp.ravel(lol, order='F')\n",
        "  h2 = jnp.ravel(h, order='F')\n",
        "  xd = jnp.repeat(lol2, h2, total_repeat_length=quad_cuts * len(lb))\n",
        "  xd = jnp.reshape(xd, (quad_cuts, len(lb)), order='F')\n",
        "  xd = jnp.cumsum(xd, axis=0)\n",
        "  xd -= uni_space / 2\n",
        "  #xd += lb\n",
        "\n",
        "  return xd"
      ],
      "metadata": {
        "id": "Bc3qGv8IrE-h"
      },
      "execution_count": 567,
      "outputs": []
    },
    {
      "cell_type": "code",
      "source": [
        "%%time\n",
        "key = jrandom.PRNGKey(int(time.time()))\n",
        "\n",
        "uni_cuts = 5\n",
        "quad_cuts = 20\n",
        "p0 = jnp.array([[-2, -2], [2, 0]]) # [samples, dimensions]\n",
        "p1 = jnp.array([[2, 2], [-2, 0]])\n",
        "\n",
        "# must always have more uni_cuts then there are roots\n",
        "quadrature_t = createQuadrature(uni_cuts, quad_cuts, p0, p1)\n",
        "t1, t2 = rootIsolate(key, quadrature_t, p0, p1)\n",
        "root = bisection(p0 + t1[:,:,jnp.newaxis] * (p1 - p0), \n",
        "                 p0 + t2[:,:,jnp.newaxis] * (p1 - p0), \n",
        "                 10, dir=1)\n",
        "\n",
        "# use \"t, t2, dir\" to find the sign of the normal\n",
        "print(\"-------------------------------------------\")\n",
        "print('root:', root)\n",
        "print('signDistance(root):', signDistance(root))"
      ],
      "metadata": {
        "colab": {
          "base_uri": "https://localhost:8080/"
        },
        "id": "K0QvEETmQtHh",
        "outputId": "ecfee852-1039-40b5-96aa-0bcbe026c34b"
      },
      "execution_count": 580,
      "outputs": [
        {
          "output_type": "stream",
          "name": "stdout",
          "text": [
            "number of roots found: [2 2]\n",
            "-------------------------------------------\n",
            "root: [[[-0.7071533 -0.7071533]\n",
            "  [ 1.0009766  0.       ]]]\n",
            "signDistance(root): [[6.580353e-05 9.765625e-04]]\n",
            "CPU times: user 178 ms, sys: 1.42 ms, total: 180 ms\n",
            "Wall time: 196 ms\n"
          ]
        }
      ]
    },
    {
      "cell_type": "markdown",
      "source": [
        "# Graphing"
      ],
      "metadata": {
        "id": "uLtDj8no1g9v"
      }
    },
    {
      "cell_type": "code",
      "source": [
        "sample = 0\n",
        "t = jnp.linspace(p0, p1, 500, axis=0)\n",
        "thing = jnp.abs(signDistance(t))\n",
        "plt.scatter(t[:,sample,0], t[:,sample,1], c=thing[:,sample])\n",
        "\n",
        "thitohars = jnp.linspace(0, 2*jnp.pi, 500)\n",
        "plt.scatter(jnp.cos(thitohars), jnp.sin(thitohars))\n",
        "\n",
        "\n",
        "quadrature = p0 + quadrature_t[:,:,jnp.newaxis] * (p1 - p0)\n",
        "plt.scatter(quadrature[:,sample,0], quadrature[:,sample,1])\n",
        "plt.scatter(p0[sample, 0], p0[sample, 1], c='g')\n",
        "plt.scatter(p1[sample, 0], p1[sample, 1], c='r')\n",
        "\n",
        "'''\n",
        "t0 = jnp.linspace(p0[sample], p1[sample], uni_cuts)\n",
        "v0 = jnp.abs(signDistance(t0))\n",
        "threshold = (p1[sample] - p0[sample]) / (uni_cuts - 1)\n",
        "plt.scatter(t0, v0, c='y')\n",
        "plt.axhline(threshold / 2, linestyle='-')\n",
        "for t in t0:\n",
        "  plt.axvline(t, linestyle='-')\n",
        "'''"
      ],
      "metadata": {
        "colab": {
          "base_uri": "https://localhost:8080/",
          "height": 319
        },
        "id": "HJPzwuEzU6fi",
        "outputId": "dbbd65f6-a6dd-4c4a-dae7-ff04ddd8b137"
      },
      "execution_count": 579,
      "outputs": [
        {
          "output_type": "execute_result",
          "data": {
            "text/plain": [
              "\"\\nt0 = jnp.linspace(p0[sample], p1[sample], uni_cuts)\\nv0 = jnp.abs(signDistance(t0))\\nthreshold = (p1[sample] - p0[sample]) / (uni_cuts - 1)\\nplt.scatter(t0, v0, c='y')\\nplt.axhline(threshold / 2, linestyle='-')\\nfor t in t0:\\n  plt.axvline(t, linestyle='-')\\n\""
            ],
            "application/vnd.google.colaboratory.intrinsic+json": {
              "type": "string"
            }
          },
          "metadata": {},
          "execution_count": 579
        },
        {
          "output_type": "display_data",
          "data": {
            "text/plain": [
              "<Figure size 432x288 with 1 Axes>"
            ],
            "image/png": "[encoded data removed]"
          },
          "metadata": {
            "needs_background": "light"
          }
        }
      ]
    }
  ]
}