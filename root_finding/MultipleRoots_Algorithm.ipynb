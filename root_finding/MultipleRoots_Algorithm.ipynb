{
  "nbformat": 4,
  "nbformat_minor": 0,
  "metadata": {
    "colab": {
      "name": "MultipleRoots_Algorithm.ipynb",
      "provenance": [],
      "collapsed_sections": [],
      "authorship_tag": "ABX9TyPCQsTy13LOuH+gdgyF1v91",
      "include_colab_link": true
    },
    "kernelspec": {
      "name": "python3",
      "display_name": "Python 3"
    },
    "language_info": {
      "name": "python"
    }
  },
  "cells": [
    {
      "cell_type": "markdown",
      "metadata": {
        "id": "view-in-github",
        "colab_type": "text"
      },
      "source": [
        "<a href=\"https://colab.research.google.com/github/AmandinChyba/Project1-Fields-2022/blob/main/root_finding/MultipleRoots_Algorithm.ipynb\" target=\"_parent\"><img src=\"https://colab.research.google.com/assets/colab-badge.svg\" alt=\"Open In Colab\"/></a>"
      ]
    },
    {
      "cell_type": "code",
      "source": [
        "import jax\n",
        "import jax.lax as lax\n",
        "import jax.numpy as jnp\n",
        "import jax.random as jrandom\n",
        "import matplotlib.pyplot as plt\n",
        "import time\n",
        "from functools import partial\n",
        "import numpy as np"
      ],
      "metadata": {
        "id": "oza2IHSlUusH"
      },
      "execution_count": 524,
      "outputs": []
    },
    {
      "cell_type": "markdown",
      "source": [
        "look into using vmap instead of repeat and some of these other weird processes"
      ],
      "metadata": {
        "id": "H3XABli0b68V"
      }
    },
    {
      "cell_type": "code",
      "source": [
        "#@jax.jit\n",
        "def poop():\n",
        "  y = jnp.array([[1, 2, 3],[4, 5, 6]])\n",
        "  p = jnp.array([[1, 2, 3],[3, 2, 1]])\n",
        "  # for some reason you have to flatten the array when repeating\n",
        "  final = jnp.repeat(y, p, total_repeat_length=12)\n",
        "  final = final.reshape((2,6))\n",
        "  return final\n",
        "\n",
        "print(poop())"
      ],
      "metadata": {
        "colab": {
          "base_uri": "https://localhost:8080/"
        },
        "id": "NsWPauYXTpEG",
        "outputId": "648d58c1-3883-44b1-9102-1cf69ebaad01"
      },
      "execution_count": 525,
      "outputs": [
        {
          "output_type": "stream",
          "name": "stdout",
          "text": [
            "[[1 2 2 3 3 3]\n",
            " [4 4 4 5 5 6]]\n"
          ]
        }
      ]
    },
    {
      "cell_type": "code",
      "source": [
        "@jax.jit\n",
        "def signDistance(t):\n",
        "  # derivative must be upper bounded by 1 since its supposed to be a signed distance function\n",
        "  #return 3*jnp.power(t,2) + t + 1\n",
        "  #return (t-0.01)*(t-0.02)*(t-0.98)*(t-0.99)\n",
        "  return jnp.sin(t)"
      ],
      "metadata": {
        "id": "f_o6msdxUntc"
      },
      "execution_count": 526,
      "outputs": []
    },
    {
      "cell_type": "code",
      "source": [
        "@partial(jax.jit, static_argnames=['uni_cuts', 'quad_cuts'])\n",
        "def createQuadrature(uni_cuts, quad_cuts, p0, p1):\n",
        "  lb = jnp.zeros(p0.shape)\n",
        "  ub = jnp.ones(p1.shape)\n",
        "  t0 = jnp.linspace(lb, ub, uni_cuts, axis=0)\n",
        "\n",
        "  v0 = jnp.abs(signDistance(p0 + t0 * (p1 - p0)))\n",
        "  # quad_cuts should be greater than or equal to uni_cuts? not true?\n",
        "  \n",
        "  # smart variation\n",
        "  uni_space = (ub - lb) / (uni_cuts - 1)\n",
        "  threshold = (p1 - p0) / (2 * (uni_cuts - 1))\n",
        "  n_close = jnp.count_nonzero(v0 < threshold, axis=0)\n",
        "  \n",
        "  spacing_amount = ((quad_cuts - uni_cuts) // n_close).astype(int) + 1\n",
        "  spacing_value = uni_space / (spacing_amount)\n",
        "\n",
        "  h = jnp.where(v0 < threshold, spacing_amount, 1)\n",
        "  lol = jnp.where(v0 < threshold, spacing_value, uni_space)\n",
        "\n",
        "  extra = quad_cuts % n_close\n",
        "  h = h.at[-1].add(extra)\n",
        "\n",
        "  '''\n",
        "  # experimental variation\n",
        "  uni_space = (ub - lb) / (uni_cuts - 1)\n",
        "  threshold = uni_space / 2\n",
        "  n_close = jnp.count_nonzero(v0 < threshold)\n",
        "  lol = jnp.where(v0 < threshold, v0, 0)\n",
        "  lol = 1 / lol\n",
        "  lol = jnp.where(jnp.isinf(lol), 0, lol)\n",
        "  lol = lol / jnp.sum(lol)\n",
        "  # smooth the distribution at this point?\n",
        "  lol = lol * (quad_cuts - uni_cuts)\n",
        "  lol = jnp.floor(lol).astype(int)\n",
        "  lol += 1\n",
        "  extra = jnp.sum(lol) % n_close\n",
        "  lol = lol.at[-1].add(extra)\n",
        "  h = uni_space * 1 / lol\n",
        "  '''\n",
        "\n",
        "  lol2 = jnp.ravel(lol, order='F')\n",
        "  h2 = jnp.ravel(h, order='F')\n",
        "  xd = jnp.repeat(lol2, h2, total_repeat_length=quad_cuts * len(lb))\n",
        "  xd = jnp.reshape(xd, (quad_cuts, len(lb)), order='F')\n",
        "  xd = jnp.cumsum(xd, axis=0)\n",
        "  xd -= uni_space / 2\n",
        "  #xd += lb\n",
        "\n",
        "  return xd"
      ],
      "metadata": {
        "id": "Bc3qGv8IrE-h"
      },
      "execution_count": 527,
      "outputs": []
    },
    {
      "cell_type": "code",
      "execution_count": 528,
      "metadata": {
        "id": "PBuWZTipUaWR"
      },
      "outputs": [],
      "source": [
        "@jax.jit\n",
        "def rootIsolate(key, quadrature, p0, p1):\n",
        "  # don't pick roots on the wrong side of the line?\n",
        "  # maybe we should be doing the whole line at once?\n",
        "  # some way to avoid sorting?\n",
        "\n",
        "  # find the roots\n",
        "  v = signDistance(p0 + quadrature * (p1 - p0))\n",
        "  v = jnp.where(v > 0, 1, -1)\n",
        "  roots = v[:-1] + v[1:]\n",
        "\n",
        "  # check how many roots\n",
        "  n_zeros = jnp.count_nonzero(roots == 0, axis=0)\n",
        "  print(\"number of roots found:\", n_zeros)\n",
        "\n",
        "  # randomly pick a root\n",
        "  minvals = jnp.array(jnp.size(quadrature, 1) * [0])\n",
        "  random_indices = jrandom.randint(key, (1,jnp.size(quadrature, 1)), minval=minvals, maxval=n_zeros)\n",
        "  \n",
        "  roots = jnp.where(roots == 0, 0, 1)\n",
        "  all_root_indices = jnp.argsort(roots, axis=0)\n",
        "  root_indices = jnp.take_along_axis(all_root_indices, random_indices, axis=0)\n",
        "\n",
        "  lb = jnp.take_along_axis(quadrature, root_indices, axis=0)\n",
        "  ub = jnp.take_along_axis(quadrature, root_indices+1, axis=0)\n",
        "  \n",
        "  # return the roots interval\n",
        "  return lb, ub"
      ]
    },
    {
      "cell_type": "code",
      "source": [
        "@jax.jit\n",
        "def bisection(p0, p1, rootSteps, dir):\n",
        "  current = jnp.zeros((1, jnp.size(p0, 1)))\n",
        "\n",
        "  def bisectionStep(i, current):\n",
        "    next = current + jnp.power(0.5, i+1)\n",
        "    dist1 = signDistance(p0 + dir * next * (p1 - p0))\n",
        "    dist2 = signDistance(p0 + dir * current * (p1 - p0))\n",
        "    return jnp.where(dist1 * dist2 > 0, next, current)\n",
        "\n",
        "  current = lax.fori_loop(0, rootSteps, bisectionStep, current)\n",
        "  \n",
        "  return p0 + dir * current * (p1 - p0)"
      ],
      "metadata": {
        "id": "vTeTTdgIP0i_"
      },
      "execution_count": 529,
      "outputs": []
    },
    {
      "cell_type": "code",
      "source": [
        "%%time\n",
        "key = jrandom.PRNGKey(int(time.time()))\n",
        "\n",
        "uni_cuts = 10\n",
        "quad_cuts = 20\n",
        "p0 = jnp.array([0, 0])\n",
        "p1 = jnp.array([10, 5])\n",
        "\n",
        "# must always have more uni_cuts then there are roots\n",
        "quadrature_t = createQuadrature(uni_cuts, quad_cuts, p0, p1)\n",
        "t1, t2 = rootIsolate(key, quadrature_t, p0, p1)\n",
        "root = bisection(p0 + t1 * (p1 - p0), \n",
        "                 p0 + t2 * (p1 - p0), \n",
        "                 5, dir=1)\n",
        "\n",
        "# use \"t, t2, dir\" to find the sign of the normal\n",
        "print('root:', root)\n",
        "print('signDistance(root):', signDistance(root))"
      ],
      "metadata": {
        "colab": {
          "base_uri": "https://localhost:8080/"
        },
        "id": "K0QvEETmQtHh",
        "outputId": "5ce105f6-b46c-47d1-d9be-6bc15f8e9185"
      },
      "execution_count": 547,
      "outputs": [
        {
          "output_type": "stream",
          "name": "stdout",
          "text": [
            "root: [[6.273148  3.1394675]]\n",
            "signDistance(root): [[-0.01003708  0.00212517]]\n",
            "CPU times: user 8.86 ms, sys: 0 ns, total: 8.86 ms\n",
            "Wall time: 11.5 ms\n"
          ]
        }
      ]
    },
    {
      "cell_type": "markdown",
      "source": [
        "# Graphing"
      ],
      "metadata": {
        "id": "uLtDj8no1g9v"
      }
    },
    {
      "cell_type": "code",
      "source": [
        "sample = 1\n",
        "t = jnp.linspace(p0[sample], p1[sample], 500)\n",
        "plt.plot(t, signDistance(t))\n",
        "\n",
        "plt.scatter(root[0,sample], 0.1, c='g')\n",
        "\n",
        "\n",
        "quadrature_zeros = jnp.zeros(len(quadrature_t))\n",
        "quadrature = p0 + quadrature_t * (p1 - p0)\n",
        "plt.scatter(quadrature[:,sample], quadrature_zeros, c='r')\n",
        "\n",
        "\n",
        "t0 = jnp.linspace(p0[sample], p1[sample], uni_cuts)\n",
        "v0 = jnp.abs(signDistance(t0))\n",
        "threshold = (p1[sample] - p0[sample]) / (uni_cuts - 1)\n",
        "plt.scatter(t0, v0, c='y')\n",
        "plt.axhline(threshold / 2, linestyle='-')\n",
        "for t in t0:\n",
        "  plt.axvline(t, linestyle='-')\n"
      ],
      "metadata": {
        "colab": {
          "base_uri": "https://localhost:8080/",
          "height": 265
        },
        "id": "HJPzwuEzU6fi",
        "outputId": "c8c3f4ea-4ba7-40bb-c6b8-dbff8b61ca2f"
      },
      "execution_count": 532,
      "outputs": [
        {
          "output_type": "display_data",
          "data": {
            "text/plain": [
              "<Figure size 432x288 with 1 Axes>"
            ],
            "image/png": "[encoded data removed]"
          },
          "metadata": {
            "needs_background": "light"
          }
        }
      ]
    }
  ]
}