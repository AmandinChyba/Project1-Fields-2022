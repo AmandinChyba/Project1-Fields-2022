{
  "nbformat": 4,
  "nbformat_minor": 0,
  "metadata": {
    "colab": {
      "name": "MultipleRoots_Algorithm.ipynb",
      "provenance": [],
      "collapsed_sections": [],
      "authorship_tag": "ABX9TyMW5JLo/sCAHvojHII5Qbg5",
      "include_colab_link": true
    },
    "kernelspec": {
      "name": "python3",
      "display_name": "Python 3"
    },
    "language_info": {
      "name": "python"
    }
  },
  "cells": [
    {
      "cell_type": "markdown",
      "metadata": {
        "id": "view-in-github",
        "colab_type": "text"
      },
      "source": [
        "<a href=\"https://colab.research.google.com/github/AmandinChyba/Project1-Fields-2022/blob/main/root_finding/MultipleRoots_Algorithm.ipynb\" target=\"_parent\"><img src=\"https://colab.research.google.com/assets/colab-badge.svg\" alt=\"Open In Colab\"/></a>"
      ]
    },
    {
      "cell_type": "code",
      "source": [
        "import jax\n",
        "import jax.lax as lax\n",
        "import jax.numpy as jnp\n",
        "import jax.random as jrandom\n",
        "import matplotlib.pyplot as plt\n",
        "import time\n",
        "from functools import partial\n",
        "import numpy as np"
      ],
      "metadata": {
        "id": "oza2IHSlUusH"
      },
      "execution_count": 2,
      "outputs": []
    },
    {
      "cell_type": "markdown",
      "source": [
        "look into using vmap instead of repeat and some of these other weird processes"
      ],
      "metadata": {
        "id": "H3XABli0b68V"
      }
    },
    {
      "cell_type": "code",
      "source": [
        "#@jax.jit\n",
        "def poop():\n",
        "  y = jnp.array([[1, 2, 3],[4, 5, 6]])\n",
        "  p = jnp.array([[1, 2, 3],[3, 2, 1]])\n",
        "  # for some reason you have to flatten the array when repeating\n",
        "  final = jnp.repeat(y, p, total_repeat_length=12)\n",
        "  final = final.reshape((2,6))\n",
        "  return final\n",
        "\n",
        "print(poop())"
      ],
      "metadata": {
        "colab": {
          "base_uri": "https://localhost:8080/"
        },
        "id": "NsWPauYXTpEG",
        "outputId": "e7f8b038-7382-448f-c1b8-acc4058763f6"
      },
      "execution_count": 5,
      "outputs": [
        {
          "output_type": "stream",
          "name": "stdout",
          "text": [
            "[[1 2 2 3 3 3]\n",
            " [4 4 4 5 5 6]]\n"
          ]
        }
      ]
    },
    {
      "cell_type": "code",
      "source": [
        "@jax.jit\n",
        "def signDistance(t):\n",
        "  # derivative must be upper bounded by 1 since its supposed to be a signed distance function\n",
        "  #return 3*jnp.power(t,2) + t + 1\n",
        "  #return (t-0.01)*(t-0.02)*(t-0.98)*(t-0.99)\n",
        "  return jnp.sin(t)"
      ],
      "metadata": {
        "id": "f_o6msdxUntc"
      },
      "execution_count": null,
      "outputs": []
    },
    {
      "cell_type": "code",
      "source": [
        "@jax.jit\n",
        "def bisection(p0, p1, rootSteps, dir):\n",
        "  current = 0\n",
        "\n",
        "  def bisectionStep(i, current):\n",
        "    next = current + jnp.power(0.5,i+1)\n",
        "    dist1 = signDistance(p0 + dir * next * (p1 - p0))\n",
        "    dist2 = signDistance(p0 + dir * current * (p1 - p0))\n",
        "    return jnp.where(dist1 * dist2 > 0, next, current)\n",
        "\n",
        "  current = lax.fori_loop(0, rootSteps, bisectionStep, current)\n",
        "  \n",
        "  return p0 + dir * current * (p1 - p0)"
      ],
      "metadata": {
        "id": "vTeTTdgIP0i_"
      },
      "execution_count": null,
      "outputs": []
    },
    {
      "cell_type": "code",
      "source": [
        "#@partial(jax.jit, static_argnames=['uni_cuts', 'quad_cuts'])\n",
        "def createQuadrature(uni_cuts, quad_cuts, lb, ub, epsilon=0.1):\n",
        "  t0 = jnp.linspace(lb, ub, uni_cuts)\n",
        "  v0 = jnp.abs(signDistance(t0))\n",
        "\n",
        "  # quad_cuts should be greater than or equal to uni_cuts? not true?\n",
        "  '''\n",
        "  # threshold variation\n",
        "  threshold = jnp.min(v0) + epsilon\n",
        "  n_close = jnp.count_nonzero(v0 < threshold)\n",
        "  p = (quad_cuts - uni_cuts)/n_close\n",
        "  lol = jnp.where(v0 < threshold, p, 0)\n",
        "  lol = jnp.floor(lol).astype(int)\n",
        "  lol = lol + 1\n",
        "  # tag the extra points at the end?\n",
        "  extra = quad_cuts % jnp.sum(lol)\n",
        "  lol = lol.at[-1].add(extra)\n",
        "  h = 1 / (uni_cuts * lol)\n",
        "  xd1 = jnp.repeat(lol, h)\n",
        "  xd1 = jnp.cumsum(xd1)\n",
        "  xd  = xd * (ub - lb) / xd[-1] + lb\n",
        "  '''\n",
        "  '''\n",
        "  # percentage variation\n",
        "  v0 = v0 + epsilon\n",
        "  v0 = 1 / v0\n",
        "  v0 = v0 / jnp.sum(v0)\n",
        "  lol = (quad_cuts - uni_cuts) * v0\n",
        "  lol = jnp.floor(lol).astype(int)\n",
        "  lol = lol + 1\n",
        "  # tag the extra points at the end?\n",
        "  extra = quad_cuts % jnp.sum(lol)\n",
        "  lol = lol.at[-1].add(extra)\n",
        "  h = 1 / (uni_cuts * lol)\n",
        "  xd1 = jnp.repeat(lol, h)\n",
        "  xd1 = jnp.cumsum(xd1)\n",
        "  xd  = xd * (ub - lb) / xd[-1] + lb\n",
        "  '''\n",
        "  \n",
        "  # smart variation\n",
        "  uni_space = (ub - lb) / (uni_cuts - 1)\n",
        "  threshold = uni_space / 2\n",
        "  n_close = jnp.count_nonzero(v0 < threshold)\n",
        "  \n",
        "  spacing_amount = ((quad_cuts - uni_cuts) // n_close).astype(int) + 1\n",
        "  spacing_value = uni_space / (spacing_amount)\n",
        "\n",
        "  h = jnp.where(v0 < threshold, spacing_amount, 1)\n",
        "  lol = jnp.where(v0 < threshold, spacing_value, uni_space)\n",
        "\n",
        "  extra = quad_cuts % n_close\n",
        "  h = h.at[-1].add(extra)\n",
        "\n",
        "  '''\n",
        "  # experimental:\n",
        "  uni_space = (ub - lb) / (uni_cuts - 1)\n",
        "  threshold = uni_space / 2\n",
        "  n_close = jnp.count_nonzero(v0 < threshold)\n",
        "  lol2 = jnp.where(v0 < threshold, v0, 0)\n",
        "  lol2 = 1 / lol2\n",
        "  lol2 = jnp.where(jnp.isinf(lol2), 0, lol2)\n",
        "  lol2 = lol2 / jnp.sum(lol2)\n",
        "  # smooth the distribution at this point?\n",
        "  lol2 = lol2 * (quad_cuts - uni_cuts)\n",
        "  lol2 = jnp.floor(lol2).astype(int)\n",
        "  lol2 += 1\n",
        "  extra = jnp.sum(lol2) % n_close\n",
        "  lol2 = lol2.at[-1].add(extra)\n",
        "  h2 = uni_space * 1 / lol2\n",
        "  print(\"lol2\",lol2)\n",
        "  print(\"h2\",h2)\n",
        "  h = lol2\n",
        "  lol = h2\n",
        "  '''\n",
        "\n",
        "\n",
        "  xd = jnp.repeat(lol, h, total_repeat_length=quad_cuts)\n",
        "  xd = jnp.cumsum(xd)\n",
        "  #xd -= uni_space / 2 + spacing_value / 2\n",
        "  xd -= uni_space / 2\n",
        "  xd += lb\n",
        "  \n",
        "  #print(\"v0\",v0)\n",
        "  #print(\"close points:\", n_close)\n",
        "  #print(\"uniform spacing:\", uni_space)\n",
        "  #print(\"threshold:\", threshold)\n",
        "  #print(\"spacing amount:\", spacing_amount)\n",
        "  #print(\"spacing value:\", spacing_value)\n",
        "  #print(\"extra:\", extra)\n",
        "  #print(\"lol\",lol)\n",
        "  #print(\"h\",h)\n",
        "  #print(\"xd\",xd)\n",
        "  '''\n",
        "  xd = np.zeros(quad_cuts)\n",
        "  i = 0\n",
        "  j = 0\n",
        "  k = 0\n",
        "  for counter in range(quad_cuts + uni_cuts - n_close):\n",
        "      if k == h[j] or h[j] == 0:\n",
        "        j += 1\n",
        "        k = 0\n",
        "      \n",
        "      if h[j] != 0:\n",
        "        xd[i] = t0[j] + spacing_value * k - threshold + spacing_value / 2\n",
        "        i += 1\n",
        "      \n",
        "      k += 1\n",
        "  \n",
        "  # not jitable because of jnp.arange(spacing_amount)\n",
        "  xd1 = jnp.repeat(t0, h, total_repeat_length=quad_cuts)\n",
        "  xd2 = jnp.resize(jnp.arange(spacing_amount), quad_cuts)\n",
        "  xd = xd1 + spacing_value * xd2 - threshold + spacing_value / 2\n",
        "  '''\n",
        "\n",
        "  return xd"
      ],
      "metadata": {
        "id": "Bc3qGv8IrE-h"
      },
      "execution_count": null,
      "outputs": []
    },
    {
      "cell_type": "code",
      "execution_count": null,
      "metadata": {
        "id": "PBuWZTipUaWR"
      },
      "outputs": [],
      "source": [
        "#@jax.jit\n",
        "def rootIsolate(key, t):\n",
        "  # find the roots\n",
        "  v = signDistance(t)\n",
        "  v = jnp.where(v > 0, 1, -1)\n",
        "  roots = v[:-1] + v[1:]\n",
        "\n",
        "  # check how many roots\n",
        "  n_zeros = jnp.count_nonzero(roots == 0)\n",
        "  #print('number of roots found:', n_zeros)\n",
        "\n",
        "  # randomly pick a root\n",
        "  p = jnp.where(roots == 0, 1/n_zeros, 0)\n",
        "  indices = jnp.arange(0, len(roots))\n",
        "  root_index = jrandom.choice(key, indices, (), p=p)\n",
        "\n",
        "  # find the bounds containing that root\n",
        "  lb = t[root_index]\n",
        "  ub = t[root_index + 1]\n",
        "  \n",
        "  # return the roots interval\n",
        "  return lb, ub"
      ]
    },
    {
      "cell_type": "code",
      "source": [
        "%%time\n",
        "key = jrandom.PRNGKey(int(time.time()))\n",
        "\n",
        "uni_cuts = 10\n",
        "quad_cuts = 20\n",
        "lb=5\n",
        "ub=10\n",
        "epsilon=0.01\n",
        "\n",
        "# must always have more uni_cuts then there are roots\n",
        "# more quad_cuts means you should pick a smaller confidence\n",
        "quadrature = createQuadrature(uni_cuts, quad_cuts, lb=lb, ub=ub, epsilon=epsilon)\n",
        "t, t2 = rootIsolate(key, quadrature)\n",
        "root = bisection(t, t2, 10, dir=1)\n",
        "\n",
        "# use \"t, t2, dir\" to find the sign of the normal\n",
        "\n",
        "print('t:', root)\n",
        "print('f(t):', signDistance(root))"
      ],
      "metadata": {
        "colab": {
          "base_uri": "https://localhost:8080/"
        },
        "id": "K0QvEETmQtHh",
        "outputId": "39e46c56-0a7b-4c7a-be84-952f0e80bb5c"
      },
      "execution_count": null,
      "outputs": [
        {
          "output_type": "stream",
          "name": "stdout",
          "text": [
            "t: 9.424732\n",
            "f(t): 4.5752517e-05\n",
            "CPU times: user 3.17 s, sys: 54.5 ms, total: 3.22 s\n",
            "Wall time: 8.03 s\n"
          ]
        }
      ]
    },
    {
      "cell_type": "code",
      "source": [
        "t = jnp.linspace(lb, ub, 500)\n",
        "plt.plot(t, signDistance(t))\n",
        "\n",
        "plt.scatter(root, 0.1, c='g')\n",
        "\n",
        "quadrature_zeros = jnp.zeros(len(quadrature))\n",
        "plt.scatter(quadrature, quadrature_zeros, c='r')\n",
        "\n",
        "t0 = jnp.linspace(lb, ub, uni_cuts)\n",
        "v0 = jnp.abs(signDistance(t0))\n",
        "threshold = (ub - lb) / (uni_cuts - 1)\n",
        "plt.scatter(t0, v0, c='y')\n",
        "plt.axhline(threshold / 2, linestyle='-')\n",
        "for t in t0:\n",
        "  plt.axvline(t, linestyle='-')\n",
        "\n",
        "print(quadrature)"
      ],
      "metadata": {
        "colab": {
          "base_uri": "https://localhost:8080/",
          "height": 336
        },
        "id": "HJPzwuEzU6fi",
        "outputId": "b4bceccc-7ce1-4924-a175-418a006166cd"
      },
      "execution_count": null,
      "outputs": [
        {
          "output_type": "stream",
          "name": "stdout",
          "text": [
            "[ 5.2777777  5.8333335  5.925926   6.0185184  6.111111   6.203704\n",
            "  6.296296   6.388889   6.9444447  7.5        8.055555   8.611111\n",
            "  9.166667   9.25926    9.351852   9.444445   9.537037   9.62963\n",
            "  9.722223  10.277779 ]\n"
          ]
        },
        {
          "output_type": "display_data",
          "data": {
            "text/plain": [
              "<Figure size 432x288 with 1 Axes>"
            ],
            "image/png": "[encoded data removed]"
          },
          "metadata": {
            "needs_background": "light"
          }
        }
      ]
    }
  ]
}