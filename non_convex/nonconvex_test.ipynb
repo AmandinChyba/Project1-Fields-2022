{
  "nbformat": 4,
  "nbformat_minor": 0,
  "metadata": {
    "colab": {
      "name": "nonconvex_test.ipynb",
      "provenance": [],
      "collapsed_sections": [
        "baG64vpHlfkn",
        "dm_SOyDik7I9",
        "SJLXGsjYmUwm",
        "z3ngEAP2N10m",
        "qtRYpIMmvjS0"
      ],
      "authorship_tag": "ABX9TyMygd05QvDMb1kgZHTaBzQh",
      "include_colab_link": true
    },
    "kernelspec": {
      "name": "python3",
      "display_name": "Python 3"
    },
    "language_info": {
      "name": "python"
    },
    "gpuClass": "standard",
    "accelerator": "GPU"
  },
  "cells": [
    {
      "cell_type": "markdown",
      "metadata": {
        "id": "view-in-github",
        "colab_type": "text"
      },
      "source": [
        "<a href=\"https://colab.research.google.com/github/AmandinChyba/Project1-Fields-2022/blob/main/non_convex/nonconvex_test.ipynb\" target=\"_parent\"><img src=\"https://colab.research.google.com/assets/colab-badge.svg\" alt=\"Open In Colab\"/></a>"
      ]
    },
    {
      "cell_type": "code",
      "execution_count": null,
      "metadata": {
        "id": "XlewCCTWHVuF"
      },
      "outputs": [],
      "source": [
        "import jax\n",
        "from jax import lax\n",
        "import jax.random as jrandom\n",
        "import jax.numpy as jnp\n",
        "import numpy as np\n",
        "import time\n",
        "import matplotlib.pyplot as plt\n",
        "from functools import partial"
      ]
    },
    {
      "cell_type": "markdown",
      "source": [
        "# Utility Functions"
      ],
      "metadata": {
        "id": "dkkFdQqak07c"
      }
    },
    {
      "cell_type": "code",
      "source": [
        "'''\n",
        "signed distance function of the domain\n",
        "'''\n",
        "@jax.jit\n",
        "def signDistance(p): # [cuts, samples, dimensions]\n",
        "  '''\n",
        "  # octahedron\n",
        "  p = abs(p)\n",
        "  s = 1\n",
        "  final = (jnp.sum(p, axis=2) - s) * 0.57735027\n",
        "  '''\n",
        "\n",
        "  # torus\n",
        "  R = 2\n",
        "  r = 1\n",
        "  temp = jnp.sum(jnp.power(p,2), axis=2) + jnp.power(R,2) - jnp.power(r,2)\n",
        "  final = jnp.power(temp,2) - 4 * jnp.power(R,2) * (jnp.power(p[:,:,0], 2) + jnp.power(p[:,:,1], 2))\n",
        "\n",
        "  '''\n",
        "  # unit sphere\n",
        "  final = jnp.linalg.norm(p,ord=2,axis=2,keepdims=False) - 1\n",
        "  '''\n",
        "  return final"
      ],
      "metadata": {
        "id": "xONH8tkCkmqi"
      },
      "execution_count": null,
      "outputs": []
    },
    {
      "cell_type": "code",
      "source": [
        "'''\n",
        "Dirchlet boundary condition\n",
        "'''\n",
        "@jax.jit\n",
        "def boundaryCond(p, k):\n",
        "  '''\n",
        "  pointCharge = jnp.array([0,0,0])\n",
        "  pointCharge = jnp.tile(pointCharge, (jnp.size(p,0), 1)) # [samples, dimensions]\n",
        "  pDiff = jnp.linalg.norm(p - pointCharge, ord=2, axis=1, keepdims=False)\n",
        "  final = jnp.exp(-k * pDiff) / (4 * jnp.pi * pDiff)\n",
        "\n",
        "  pointCharge = jnp.array([4,0,0])\n",
        "  pointCharge = jnp.tile(pointCharge, (jnp.size(p,0), 1)) # [samples, dimensions]\n",
        "  pDiff = jnp.linalg.norm(p - pointCharge, ord=2, axis=1, keepdims=False)\n",
        "  final2 = jnp.exp(-k * pDiff) / (4 * jnp.pi * pDiff)\n",
        "  '''\n",
        "\n",
        "  pointCharge = jnp.array([-1,-2,1.5])\n",
        "  pointCharge = jnp.tile(pointCharge, (jnp.size(p,0), 1)) # [samples, dimensions]\n",
        "  pDiff = jnp.linalg.norm(p - pointCharge, ord=2, axis=1, keepdims=False)\n",
        "  final3 = jnp.exp(-k * pDiff) / (4 * jnp.pi * pDiff)\n",
        "  return final3"
      ],
      "metadata": {
        "id": "suaLSJRjk4Ms"
      },
      "execution_count": null,
      "outputs": []
    },
    {
      "cell_type": "code",
      "source": [
        "'''\n",
        "the true solution\n",
        "'''\n",
        "@jax.jit\n",
        "def trueSoln(p, k):\n",
        "  print(\"WARNING: using the true solution which is probably wrong\")\n",
        "  pointCharge = jnp.array(jnp.size(p,0)*[2,0,0]).reshape(jnp.size(p,0),jnp.size(p,1)) # [solutions, dimensions]\n",
        "  pDiff = jnp.linalg.norm(p - pointCharge, ord=2, axis=1)\n",
        "  return jnp.exp(-k * pDiff) / (4 * jnp.pi * pDiff)"
      ],
      "metadata": {
        "id": "bT1YwFgCk6CZ"
      },
      "execution_count": null,
      "outputs": []
    },
    {
      "cell_type": "markdown",
      "source": [
        "# Multi Root Finding"
      ],
      "metadata": {
        "id": "baG64vpHlfkn"
      }
    },
    {
      "cell_type": "code",
      "source": [
        "@jax.jit\n",
        "def bisection(p0, p1, rootSteps, dir):\n",
        "  current = jnp.zeros((1, jnp.size(p0, 1)))\n",
        "\n",
        "  def bisectionStep(i, current):\n",
        "    next = current + jnp.power(0.5, i+1)\n",
        "    dist1 = signDistance(p0 + dir * next[:,:,jnp.newaxis] * (p1 - p0))\n",
        "    dist2 = signDistance(p0 + dir * current[:,:,jnp.newaxis] * (p1 - p0))\n",
        "    return jnp.where(dist1 * dist2 > 0, next, current)\n",
        "\n",
        "  current = lax.fori_loop(0, rootSteps, bisectionStep, current)\n",
        "\n",
        "  return p0 + dir * current[:,:,jnp.newaxis] * (p1 - p0)"
      ],
      "metadata": {
        "id": "er4tg84QlPVU"
      },
      "execution_count": null,
      "outputs": []
    },
    {
      "cell_type": "code",
      "source": [
        "@partial(jax.jit, static_argnames=['uni_cuts', 'quad_cuts'])\n",
        "def createGrid(p0, p1, uni_cuts, quad_cuts):\n",
        "  lb = jnp.zeros(len(p0))\n",
        "  ub = jnp.ones(len(p1))\n",
        "  t = jnp.linspace(lb, ub, uni_cuts, axis=0)\n",
        "  return t\n",
        "  '''\n",
        "  v = jnp.abs(signDistance(p0 + t[:,:,jnp.newaxis] * (p1 - p0)))\n",
        "\n",
        "  # quad_cuts should be greater than or equal to uni_cuts? not true?\n",
        "  \n",
        "  # smart variation\n",
        "  uni_space = (ub - lb) / (uni_cuts - 1)\n",
        "  threshold = jnp.linalg.norm(p1 - p0, ord=2, axis=1) / (2 * (uni_cuts - 1))\n",
        "  n_close = jnp.count_nonzero(v < threshold, axis=0)\n",
        "  \n",
        "  spacing_amount = ((quad_cuts - uni_cuts) // n_close).astype(int) + 1\n",
        "  spacing_value = uni_space / (spacing_amount)\n",
        "\n",
        "  h = jnp.where(v < threshold, spacing_amount, 1)\n",
        "  lol = jnp.where(v < threshold, spacing_value, uni_space)\n",
        "\n",
        "  extra = quad_cuts % (n_close * spacing_amount + uni_cuts - n_close)\n",
        "  h = h.at[-1].add(extra)\n",
        "\n",
        "  lol2 = jnp.ravel(lol, order='F')\n",
        "  h2 = jnp.ravel(h, order='F')\n",
        "  xd = jnp.repeat(lol2, h2, total_repeat_length=quad_cuts * len(lb))\n",
        "  xd = jnp.reshape(xd, (quad_cuts, len(lb)), order='F')\n",
        "  xd = jnp.cumsum(xd, axis=0)\n",
        "  xd -= uni_space / 2\n",
        "  print(\"finished grid building\")\n",
        "\n",
        "  return xd\n",
        "  '''\n",
        "  "
      ],
      "metadata": {
        "id": "4gOfaDY-lSKC"
      },
      "execution_count": null,
      "outputs": []
    },
    {
      "cell_type": "code",
      "source": [
        "@partial(jax.jit, static_argnames=['ray'])\n",
        "def rootIsolate(key, p0, p1, grid, ray=False):\n",
        "  # find the roots\n",
        "  v = signDistance(p0 + grid[:,:,jnp.newaxis] * (p1 - p0))\n",
        "  v = jnp.where(v > 0, 1, -1)\n",
        "\n",
        "  # get rid of the first half of the line\n",
        "  if (ray):\n",
        "    # < : underestimate\n",
        "    # > : underestimate (but less?)\n",
        "    v = jnp.where(grid < 0.5, 10, v)\n",
        "\n",
        "  # find the roots\n",
        "  roots = v[:-1] + v[1:]\n",
        "\n",
        "  # get rid of the root closest to 0.5\n",
        "  if (not ray):\n",
        "    # BUG: HAS TO DELETE SOMETHING EVEN IF THERES NOTHING TO DELETE. fixed?\n",
        "    n_zeros = jnp.count_nonzero(roots == 0, axis=0)\n",
        "    thing_tile = jnp.abs(grid[:-1]-0.5) + 1\n",
        "    n_zeros_tile = jnp.tile(n_zeros, (jnp.size(roots, 0), 1))\n",
        "    closetomid = jnp.min((jnp.abs(roots) + 1) * thing_tile, axis=0)\n",
        "    roots = jnp.where(jnp.logical_and((jnp.abs(roots) + 1) * thing_tile == closetomid, n_zeros_tile != 0), 100, roots)\n",
        "\n",
        "  # check how many roots\n",
        "  n_zeros = jnp.count_nonzero(roots == 0, axis=0)\n",
        "  #print(\"average amount of roots on the lines:\", jnp.mean(n_zeros))\n",
        "\n",
        "  need_n_zeros = n_zeros\n",
        "  #print(\"WARNING! this many tangent lines with no roots:\", jnp.count_nonzero(n_zeros == 0))\n",
        "  \n",
        "  # when we find no roots, pick the previous one\n",
        "  #n_zeros_tile = jnp.tile(n_zeros, (jnp.size(roots, 0), 1))\n",
        "  #roots = jnp.where(jnp.logical_and(n_zeros_tile == 0, jnp.abs(roots) > 50), 0, roots)\n",
        "  #n_zeros = jnp.count_nonzero(roots == 0, axis=0)\n",
        "\n",
        "  # BUG: if there are still no roots, pick the middle of the line\n",
        "  # THIS REQUIRES THE GRID TO CONTAIN 0.5 \n",
        "  n_zeros_tile = jnp.tile(n_zeros, (jnp.size(roots, 0), 1))\n",
        "  roots = jnp.where(jnp.logical_and(n_zeros_tile == 0, grid[:-1] == 0.5), 0, roots)\n",
        "  n_zeros = jnp.count_nonzero(roots == 0, axis=0)\n",
        "\n",
        "  #print(\"this many tangent lines with no roots after the fix:\", jnp.count_nonzero(n_zeros == 0))\n",
        "\n",
        "  # randomly pick a root\n",
        "  minvals = jnp.zeros(jnp.size(grid, 1))\n",
        "  random_indices = jrandom.randint(key, (1,jnp.size(grid, 1)), minval=minvals, maxval=n_zeros)\n",
        "\n",
        "  # can speed this up by using a single for loop instead of: argsort + take_along_axis + custom_put_along_axis ?\n",
        "  roots = jnp.where(roots == 0, 0, 1)\n",
        "  all_root_indices = jnp.argsort(roots, axis=0)\n",
        "  root_indices = jnp.take_along_axis(all_root_indices, random_indices, axis=0)\n",
        "\n",
        "  lb = jnp.take_along_axis(grid, root_indices, axis=0)\n",
        "  ub = jnp.take_along_axis(grid, root_indices+1, axis=0)\n",
        "  \n",
        "  # return the roots interval\n",
        "  return lb, ub, n_zeros, need_n_zeros"
      ],
      "metadata": {
        "id": "kG2js5cLlYpg"
      },
      "execution_count": null,
      "outputs": []
    },
    {
      "cell_type": "code",
      "source": [
        "@partial(jax.jit, static_argnames=['uni_cuts', 'quad_cuts', 'ray'])\n",
        "def multiRootSearch(key, p0, p1, uni_cuts, quad_cuts, rootSteps=10, ray=False):\n",
        "  p1 = p0 + p1\n",
        "  p0 = 2*p0 - p1\n",
        "  \n",
        "  # adjust for errors with random?\n",
        "  keys = jrandom.split(key, 2)\n",
        "\n",
        "  grid = createGrid(p0, p1, uni_cuts, quad_cuts)\n",
        "  t1, t2, n_roots, need_n_zeros = rootIsolate(keys[0], p0, p1, grid, ray=ray)\n",
        "\n",
        "  root = bisection(p0 + t1[:,:,jnp.newaxis] * (p1 - p0),\n",
        "                   p0 + t2[:,:,jnp.newaxis] * (p1 - p0),\n",
        "                   rootSteps, dir=1)\n",
        "  \n",
        "  bound_sign = jnp.sign(signDistance(p0 + t1[:,:,jnp.newaxis] * (p1 - p0)))\n",
        "\n",
        "  if (not ray):\n",
        "    # fix sign for reccurent roots\n",
        "    poop = jnp.where(need_n_zeros == 0, 0, 1)\n",
        "    temp_poop = jrandom.choice(keys[1], jnp.array([-1, 1]), poop.shape)\n",
        "    bound_sign = bound_sign * poop + (1 - poop) * temp_poop\n",
        "\n",
        "    # fix sign for bracket roots\n",
        "    #print(\"WARNING! this many brackets on a root:\", jnp.count_nonzero(bound_sign == 0))\n",
        "    #temp_bound_sign = jnp.where(bound_sign == 0, 1, 0)\n",
        "    #temp_bound_sign2 = jrandom.choice(keys[2], jnp.array([-1, 1]), temp_bound_sign.shape)\n",
        "    #bound_sign = bound_sign + temp_bound_sign * temp_bound_sign2\n",
        "    #print(\"this many brackets on a root after the fix:\", jnp.count_nonzero(bound_sign == 0))\n",
        "\n",
        "  dir_sign = jnp.where(t1 < 0.5, 1, -1)\n",
        "  actual_sign = bound_sign * dir_sign\n",
        "\n",
        "  return root[0], actual_sign, n_roots"
      ],
      "metadata": {
        "id": "CgP8JX6Dli48"
      },
      "execution_count": null,
      "outputs": []
    },
    {
      "cell_type": "markdown",
      "source": [
        "# Walk on Boundary Functions"
      ],
      "metadata": {
        "id": "dm_SOyDik7I9"
      }
    },
    {
      "cell_type": "code",
      "source": [
        "'''\n",
        "run the wob and calculate the estimator\n",
        "'''\n",
        "@jax.jit\n",
        "def wob(keys, p0, p1, t, rootSteps, k):\n",
        "  running_est = jnp.zeros((len(p0))) # [samples]\n",
        "  \n",
        "  p_next, sign, n_roots = multiRootSearch(keys[0], p0, p1[0], uni_cuts=501, quad_cuts=1000, rootSteps=rootSteps, ray=True)\n",
        "  p_diff = jnp.linalg.norm(p0 - p_next, ord=2, axis=1)\n",
        "  q_next = 2 * n_roots * sign[0] * jnp.exp(-k * p_diff) * (1 + k * p_diff)\n",
        "  p_before = p_next\n",
        "\n",
        "  #plt.scatter(p_next[:,0], p_next[:,1])\n",
        "\n",
        "  for i in range(1, len(p1)):\n",
        "    running_est += boundaryCond(p_next, k) * q_next\n",
        "    \n",
        "    p_next, sign, n_roots = multiRootSearch(keys[i], p_next, p1[i], uni_cuts=501, quad_cuts=1000, rootSteps=rootSteps)\n",
        "    \n",
        "    p_diff = jnp.linalg.norm(p_before - p_next, ord=2, axis=1)\n",
        "    q_next = - n_roots * sign[0] * q_next * jnp.exp(-k * p_diff) * (1 + k * p_diff)\n",
        "    p_before = p_next\n",
        "\n",
        "  #plt.scatter(p_next[:,0], p_next[:,1])\n",
        "\n",
        "  running_est += 0.5 * boundaryCond(p_next, k) * q_next\n",
        "  return running_est"
      ],
      "metadata": {
        "id": "YhyGbctclyB-"
      },
      "execution_count": null,
      "outputs": []
    },
    {
      "cell_type": "code",
      "source": [
        "'''\n",
        "setup the wob\n",
        "'''\n",
        "def computeSoln(key, p, t=5, rootSteps=10, samples=1000, diameter=1, k=0):\n",
        "  p0 = jnp.tile(p, (samples,1)) # [samples, dimensions]\n",
        "\n",
        "  keys = jrandom.split(key, t+1)\n",
        "  # generate random directions in n-dimensions\n",
        "  p1 = jrandom.normal(keys[0], shape=(t, samples, jnp.size(p0, 1)))\n",
        "  normalize = jnp.linalg.norm(p1, ord=2, axis=2, keepdims=True)\n",
        "  p1 = diameter * jnp.divide(p1, normalize) # [jumps, dimensions, samples]\n",
        "  \n",
        "  ans = wob(keys[1:], p0, p1, t, rootSteps, k)\n",
        "\n",
        "  return jnp.mean(ans, axis=0, keepdims=True), jnp.std(ans, axis=0, keepdims=True)"
      ],
      "metadata": {
        "id": "QCKcDBY_l2gx"
      },
      "execution_count": null,
      "outputs": []
    },
    {
      "cell_type": "markdown",
      "source": [
        "# Testing"
      ],
      "metadata": {
        "id": "SJLXGsjYmUwm"
      }
    },
    {
      "cell_type": "code",
      "source": [
        "%%time\n",
        "'''\n",
        "testing code\n",
        "'''\n",
        "key = jrandom.PRNGKey(int(time.time()))\n",
        "x = jnp.array([0.1, 0.1, 0])\n",
        "\n",
        "y, sd = computeSoln(key, x, t=10, rootSteps=20, samples=10_000, diameter=2, k=0)\n",
        "print('solution:', y)\n",
        "print('std', sd)\n",
        "print('exact:', boundaryCond(jnp.array([x]), k=0))"
      ],
      "metadata": {
        "colab": {
          "base_uri": "https://localhost:8080/"
        },
        "id": "Yr-eaXq3mVzu",
        "outputId": "ceec089a-7c49-4c76-9d88-31de8ffb4ca9"
      },
      "execution_count": null,
      "outputs": [
        {
          "output_type": "stream",
          "name": "stdout",
          "text": [
            "solution: [-0.06216588]\n",
            "std [0.19857429]\n",
            "exact: [0.0283663]\n",
            "CPU times: user 12.4 s, sys: 59 ms, total: 12.5 s\n",
            "Wall time: 9.62 s\n"
          ]
        }
      ]
    },
    {
      "cell_type": "markdown",
      "source": [
        "# Data Generation"
      ],
      "metadata": {
        "id": "PaMolYwvNxso"
      }
    },
    {
      "cell_type": "code",
      "source": [
        "def generateZRingData(n_angles, radius):\n",
        "  theta = jnp.linspace(0, 2*jnp.pi, n_angles)\n",
        "\n",
        "  x = jnp.cos(theta)\n",
        "  y = jnp.sin(theta)\n",
        "\n",
        "  x = radius * x\n",
        "  y = radius * y\n",
        "  z = jnp.zeros(x.shape)\n",
        "\n",
        "  return x, y, z"
      ],
      "metadata": {
        "id": "d2Gfrkg-fXJr"
      },
      "execution_count": null,
      "outputs": []
    },
    {
      "cell_type": "code",
      "source": [
        "def generateYRingData(n_angles, radius, offset):\n",
        "  theta = jnp.linspace(0, jnp.pi, n_angles)\n",
        "\n",
        "  x = jnp.cos(theta)\n",
        "  z = jnp.sin(theta)\n",
        "\n",
        "  x = radius * x + offset\n",
        "  z = radius * z\n",
        "  y = jnp.zeros(x.shape)\n",
        "\n",
        "  return x, y, z"
      ],
      "metadata": {
        "id": "GvC8qs8zf1Y1"
      },
      "execution_count": null,
      "outputs": []
    },
    {
      "cell_type": "code",
      "source": [
        "def generateXRingData(n_angles, radius, offset, theta):\n",
        "  R = 2\n",
        "  phi = jnp.linspace(0, 2*jnp.pi, n_angles)\n",
        "\n",
        "  x = (R + radius * jnp.cos(phi)) * jnp.cos(theta)\n",
        "  y = (R + radius * jnp.cos(phi)) * jnp.sin(theta)\n",
        "  z = radius * jnp.sin(phi)\n",
        "\n",
        "  #-----------------\n",
        "\n",
        "  #theta = jnp.linspace(0, jnp.pi, n_angles)\n",
        "\n",
        "  #y = jnp.cos(theta)\n",
        "  #z = jnp.sin(theta)\n",
        "\n",
        "  #y = radius * y + offset\n",
        "  #z = radius * z\n",
        "  #x = jnp.zeros(y.shape)\n",
        "\n",
        "  return x, y, z"
      ],
      "metadata": {
        "id": "_7ebbDPn6RYz"
      },
      "execution_count": null,
      "outputs": []
    },
    {
      "cell_type": "code",
      "source": [
        "def generateRandomData(key):\n",
        "  dimensions = 3\n",
        "  size = 20000\n",
        "  key = jrandom.PRNGKey(0)\n",
        "  points = jrandom.uniform(key, minval=-1, maxval=1, shape=(size, dimensions))\n",
        "  indices = jnp.where(signDistance(jnp.array([points])) < 0)\n",
        "  print('kept', len(points[indices[1]]), 'out of', len(points))\n",
        "  points = points[indices[1]]\n",
        "  \n",
        "  return points"
      ],
      "metadata": {
        "id": "QXcT2shVrw9i"
      },
      "execution_count": null,
      "outputs": []
    },
    {
      "cell_type": "code",
      "source": [
        "def computeMany(keys, points):\n",
        "  results = np.empty(len(points))\n",
        "  error = np.empty(len(points))\n",
        "  for i in range(len(points)):\n",
        "    mean, sd = computeSoln(keys[i], points[i], t=2, rootSteps=20, samples=10_000, diameter=6, k=1)\n",
        "    exact = boundaryCond(jnp.array([points[i]]), k=1)\n",
        "\n",
        "    results[i] = mean\n",
        "    error[i] = jnp.abs(exact - mean)\n",
        "\n",
        "  return results, error"
      ],
      "metadata": {
        "id": "QtvbbgO4kUIF"
      },
      "execution_count": null,
      "outputs": []
    },
    {
      "cell_type": "markdown",
      "source": [
        "# Trash graphing"
      ],
      "metadata": {
        "id": "Ix2HUFyHpvIQ"
      }
    },
    {
      "cell_type": "code",
      "source": [
        "def getLinesAndColors(key, radius_list, n_angles, offset, theta, horizontal=False):\n",
        "  x = []\n",
        "  y = []\n",
        "  z = []\n",
        "  results = []\n",
        "\n",
        "  keys = jrandom.split(key, n_angles * len(radius_list))\n",
        "  key_counter = 0\n",
        "\n",
        "  for radius in radius_list:\n",
        "    if horizontal:\n",
        "      x_temp, y_temp, z_temp = generateZRingData(n_angles=n_angles, radius=radius)\n",
        "    else:\n",
        "      x_temp, y_temp, z_temp = generateXRingData(n_angles=n_angles, radius=radius, offset=offset, theta=theta)\n",
        "\n",
        "    points = jnp.column_stack((x_temp, y_temp, z_temp))\n",
        "    results_temp, error = computeMany(keys[key_counter:key_counter+n_angles], points)\n",
        "    key_counter += n_angles\n",
        "\n",
        "    results.append(results_temp)\n",
        "    x.append(x_temp)\n",
        "    y.append(y_temp)\n",
        "    z.append(z_temp)\n",
        "\n",
        "  return x, y, z, results"
      ],
      "metadata": {
        "id": "KrcCB6y3r-YL"
      },
      "execution_count": null,
      "outputs": []
    },
    {
      "cell_type": "code",
      "source": [
        "def graphSlice(ax, x, y, z, results, c1, c2):\n",
        "  for i in range(len(x)):\n",
        "    for j in range(jnp.size(x,1)-1):\n",
        "      #color_value = (np.mean(results[i][j:j+1]) - c1) / c2\n",
        "      color_value = 200*np.mean(results[i][j:j+1])\n",
        "      color_value = np.clip(color_value, 0, 1)\n",
        "      #print(color_value)\n",
        "      color = (1-color_value, 0, color_value)\n",
        "      ax.plot3D((x[i][j], x[i][j+1]), (y[i][j], y[i][j+1]), (z[i][j], z[i][j+1]), c=color)"
      ],
      "metadata": {
        "id": "C4ruMpeJzQir"
      },
      "execution_count": null,
      "outputs": []
    },
    {
      "cell_type": "code",
      "source": [
        "key = jrandom.PRNGKey(1)\n",
        "big_keys = jrandom.split(key, 3)\n",
        "\n",
        "#radius_list = np.linspace(0.1, 0.9, 5)\n",
        "#x1, y1, z1, results1 = getLinesAndColors(big_keys[0], radius_list, n_angles=10, offset=2, theta=0)\n",
        "#x2, y2, z2, results2 = getLinesAndColors(big_keys[1], radius_list, n_angles=20, offset=-2)\n",
        "\n",
        "#radius_list = np.linspace(1.1, 2.9, 20)\n",
        "#x3, y3, z3, results3 = getLinesAndColors(big_keys[2], radius_list, n_angles=40, offset=0, horizontal=True)"
      ],
      "metadata": {
        "id": "Lt3oayVXz_Pr"
      },
      "execution_count": null,
      "outputs": []
    },
    {
      "cell_type": "code",
      "source": [
        "ax = plt.axes(projection='3d')\n",
        "#ax.view_init(40, -70)\n",
        "ax.view_init(50, 15)\n",
        "ax.set_xlim(-3,3)\n",
        "ax.set_ylim(-3,3)\n",
        "ax.set_zlim(-1,1)\n",
        "#c1 = np.amin((np.amin(results1), np.amin(results2), np.amin(results3)))\n",
        "#c2 = np.amax((np.amax(results1 - c1), np.amax(results2 - c1), np.amax(results3 - c1)))\n",
        "radius_list = np.linspace(0.1, 0.9, 5)\n",
        "x1, y1, z1, results1 = getLinesAndColors(big_keys[0], radius_list, n_angles=10, offset=2, theta=2*30*jnp.pi/180)\n",
        "c1 = np.amin(results1)\n",
        "c2 = np.amax(results1 - c1)\n",
        "\n",
        "#ax.scatter3D(0,0,0, c='g')\n",
        "\n",
        "#graphSlice(ax, x3, y3, z3, results3, c1, c2)\n",
        "graphSlice(ax, x1, y1, z1, results1, c1, c2)\n",
        "#graphSlice(ax, x2, y2, z2, results2, c1, c2)\n",
        "\n",
        "from google.colab import files\n",
        "plt.savefig(\"new_torus_soln_slice.png\", dpi=300)\n",
        "files.download(\"new_torus_soln_slice.png\") "
      ],
      "metadata": {
        "colab": {
          "base_uri": "https://localhost:8080/",
          "height": 265
        },
        "id": "hqBFElm-tyns",
        "outputId": "7f5797cb-8bb4-404e-a6d0-a26fc8e9fb80"
      },
      "execution_count": null,
      "outputs": [
        {
          "output_type": "display_data",
          "data": {
            "text/plain": [
              "<IPython.core.display.Javascript object>"
            ],
            "application/javascript": [
              "\n",
              "    async function download(id, filename, size) {\n",
              "      if (!google.colab.kernel.accessAllowed) {\n",
              "        return;\n",
              "      }\n",
              "      const div = document.createElement('div');\n",
              "      const label = document.createElement('label');\n",
              "      label.textContent = `Downloading \"${filename}\": `;\n",
              "      div.appendChild(label);\n",
              "      const progress = document.createElement('progress');\n",
              "      progress.max = size;\n",
              "      div.appendChild(progress);\n",
              "      document.body.appendChild(div);\n",
              "\n",
              "      const buffers = [];\n",
              "      let downloaded = 0;\n",
              "\n",
              "      const channel = await google.colab.kernel.comms.open(id);\n",
              "      // Send a message to notify the kernel that we're ready.\n",
              "      channel.send({})\n",
              "\n",
              "      for await (const message of channel.messages) {\n",
              "        // Send a message to notify the kernel that we're ready.\n",
              "        channel.send({})\n",
              "        if (message.buffers) {\n",
              "          for (const buffer of message.buffers) {\n",
              "            buffers.push(buffer);\n",
              "            downloaded += buffer.byteLength;\n",
              "            progress.value = downloaded;\n",
              "          }\n",
              "        }\n",
              "      }\n",
              "      const blob = new Blob(buffers, {type: 'application/binary'});\n",
              "      const a = document.createElement('a');\n",
              "      a.href = window.URL.createObjectURL(blob);\n",
              "      a.download = filename;\n",
              "      div.appendChild(a);\n",
              "      a.click();\n",
              "      div.remove();\n",
              "    }\n",
              "  "
            ]
          },
          "metadata": {}
        },
        {
          "output_type": "display_data",
          "data": {
            "text/plain": [
              "<IPython.core.display.Javascript object>"
            ],
            "application/javascript": [
              "download(\"download_47560880-025b-4bb2-8bb7-c8d123371708\", \"new_torus_soln_slice.png\", 241482)"
            ]
          },
          "metadata": {}
        },
        {
          "output_type": "display_data",
          "data": {
            "text/plain": [
              "<Figure size 432x288 with 1 Axes>"
            ],
            "image/png": "[encoded data removed]"
          },
          "metadata": {
            "needs_background": "light"
          }
        }
      ]
    },
    {
      "cell_type": "markdown",
      "source": [
        "# Error"
      ],
      "metadata": {
        "id": "z3ngEAP2N10m"
      }
    },
    {
      "cell_type": "code",
      "source": [
        "def testSamples(key, point, all_samples):\n",
        "  results = np.empty(len(all_samples))\n",
        "  error = np.empty(len(all_samples))\n",
        "  for i in range(len(all_samples)):\n",
        "    k = 0\n",
        "    mean, sd = computeSoln(key[i], point, t=3, rootSteps=20, samples=all_samples[i], diameter=6, k=k)\n",
        "    exact = boundaryCond(jnp.array([point]), k=k)\n",
        "\n",
        "    results[i] = mean\n",
        "    error[i] = exact - mean\n",
        "\n",
        "\n",
        "  return results, error"
      ],
      "metadata": {
        "id": "yCemuU3HOCJh"
      },
      "execution_count": null,
      "outputs": []
    },
    {
      "cell_type": "code",
      "source": [
        "#point = jnp.array([0.5, 0, 0])\n",
        "#samples = jnp.array([10_000, 20_000, 30_000, 40_000, 50_000, 60_000, 70_000, 80_000, 90_000, 100_000])\n",
        "#samples = jnp.array(50*[100_000])\n",
        "\n",
        "#key = jrandom.PRNGKey(int(time.time()))\n",
        "#keys = jrandom.split(key, len(samples))\n",
        "\n",
        "#results, error = testSamples(keys, point, samples)"
      ],
      "metadata": {
        "id": "JhDHWXBKQvR6"
      },
      "execution_count": null,
      "outputs": []
    },
    {
      "cell_type": "code",
      "source": [
        "#plt.plot(samples, error)\n",
        "#plt.plot(jnp.arange(len(error)), error)\n",
        "#plt.axhline(c='r')\n",
        "#plt.xscale(\"log\")\n",
        "\n",
        "#from google.colab import files\n",
        "#plt.savefig(\"50_tries_wob_k1_t2.png\", dpi=500)\n",
        "#files.download(\"50_tries_wob_k1_t2.png\") "
      ],
      "metadata": {
        "id": "2SSeQCC8RmLW"
      },
      "execution_count": null,
      "outputs": []
    },
    {
      "cell_type": "markdown",
      "source": [
        "# Graphing"
      ],
      "metadata": {
        "id": "qtRYpIMmvjS0"
      }
    },
    {
      "cell_type": "code",
      "source": [
        "#ax = plt.axes(projection='3d')\n",
        "#ax.view_init(40, 60)\n",
        "#p = ax.scatter3D(points[:,0], points[:,1], points[:,2], c=error)\n",
        "#p = ax.scatter3D(points[:,0], points[:,1], points[:,2])\n",
        "#plt.colorbar(p)\n",
        "\n",
        "#from google.colab import files\n",
        "#plt.savefig(\"wob_soln_torus_k1_t2.png\", dpi=500)\n",
        "#files.download(\"wob_soln_torus_k1_t2.png\") "
      ],
      "metadata": {
        "id": "PzYDqCvPkQIH"
      },
      "execution_count": null,
      "outputs": []
    }
  ]
}