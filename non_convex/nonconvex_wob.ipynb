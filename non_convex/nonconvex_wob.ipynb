{
  "nbformat": 4,
  "nbformat_minor": 0,
  "metadata": {
    "colab": {
      "name": "nonconvex_test.ipynb",
      "provenance": [],
      "collapsed_sections": [
        "dPgP0UXXlBto"
      ],
      "authorship_tag": "ABX9TyP20p9BN+HvcgygoVvkMr6s",
      "include_colab_link": true
    },
    "kernelspec": {
      "name": "python3",
      "display_name": "Python 3"
    },
    "language_info": {
      "name": "python"
    },
    "gpuClass": "standard"
  },
  "cells": [
    {
      "cell_type": "markdown",
      "metadata": {
        "id": "view-in-github",
        "colab_type": "text"
      },
      "source": [
        "<a href=\"https://colab.research.google.com/github/AmandinChyba/Project1-Fields-2022/blob/main/non_convex/nonconvex_wob.ipynb\" target=\"_parent\"><img src=\"https://colab.research.google.com/assets/colab-badge.svg\" alt=\"Open In Colab\"/></a>"
      ]
    },
    {
      "cell_type": "code",
      "execution_count": 109,
      "metadata": {
        "id": "XlewCCTWHVuF"
      },
      "outputs": [],
      "source": [
        "import jax\n",
        "from jax import lax\n",
        "import jax.random as jrandom\n",
        "import jax.numpy as jnp\n",
        "import numpy as np\n",
        "import time\n",
        "import matplotlib.pyplot as plt\n",
        "from functools import partial"
      ]
    },
    {
      "cell_type": "markdown",
      "source": [
        "# Utility Functions"
      ],
      "metadata": {
        "id": "dkkFdQqak07c"
      }
    },
    {
      "cell_type": "code",
      "source": [
        "'''\n",
        "signed distance function of the domain\n",
        "'''\n",
        "@jax.jit\n",
        "def signDistance(p): # [cuts, samples, dimensions]\n",
        "  R = 2\n",
        "  r = 1\n",
        "  temp = jnp.sum(jnp.power(p,2), axis=2) + jnp.power(R,2) - jnp.power(r,2)\n",
        "  final = jnp.power(temp,2) - 4 * jnp.power(R,2) * (jnp.power(p[:,:,0], 2) + jnp.power(p[:,:,1], 2))\n",
        "  return final\n",
        "  #return jnp.linalg.norm(p,ord=2,axis=2,keepdims=False) - 1 # unit sphere"
      ],
      "metadata": {
        "id": "xONH8tkCkmqi"
      },
      "execution_count": 110,
      "outputs": []
    },
    {
      "cell_type": "code",
      "source": [
        "'''\n",
        "Dirchlet boundary condition\n",
        "'''\n",
        "@jax.jit\n",
        "def boundaryCond(p, k):\n",
        "  pointCharge = jnp.array([0,0,0])\n",
        "  pointCharge = jnp.tile(pointCharge, (jnp.size(p,0), 1)) # [samples, dimensions]\n",
        "  pDiff = jnp.linalg.norm(p - pointCharge, ord=2, axis=1, keepdims=False)\n",
        "  return jnp.exp(-k * pDiff) / (4 * jnp.pi * pDiff)"
      ],
      "metadata": {
        "id": "suaLSJRjk4Ms"
      },
      "execution_count": 111,
      "outputs": []
    },
    {
      "cell_type": "code",
      "source": [
        "'''\n",
        "the true solution\n",
        "'''\n",
        "@jax.jit\n",
        "def trueSoln(p, k):\n",
        "  pointCharge = jnp.array(jnp.size(p,0)*[0,0,0]).reshape(jnp.size(p,0),jnp.size(p,1)) # [solutions, dimensions]\n",
        "  pDiff = jnp.linalg.norm(p - pointCharge, ord=2, axis=1)\n",
        "  return jnp.exp(-k * pDiff) / (4 * jnp.pi * pDiff)"
      ],
      "metadata": {
        "id": "bT1YwFgCk6CZ"
      },
      "execution_count": 112,
      "outputs": []
    },
    {
      "cell_type": "markdown",
      "source": [
        "# Multi Root Finding"
      ],
      "metadata": {
        "id": "baG64vpHlfkn"
      }
    },
    {
      "cell_type": "code",
      "source": [
        "@jax.jit\n",
        "def bisection(p0, p1, rootSteps, dir):\n",
        "  current = jnp.zeros((1, jnp.size(p0, 1)))\n",
        "\n",
        "  def bisectionStep(i, current):\n",
        "    next = current + jnp.power(0.5, i+1)\n",
        "    dist1 = signDistance(p0 + dir * next[:,:,jnp.newaxis] * (p1 - p0))\n",
        "    dist2 = signDistance(p0 + dir * current[:,:,jnp.newaxis] * (p1 - p0))\n",
        "    return jnp.where(dist1 * dist2 > 0, next, current)\n",
        "\n",
        "  current = lax.fori_loop(0, rootSteps, bisectionStep, current)\n",
        "  \n",
        "  return p0 + dir * current[:,:,jnp.newaxis] * (p1 - p0)"
      ],
      "metadata": {
        "id": "er4tg84QlPVU"
      },
      "execution_count": 113,
      "outputs": []
    },
    {
      "cell_type": "code",
      "source": [
        "@partial(jax.jit, static_argnames=['uni_cuts', 'quad_cuts'])\n",
        "def createGrid(p0, p1, uni_cuts, quad_cuts):\n",
        "  lb = jnp.zeros(len(p0))\n",
        "  ub = jnp.ones(len(p1))\n",
        "  t = jnp.linspace(lb, ub, uni_cuts, axis=0)\n",
        "  return t\n",
        "  '''\n",
        "  v = jnp.abs(signDistance(p0 + t[:,:,jnp.newaxis] * (p1 - p0)))\n",
        "\n",
        "  # quad_cuts should be greater than or equal to uni_cuts? not true?\n",
        "  \n",
        "  # smart variation\n",
        "  uni_space = (ub - lb) / (uni_cuts - 1)\n",
        "  threshold = jnp.linalg.norm(p1 - p0, ord=2, axis=1) / (2 * (uni_cuts - 1))\n",
        "  n_close = jnp.count_nonzero(v < threshold, axis=0)\n",
        "  \n",
        "  spacing_amount = ((quad_cuts - uni_cuts) // n_close).astype(int) + 1\n",
        "  spacing_value = uni_space / (spacing_amount)\n",
        "\n",
        "  h = jnp.where(v < threshold, spacing_amount, 1)\n",
        "  lol = jnp.where(v < threshold, spacing_value, uni_space)\n",
        "\n",
        "  extra = quad_cuts % (n_close * spacing_amount + uni_cuts - n_close)\n",
        "  h = h.at[-1].add(extra)\n",
        "\n",
        "  lol2 = jnp.ravel(lol, order='F')\n",
        "  h2 = jnp.ravel(h, order='F')\n",
        "  xd = jnp.repeat(lol2, h2, total_repeat_length=quad_cuts * len(lb))\n",
        "  xd = jnp.reshape(xd, (quad_cuts, len(lb)), order='F')\n",
        "  xd = jnp.cumsum(xd, axis=0)\n",
        "  xd -= uni_space / 2\n",
        "  print(\"finished grid building\")\n",
        "\n",
        "  return xd\n",
        "  '''\n",
        "  "
      ],
      "metadata": {
        "id": "4gOfaDY-lSKC"
      },
      "execution_count": 114,
      "outputs": []
    },
    {
      "cell_type": "code",
      "source": [
        "@partial(jax.jit, static_argnames=['ray'])\n",
        "def rootIsolate(key, p0, p1, grid, ray=False):\n",
        "  # find the roots\n",
        "  v = signDistance(p0 + grid[:,:,jnp.newaxis] * (p1 - p0))\n",
        "  v = jnp.where(v > 0, 1, -1)\n",
        "\n",
        "  # get rid of the first half of the line\n",
        "  if (ray):\n",
        "    v = jnp.where(grid < 0.5, 30, v)\n",
        "\n",
        "  # find the roots\n",
        "  roots = v[:-1] + v[1:]\n",
        "\n",
        "  # get rid of the root closest to 0.5\n",
        "  if (not ray):\n",
        "    #thing = jnp.abs(jnp.linspace(-1, 1, len(grid)-1)) + 1\n",
        "    thing_tiled = jnp.abs(grid-0.5) + 1\n",
        "    #thing_tiled = jnp.tile(thing, (jnp.size(roots, 1), 1)).T\n",
        "    closetomid = jnp.min((jnp.abs(roots) + 1) * thing_tiled[:-1], axis=0)\n",
        "    roots = jnp.where((jnp.abs(roots) + 1) * thing_tiled[:-1] == closetomid, 200, roots)\n",
        "\n",
        "  # check how many roots\n",
        "  n_zeros = jnp.count_nonzero(roots == 0, axis=0)\n",
        "  #print(\"average amount of roots on the lines:\", jnp.mean(n_zeros))\n",
        "\n",
        "  need_n_zeros = n_zeros\n",
        "  #print(\"WARNING! this many tangent lines with no roots:\", jnp.count_nonzero(n_zeros == 0))\n",
        "\n",
        "  # when we find no roots, pick the previous one\n",
        "  n_zeros_tile = jnp.tile(n_zeros, (jnp.size(roots, 0), 1))\n",
        "  roots = jnp.where(jnp.logical_and(n_zeros_tile == 0, roots > 80), 0, roots)\n",
        "  n_zeros = jnp.count_nonzero(roots == 0, axis=0)\n",
        "\n",
        "  # randomly pick a root\n",
        "  minvals = jnp.zeros(jnp.size(grid, 1))\n",
        "  random_indices = jrandom.randint(key, (1,jnp.size(grid, 1)), minval=minvals, maxval=n_zeros)\n",
        "\n",
        "  # can speed this up by using a single for loop instead of: argsort + take_along_axis + custom_put_along_axis ?\n",
        "  roots = jnp.where(roots == 0, 0, 1)\n",
        "  all_root_indices = jnp.argsort(roots, axis=0)\n",
        "  root_indices = jnp.take_along_axis(all_root_indices, random_indices, axis=0)\n",
        "\n",
        "  lb = jnp.take_along_axis(grid, root_indices, axis=0)\n",
        "  ub = jnp.take_along_axis(grid, root_indices+1, axis=0)\n",
        "  \n",
        "  # return the roots interval\n",
        "  return lb, ub, n_zeros, need_n_zeros"
      ],
      "metadata": {
        "id": "kG2js5cLlYpg"
      },
      "execution_count": 115,
      "outputs": []
    },
    {
      "cell_type": "code",
      "source": [
        "@partial(jax.jit, static_argnames=['uni_cuts', 'quad_cuts', 'ray'])\n",
        "def multiRootSearch(key, p0, p1, old_sign, uni_cuts, quad_cuts, rootSteps=10, ray=False):\n",
        "  p0 = 2*p0 - p1\n",
        "\n",
        "  grid = createGrid(p0, p1, uni_cuts, quad_cuts)\n",
        "  t1, t2, n_roots, need_n_zeros = rootIsolate(key, p0, p1, grid, ray=ray)\n",
        "\n",
        "  #if (ray):\n",
        "  #  print(\"must be greater than 0.5 because its a ray:\", jnp.min(t1))\n",
        "\n",
        "  root = bisection(p0 + t1[:,:,jnp.newaxis] * (p1 - p0),\n",
        "                   p0 + t2[:,:,jnp.newaxis] * (p1 - p0),\n",
        "                   rootSteps, dir=1)\n",
        "  \n",
        "  bound_sign = jnp.sign(signDistance(p0 + t1[:,:,jnp.newaxis] * (p1 - p0)))\n",
        "\n",
        "  #print(\"WARNING! the bracket is on a root:\", jnp.count_nonzero(bound_sign == 0))\n",
        "\n",
        "  '''\n",
        "  if (not ray):\n",
        "    # fix for reccurent roots\n",
        "    poop = jnp.where(need_n_zeros == 0, 1, 0)\n",
        "    bound_sign = bound_sign - poop * old_sign\n",
        "\n",
        "    # fix for bracket roots\n",
        "    temp_bound_sign = jnp.where(bound_sign == 0, 1, 0)\n",
        "    bound_sign = bound_sign - temp_bound_sign * old_sign\n",
        "  '''\n",
        "\n",
        "  dir_sign = jnp.where(t1 < 0.5, 1, -1)\n",
        "  actual_sign = bound_sign * dir_sign\n",
        "\n",
        "  return root[0], actual_sign, n_roots"
      ],
      "metadata": {
        "id": "CgP8JX6Dli48"
      },
      "execution_count": 116,
      "outputs": []
    },
    {
      "cell_type": "markdown",
      "source": [
        "# Walk on Boundary Functions"
      ],
      "metadata": {
        "id": "dm_SOyDik7I9"
      }
    },
    {
      "cell_type": "code",
      "source": [
        "'''\n",
        "run the wob and calculate the estimator\n",
        "'''\n",
        "@jax.jit\n",
        "def wob(keys, p0, p1, t, rootSteps, k):\n",
        "  running_est = jnp.zeros((len(p0))) # [samples]\n",
        "  \n",
        "  p_next, sign, n_roots = multiRootSearch(keys[0], p0, p1[0], None, uni_cuts=1001, quad_cuts=1000, rootSteps=rootSteps, ray=True)\n",
        "  p_diff = jnp.linalg.norm(p0 - p_next, ord=2, axis=1)\n",
        "  q_next = 2 * n_roots * sign[0] * jnp.exp(-k * p_diff) * (1 + k * p_diff)\n",
        "  p_before = p_next\n",
        "\n",
        "  for i in range(1, len(p1)):\n",
        "    running_est += boundaryCond(p_next, k) * q_next\n",
        "    \n",
        "    p_next, sign, n_roots = multiRootSearch(keys[i], p_next, p1[i], sign, uni_cuts=1001, quad_cuts=1000, rootSteps=rootSteps)\n",
        "    \n",
        "    p_diff = jnp.linalg.norm(p_before - p_next, ord=2, axis=1)\n",
        "    q_next = - n_roots * sign[0] * q_next * jnp.exp(-k * p_diff) * (1 + k * p_diff)\n",
        "    p_before = p_next\n",
        "\n",
        "  running_est += 0.5 * boundaryCond(p_next, k) * q_next\n",
        "  return running_est"
      ],
      "metadata": {
        "id": "YhyGbctclyB-"
      },
      "execution_count": 117,
      "outputs": []
    },
    {
      "cell_type": "code",
      "source": [
        "'''\n",
        "setup the wob\n",
        "'''\n",
        "def computeSoln(key, p, t=10, rootSteps=10, samples=1000, diameter=1, k=0):\n",
        "  p0 = jnp.tile(p, (samples,1)) # [samples, dimensions]\n",
        "\n",
        "  keys = jrandom.split(key, t+1)\n",
        "  # generate random directions in n-dimensions\n",
        "  p1 = jrandom.normal(keys[0], shape=(t, samples, jnp.size(p0, 1)))\n",
        "  normalize = jnp.linalg.norm(p1, ord=2, axis=2, keepdims=True)\n",
        "  p1 = diameter * jnp.divide(p1, normalize) # [jumps, dimensions, samples]\n",
        "  \n",
        "  ans = wob(keys[1:], p0, p1, t, rootSteps, k)\n",
        "  return jnp.mean(ans, axis=0, keepdims=True), jnp.std(ans, axis=0, keepdims=True)"
      ],
      "metadata": {
        "id": "QCKcDBY_l2gx"
      },
      "execution_count": 118,
      "outputs": []
    },
    {
      "cell_type": "markdown",
      "source": [
        "# Testing"
      ],
      "metadata": {
        "id": "SJLXGsjYmUwm"
      }
    },
    {
      "cell_type": "code",
      "source": [
        "%%time\n",
        "'''\n",
        "testing code\n",
        "'''\n",
        "key = jrandom.PRNGKey(int(time.time()))\n",
        "x = jnp.array([1.1, 0, 0])\n",
        "\n",
        "y, sd = computeSoln(key, x, t=2, rootSteps=20, samples=10000, diameter=6, k=1)\n",
        "print('solution:', y)\n",
        "print('std', sd)\n",
        "print('exact:', boundaryCond(jnp.array([x]), k=1))"
      ],
      "metadata": {
        "colab": {
          "base_uri": "https://localhost:8080/"
        },
        "id": "Yr-eaXq3mVzu",
        "outputId": "7e12b646-ce02-441c-a65d-64a76555cb83"
      },
      "execution_count": 119,
      "outputs": [
        {
          "output_type": "stream",
          "name": "stdout",
          "text": [
            "solution: [0.02727245]\n",
            "std [0.05638774]\n",
            "exact: [0.02408094]\n",
            "CPU times: user 2.57 s, sys: 22.4 ms, total: 2.59 s\n",
            "Wall time: 2.42 s\n"
          ]
        }
      ]
    },
    {
      "cell_type": "markdown",
      "source": [
        "# Graphing"
      ],
      "metadata": {
        "id": "qtRYpIMmvjS0"
      }
    },
    {
      "cell_type": "code",
      "source": [
        "def generateData():\n",
        "  theta = jnp.linspace(0, 2*jnp.pi, 20, endpoint=False)\n",
        "  radius = jnp.linspace(1, 3, 10)\n",
        "\n",
        "  x = jnp.cos(theta)\n",
        "  y = jnp.sin(theta)\n",
        "\n",
        "  x = radius * jnp.tile(x, (len(radius), 1)).T\n",
        "  y = radius * jnp.tile(y, (len(radius), 1)).T\n",
        "\n",
        "  x = jnp.ravel(x)\n",
        "  y = jnp.ravel(y)\n",
        "  z = jnp.zeros(len(x))\n",
        "  points = jnp.column_stack((x,y,z))\n",
        "  return points"
      ],
      "metadata": {
        "id": "d2Gfrkg-fXJr"
      },
      "execution_count": 120,
      "outputs": []
    },
    {
      "cell_type": "code",
      "source": [
        "def generateRandomData(key):\n",
        "  dimensions = 3\n",
        "  samples = 10000\n",
        "  key = jrandom.PRNGKey(0)\n",
        "  points = jrandom.uniform(key, minval=-3, maxval=3, shape=(samples, dimensions))\n",
        "  indices = jnp.where(signDistance(jnp.array([points])) < 0)\n",
        "  print('kept', len(points[indices[1]]), 'out of', len(points))\n",
        "  points = points[indices[1]]\n",
        "  \n",
        "  return points"
      ],
      "metadata": {
        "id": "QXcT2shVrw9i"
      },
      "execution_count": 121,
      "outputs": []
    },
    {
      "cell_type": "code",
      "source": [
        "def computeMany(key, points):\n",
        "  results = np.empty(len(points))\n",
        "  error = np.empty(len(points))\n",
        "  for i in range(len(points)):\n",
        "    mean, sd = computeSoln(keys[i], points[i], t=2, rootSteps=20, samples=10000, diameter=6, k=1)\n",
        "    exact = boundaryCond(jnp.array([points[i]]), k=1)\n",
        "\n",
        "    results[i] = mean\n",
        "    error[i] = jnp.abs(exact - mean)\n",
        "\n",
        "  return results, error"
      ],
      "metadata": {
        "id": "QtvbbgO4kUIF"
      },
      "execution_count": 122,
      "outputs": []
    },
    {
      "cell_type": "code",
      "source": [
        "key = jrandom.PRNGKey(2)\n",
        "keys = jrandom.split(key, 2)\n",
        "points = generateRandomData(key[0])\n",
        "results, error = computeMany(key[1], points)"
      ],
      "metadata": {
        "colab": {
          "base_uri": "https://localhost:8080/"
        },
        "id": "KrcCB6y3r-YL",
        "outputId": "70ae9e17-3f33-4675-adc9-e0855be08888"
      },
      "execution_count": 123,
      "outputs": [
        {
          "output_type": "stream",
          "name": "stdout",
          "text": [
            "kept 1864 out of 10000\n"
          ]
        }
      ]
    },
    {
      "cell_type": "code",
      "source": [
        "print(jnp.mean(error))"
      ],
      "metadata": {
        "colab": {
          "base_uri": "https://localhost:8080/"
        },
        "id": "qTMHX_39ms4-",
        "outputId": "3623fe36-1661-42fb-cc56-c9c82d59313a"
      },
      "execution_count": 124,
      "outputs": [
        {
          "output_type": "stream",
          "name": "stdout",
          "text": [
            "0.001989807\n"
          ]
        }
      ]
    },
    {
      "cell_type": "code",
      "source": [
        "ax = plt.axes(projection='3d')\n",
        "ax.view_init(70, 50)\n",
        "p = ax.scatter3D(points[:,0], points[:,1], points[:,2], c=results)\n",
        "plt.colorbar(p)"
      ],
      "metadata": {
        "colab": {
          "base_uri": "https://localhost:8080/",
          "height": 266
        },
        "id": "PzYDqCvPkQIH",
        "outputId": "e8d89f16-bb75-41f0-e0b5-b030fb8dee02"
      },
      "execution_count": 127,
      "outputs": [
        {
          "output_type": "execute_result",
          "data": {
            "text/plain": [
              "<matplotlib.colorbar.Colorbar at 0x7eff7dc9fad0>"
            ]
          },
          "metadata": {},
          "execution_count": 127
        },
        {
          "output_type": "display_data",
          "data": {
            "text/plain": [
              "<Figure size 432x288 with 2 Axes>"
            ],
            "image/png": "[encoded data removed]"
          },
          "metadata": {
            "needs_background": "light"
          }
        }
      ]
    }
  ]
}