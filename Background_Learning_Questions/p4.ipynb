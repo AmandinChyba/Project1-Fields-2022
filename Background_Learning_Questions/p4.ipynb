{
  "nbformat": 4,
  "nbformat_minor": 0,
  "metadata": {
    "colab": {
      "name": "FUSRP Problem 4.ipynb",
      "provenance": [],
      "include_colab_link": true
    },
    "kernelspec": {
      "name": "python3",
      "display_name": "Python 3"
    },
    "language_info": {
      "name": "python"
    }
  },
  "cells": [
    {
      "cell_type": "markdown",
      "metadata": {
        "id": "view-in-github",
        "colab_type": "text"
      },
      "source": [
        "<a href=\"https://colab.research.google.com/github/AmandinChyba/Project1-Fields-2022/blob/main/Background_Learning_Questions/p4.ipynb\" target=\"_parent\"><img src=\"https://colab.research.google.com/assets/colab-badge.svg\" alt=\"Open In Colab\"/></a>"
      ]
    },
    {
      "cell_type": "code",
      "execution_count": null,
      "metadata": {
        "id": "mMDMeGotSvL0"
      },
      "outputs": [],
      "source": [
        "# imports\n",
        "import jax\n",
        "import jax.numpy as jnp\n",
        "import time\n",
        "import math"
      ]
    },
    {
      "cell_type": "code",
      "source": [
        "# part 1\n",
        "# f(x) = exp(-10|x|) for x in [-1, 1]\n",
        "\n",
        "def compute(N: int, chebyshev=False):\n",
        "  # place nodes\n",
        "  nodes = jnp.arange(N+1)\n",
        "  if not chebyshev:\n",
        "    nodes = -1 + (2 * nodes / N)\n",
        "  else:\n",
        "    nodes = jnp.cos(math.pi * nodes / N)\n",
        "\n",
        "  # compute lambda_n\n",
        "  diffs = nodes - nodes[jnp.newaxis].T\n",
        "  diffs = diffs[~jnp.eye(nodes.shape[0], dtype=bool)].reshape(nodes.shape[0], -1)\n",
        "  lambda_n = jnp.prod(diffs, axis=1)\n",
        "  "
      ],
      "metadata": {
        "id": "Gb6Sk32tTAiR"
      },
      "execution_count": null,
      "outputs": []
    },
    {
      "cell_type": "code",
      "source": [
        "# run\n",
        "N = 8\n",
        "compute(N)"
      ],
      "metadata": {
        "colab": {
          "base_uri": "https://localhost:8080/"
        },
        "id": "ELXlRggrXkyZ",
        "outputId": "3d014a24-a467-4a7d-91a2-b29954d0f83e"
      },
      "execution_count": null,
      "outputs": [
        {
          "output_type": "stream",
          "name": "stdout",
          "text": [
            "[ 0.6152344  -0.0769043   0.02197266 -0.01098633  0.00878906 -0.01098633\n",
            "  0.02197266 -0.0769043   0.6152344 ]\n"
          ]
        }
      ]
    }
  ]
}