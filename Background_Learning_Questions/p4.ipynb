{
  "nbformat": 4,
  "nbformat_minor": 0,
  "metadata": {
    "colab": {
      "name": "FUSRP Problem 4.ipynb",
      "provenance": [],
      "authorship_tag": "ABX9TyNrzhoWgsQcdA/zfuA8ro4b",
      "include_colab_link": true
    },
    "kernelspec": {
      "name": "python3",
      "display_name": "Python 3"
    },
    "language_info": {
      "name": "python"
    }
  },
  "cells": [
    {
      "cell_type": "markdown",
      "metadata": {
        "id": "view-in-github",
        "colab_type": "text"
      },
      "source": [
        "<a href=\"https://colab.research.google.com/github/AmandinChyba/Project1-Fields-2022/blob/main/Background_Learning_Questions/p4.ipynb\" target=\"_parent\"><img src=\"https://colab.research.google.com/assets/colab-badge.svg\" alt=\"Open In Colab\"/></a>"
      ]
    },
    {
      "cell_type": "code",
      "execution_count": 127,
      "metadata": {
        "id": "mMDMeGotSvL0"
      },
      "outputs": [],
      "source": [
        "# imports\n",
        "import jax\n",
        "import jax.numpy as jnp\n",
        "import time\n",
        "import math\n",
        "import matplotlib.pyplot as plt"
      ]
    },
    {
      "cell_type": "code",
      "source": [
        "# part 1a\n",
        "# f(x) = exp(-10|x|) for x in [-1, 1]\n",
        "\n",
        "def compute(N: int, chebyshev=False):\n",
        "  # place nodes\n",
        "  x_n = jnp.arange(N+1)\n",
        "  if not chebyshev:\n",
        "    x_n = -1 + (2 * x_n / N)\n",
        "  else:\n",
        "    x_n = jnp.cos(math.pi * x_n / N)\n",
        "\n",
        "  # compute lambda_n\n",
        "  diffs = x_n - x_n[jnp.newaxis].T\n",
        "  diffs = diffs[~jnp.eye(x_n.shape[0], dtype=bool)].reshape(x_n.shape[0], -1)\n",
        "  lambda_n = 1 / jnp.prod(diffs, axis=1)\n",
        "\n",
        "  # create x values to interpolate\n",
        "  X = jnp.arange(-1, 1 + 1/(50 * N), 1/(50 * N))\n",
        "\n",
        "  # evaluate f(x)\n",
        "  F = jnp.exp(-10 * jnp.abs(X))\n",
        "\n",
        "  # evaluate p_n(x)\n",
        "  X = X[jnp.newaxis].T\n",
        "  lambda_n = jnp.tile(lambda_n, (len(X), 1))\n",
        "  # compute denomerator\n",
        "  denom = jnp.sum(lambda_n / (X - x_n), axis=1)\n",
        "  # compute numerator\n",
        "  numer = jnp.sum((lambda_n * jnp.exp(-10 * jnp.abs(x_n))) / (X - x_n), axis=1)\n",
        "  P = jnp.divide(numer, denom)\n",
        "\n",
        "  # compute max\n",
        "  m = jnp.max(jnp.nan_to_num(jnp.abs(F - P)))\n",
        "\n",
        "  return m, F, P"
      ],
      "metadata": {
        "id": "Gb6Sk32tTAiR"
      },
      "execution_count": 125,
      "outputs": []
    },
    {
      "cell_type": "code",
      "source": [
        "# run\n",
        "N = 100\n",
        "m, F, P = compute(N, chebyshev=True)\n",
        "\n",
        "plt.plot(F)\n",
        "plt.plot(P)\n",
        "plt.show()"
      ],
      "metadata": {
        "colab": {
          "base_uri": "https://localhost:8080/",
          "height": 265
        },
        "id": "TrzN5bzxN6zR",
        "outputId": "ee258833-2ac7-46e0-d690-6d0c53387d98"
      },
      "execution_count": 140,
      "outputs": [
        {
          "output_type": "display_data",
          "data": {
            "text/plain": [
              "<Figure size 432x288 with 1 Axes>"
            ],
            "image/png": "[encoded data removed]"
          },
          "metadata": {
            "needs_background": "light"
          }
        }
      ]
    }
  ]
}