{
  "nbformat": 4,
  "nbformat_minor": 0,
  "metadata": {
    "colab": {
      "name": "p3.ipynb",
      "provenance": [],
      "authorship_tag": "ABX9TyOBSVP8+1NqFrST+aPgthdk",
      "include_colab_link": true
    },
    "kernelspec": {
      "name": "python3",
      "display_name": "Python 3"
    },
    "language_info": {
      "name": "python"
    }
  },
  "cells": [
    {
      "cell_type": "markdown",
      "metadata": {
        "id": "view-in-github",
        "colab_type": "text"
      },
      "source": [
        "<a href=\"https://colab.research.google.com/github/AmandinChyba/Project1-Fields-2022/blob/main/Background_Learning_Questions/p3.ipynb\" target=\"_parent\"><img src=\"https://colab.research.google.com/assets/colab-badge.svg\" alt=\"Open In Colab\"/></a>"
      ]
    },
    {
      "cell_type": "code",
      "execution_count": 1,
      "metadata": {
        "id": "Xvc8jEzx5_pf"
      },
      "outputs": [],
      "source": [
        "# imports\n",
        "import jax\n",
        "import jax.numpy as jnp\n",
        "import time\n",
        "import math\n",
        "import matplotlib.pyplot as plt"
      ]
    },
    {
      "cell_type": "code",
      "source": [
        "# part 1\n",
        "N = 100\n",
        "N_simulations = 10000\n",
        "key = jax.random.PRNGKey(int(time.time()))"
      ],
      "metadata": {
        "id": "VE8s8Zbu6JWg"
      },
      "execution_count": 21,
      "outputs": []
    },
    {
      "cell_type": "code",
      "source": [
        "# {-1, 1}-valued fair coinflips\n",
        "X = jax.random.choice(key, jnp.array([-1, 1]), shape=(N_simulations, N))\n",
        "X = jnp.sum(X, axis=1)\n",
        "plt.hist(X, jnp.arange(-N/2, N/2))\n",
        "plt.show()"
      ],
      "metadata": {
        "colab": {
          "base_uri": "https://localhost:8080/",
          "height": 265
        },
        "id": "nzToq1RO7ypy",
        "outputId": "781816f2-ec39-413c-b5f8-e09687d8abd7"
      },
      "execution_count": 22,
      "outputs": [
        {
          "output_type": "display_data",
          "data": {
            "text/plain": [
              "<Figure size 432x288 with 1 Axes>"
            ],
            "image/png": "[encoded data removed]"
          },
          "metadata": {
            "needs_background": "light"
          }
        }
      ]
    },
    {
      "cell_type": "code",
      "source": [
        "# {0, 1}-valued fair coinflips\n",
        "X = jax.random.choice(key, jnp.array([0, 1]), shape=(N_simulations, N))\n",
        "X = jnp.sum(X, axis=1)\n",
        "plt.hist(X, jnp.arange(N))\n",
        "plt.show()"
      ],
      "metadata": {
        "colab": {
          "base_uri": "https://localhost:8080/",
          "height": 265
        },
        "id": "eocclzYi9LDi",
        "outputId": "92dd3d58-6e47-4918-e58f-20339df22bd3"
      },
      "execution_count": 25,
      "outputs": [
        {
          "output_type": "display_data",
          "data": {
            "text/plain": [
              "<Figure size 432x288 with 1 Axes>"
            ],
            "image/png": "[encoded data removed]"
          },
          "metadata": {
            "needs_background": "light"
          }
        }
      ]
    },
    {
      "cell_type": "code",
      "source": [
        "# s-sided fair dice rolls\n",
        "s = 6\n",
        "X = jax.random.randint(key, (N_simulations, N), 1, s+1)\n",
        "X = jnp.sum(X, axis=1)\n",
        "plt.hist(X, jnp.arange(N, N*s))\n",
        "plt.show()"
      ],
      "metadata": {
        "colab": {
          "base_uri": "https://localhost:8080/",
          "height": 265
        },
        "id": "27hSt-4-9kyb",
        "outputId": "7070cd7a-fd9b-411f-aae6-d39e81251386"
      },
      "execution_count": 32,
      "outputs": [
        {
          "output_type": "display_data",
          "data": {
            "text/plain": [
              "<Figure size 432x288 with 1 Axes>"
            ],
            "image/png": "[encoded data removed]"
          },
          "metadata": {
            "needs_background": "light"
          }
        }
      ]
    },
    {
      "cell_type": "code",
      "source": [
        "# Gaussian random variables\n",
        "mu = 0\n",
        "sigma = 1\n",
        "Z = jax.random.normal(key, (N_simulations, N))\n",
        "X = sigma*Z + mu\n",
        "X = jnp.sum(X, axis=1)\n",
        "plt.hist(X, N)\n",
        "plt.show()"
      ],
      "metadata": {
        "colab": {
          "base_uri": "https://localhost:8080/",
          "height": 265
        },
        "id": "VblXu6hMADwP",
        "outputId": "2e13a850-0c71-4915-e037-06faf59bdfe9"
      },
      "execution_count": 41,
      "outputs": [
        {
          "output_type": "display_data",
          "data": {
            "text/plain": [
              "<Figure size 432x288 with 1 Axes>"
            ],
            "image/png": "[encoded data removed]"
          },
          "metadata": {
            "needs_background": "light"
          }
        }
      ]
    }
  ]
}